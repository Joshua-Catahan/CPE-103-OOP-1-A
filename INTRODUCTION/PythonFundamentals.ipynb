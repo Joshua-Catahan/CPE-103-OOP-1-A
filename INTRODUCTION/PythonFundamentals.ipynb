{
  "nbformat": 4,
  "nbformat_minor": 0,
  "metadata": {
    "colab": {
      "provenance": [],
      "include_colab_link": true
    },
    "kernelspec": {
      "name": "python3",
      "display_name": "Python 3"
    },
    "language_info": {
      "name": "python"
    }
  },
  "cells": [
    {
      "cell_type": "markdown",
      "metadata": {
        "id": "view-in-github",
        "colab_type": "text"
      },
      "source": [
        "<a href=\"https://colab.research.google.com/github/Joshua-Catahan/CPE-103-OOP-1-A/blob/main/PythonFundamentals.ipynb\" target=\"_parent\"><img src=\"https://colab.research.google.com/assets/colab-badge.svg\" alt=\"Open In Colab\"/></a>"
      ]
    },
    {
      "cell_type": "markdown",
      "source": [
        "PYTHON INDENTATION"
      ],
      "metadata": {
        "id": "o4LMwtrPF9bx"
      }
    },
    {
      "cell_type": "code",
      "execution_count": null,
      "metadata": {
        "id": "o0NqysAyEkSC",
        "colab": {
          "base_uri": "https://localhost:8080/"
        },
        "outputId": "b3362c3b-ff3b-4248-9667-4abe2d155b6a"
      },
      "outputs": [
        {
          "output_type": "stream",
          "name": "stdout",
          "text": [
            "Five is greater than two!\n"
          ]
        }
      ],
      "source": [
        "x=5\n",
        "y=2\n",
        "if x > y:\n",
        " print(\"Five is greater than two!\")\n"
      ]
    },
    {
      "cell_type": "markdown",
      "source": [
        "PYTHON COMMENTS"
      ],
      "metadata": {
        "id": "WliwjLNVIr0z"
      }
    },
    {
      "cell_type": "code",
      "source": [
        "#This is a comment\n",
        "print(\"Hello, World!\")"
      ],
      "metadata": {
        "colab": {
          "base_uri": "https://localhost:8080/"
        },
        "id": "5_KI_FaHJvex",
        "outputId": "72838c50-6d1a-47a7-9b1d-96dd79ac869b"
      },
      "execution_count": null,
      "outputs": [
        {
          "output_type": "stream",
          "name": "stdout",
          "text": [
            "Hello, World!\n"
          ]
        }
      ]
    },
    {
      "cell_type": "markdown",
      "source": [
        "VARIABLE NAMING CONVENTIONS"
      ],
      "metadata": {
        "id": "ZZ6tbCR4Jnnp"
      }
    },
    {
      "cell_type": "code",
      "source": [
        "#EXAMPLES IN PPT\n",
        "\n",
        "myvar = \"John\"\n",
        "2myvar = \"John\" #not valid\n",
        "_my_var = \"John\"\n",
        "myVar = \"John\"\n",
        "my var = \"John\" #not valid"
      ],
      "metadata": {
        "colab": {
          "base_uri": "https://localhost:8080/",
          "height": 110
        },
        "id": "HKBryCG2Jsnp",
        "outputId": "7620c85b-1274-423a-cc5a-6b536372136c"
      },
      "execution_count": null,
      "outputs": [
        {
          "output_type": "error",
          "ename": "SyntaxError",
          "evalue": "invalid decimal literal (<ipython-input-2-de420672b487>, line 4)",
          "traceback": [
            "\u001b[0;36m  File \u001b[0;32m\"<ipython-input-2-de420672b487>\"\u001b[0;36m, line \u001b[0;32m4\u001b[0m\n\u001b[0;31m    2myvar = \"John\" #not valid\u001b[0m\n\u001b[0m    ^\u001b[0m\n\u001b[0;31mSyntaxError\u001b[0m\u001b[0;31m:\u001b[0m invalid decimal literal\n"
          ]
        }
      ]
    },
    {
      "cell_type": "markdown",
      "source": [
        "PYTHON VARIABLE"
      ],
      "metadata": {
        "id": "Mt4Pt_MmKZoq"
      }
    },
    {
      "cell_type": "code",
      "source": [
        "x = 1\n",
        "a, b = 0, -1\n",
        "a, b, c = 0, -1, 2\n",
        "b= \"Sally\" #this is a type of string\n",
        "print(b)"
      ],
      "metadata": {
        "colab": {
          "base_uri": "https://localhost:8080/"
        },
        "id": "x-Sw1A-oKeTp",
        "outputId": "7efa64b3-3986-45e8-d6b5-e5cc0a6f3907"
      },
      "execution_count": null,
      "outputs": [
        {
          "output_type": "stream",
          "name": "stdout",
          "text": [
            "Sally\n"
          ]
        }
      ]
    },
    {
      "cell_type": "markdown",
      "source": [
        "CASTING"
      ],
      "metadata": {
        "id": "L0bYU3jjMIly"
      }
    },
    {
      "cell_type": "code",
      "source": [
        "b = \"sally\" #This is a type of string\n",
        "b = int (4)\n",
        "print (b)\n",
        "\n",
        "b=float(4)\n",
        "print (b)"
      ],
      "metadata": {
        "colab": {
          "base_uri": "https://localhost:8080/"
        },
        "id": "x5_pwGg8MPdr",
        "outputId": "5dc84ed4-1e8c-44e2-92ac-ac6f19bfc4ac"
      },
      "execution_count": null,
      "outputs": [
        {
          "output_type": "stream",
          "name": "stdout",
          "text": [
            "4\n",
            "4.0\n"
          ]
        }
      ]
    },
    {
      "cell_type": "markdown",
      "source": [
        "TYPE () FUNCTION"
      ],
      "metadata": {
        "id": "vrZcg-PuN9Ey"
      }
    },
    {
      "cell_type": "code",
      "source": [
        "x=5\n",
        "y=\"John\"\n",
        "print(type(x))\n",
        "print(type(y))"
      ],
      "metadata": {
        "colab": {
          "base_uri": "https://localhost:8080/"
        },
        "id": "zOyi7MlYOADB",
        "outputId": "22bd9865-18ca-49b3-f3bf-b9b0f54b4e37"
      },
      "execution_count": null,
      "outputs": [
        {
          "output_type": "stream",
          "name": "stdout",
          "text": [
            "<class 'int'>\n",
            "<class 'str'>\n"
          ]
        }
      ]
    },
    {
      "cell_type": "markdown",
      "source": [
        "\"DOUBLE QUOTES\" OR 'SINGLE' QUOTES"
      ],
      "metadata": {
        "id": "cp4k-uQcOHJj"
      }
    },
    {
      "cell_type": "code",
      "source": [
        "x = \"John\"\n",
        "print (x)\n",
        "\n",
        "y = 'John'\n",
        "\n",
        "print (y)"
      ],
      "metadata": {
        "colab": {
          "base_uri": "https://localhost:8080/"
        },
        "id": "GgpRDUmsORoi",
        "outputId": "20b638a9-4d8c-4685-d0cc-a6136638f638"
      },
      "execution_count": null,
      "outputs": [
        {
          "output_type": "stream",
          "name": "stdout",
          "text": [
            "John\n",
            "John\n"
          ]
        }
      ]
    },
    {
      "cell_type": "markdown",
      "source": [
        "CASE SENSITIVE"
      ],
      "metadata": {
        "id": "kMAmY0taOlgJ"
      }
    },
    {
      "cell_type": "code",
      "source": [
        "a = 4\n",
        "A = \"Sally\"\n",
        "#A WILL NOT OVERWRITE a\n",
        "print(a)\n",
        "print(A)"
      ],
      "metadata": {
        "colab": {
          "base_uri": "https://localhost:8080/"
        },
        "id": "iUz1VVVNPQ26",
        "outputId": "16603a6c-6b64-41f8-de3b-6bf6df6548ff"
      },
      "execution_count": null,
      "outputs": [
        {
          "output_type": "stream",
          "name": "stdout",
          "text": [
            "4\n",
            "Sally\n"
          ]
        }
      ]
    },
    {
      "cell_type": "markdown",
      "source": [
        "MULTIPLE VARIABLES"
      ],
      "metadata": {
        "id": "lF1kKlfxO5Ha"
      }
    },
    {
      "cell_type": "code",
      "source": [
        "a, b, c = \"one\", \"two\", \"three\"\n",
        "print(a)\n",
        "print(b)\n",
        "print(c)"
      ],
      "metadata": {
        "colab": {
          "base_uri": "https://localhost:8080/"
        },
        "id": "Fc32g8P9Pgzi",
        "outputId": "c5a5a07b-9412-4bbc-f44f-bd32273e6417"
      },
      "execution_count": null,
      "outputs": [
        {
          "output_type": "stream",
          "name": "stdout",
          "text": [
            "one\n",
            "two\n",
            "three\n"
          ]
        }
      ]
    },
    {
      "cell_type": "markdown",
      "source": [
        "ONE VALULE TO MULTIPLE VARIABLES"
      ],
      "metadata": {
        "id": "QaffKVjSPzpK"
      }
    },
    {
      "cell_type": "code",
      "source": [
        "x = y = z = \"four\"\n",
        "print (x)\n",
        "print (y)\n",
        "print (z)"
      ],
      "metadata": {
        "colab": {
          "base_uri": "https://localhost:8080/"
        },
        "id": "6mzmHx8qP3vT",
        "outputId": "3fdd8185-4d1e-46e0-f901-c6459b580f64"
      },
      "execution_count": null,
      "outputs": [
        {
          "output_type": "stream",
          "name": "stdout",
          "text": [
            "four\n",
            "four\n",
            "four\n"
          ]
        }
      ]
    },
    {
      "cell_type": "markdown",
      "source": [
        "OUTPUT VARIABLES"
      ],
      "metadata": {
        "id": "Jwv78JLpQEqy"
      }
    },
    {
      "cell_type": "code",
      "source": [
        "x = \"enjoying\"\n",
        "print(\"Python programming is \" + x)\n",
        "\n",
        "x= \"Python is \"\n",
        "y= \"enjoying\"\n",
        "z=x+y\n",
        "print(z)"
      ],
      "metadata": {
        "colab": {
          "base_uri": "https://localhost:8080/"
        },
        "id": "fVpLTEscQHt6",
        "outputId": "f6d72b09-9600-4fe0-cedc-bb29d2ae9ba9"
      },
      "execution_count": null,
      "outputs": [
        {
          "output_type": "stream",
          "name": "stdout",
          "text": [
            "Python programming is enjoying\n",
            "Python is enjoying\n"
          ]
        }
      ]
    },
    {
      "cell_type": "markdown",
      "source": [
        "ARITHMETIC OPERATIONS"
      ],
      "metadata": {
        "id": "CUMsU51vQjP7"
      }
    },
    {
      "cell_type": "code",
      "source": [
        "x = 10\n",
        "y = 3\n",
        "\n",
        "#exponentiation\n",
        "x**y\n",
        "print(x**y)\n",
        "#division\n",
        "x/y\n",
        "print(x/y)\n",
        "#floor division\n",
        "x//y\n",
        "print(x//y)\n",
        "#multiplication\n",
        "x*y\n",
        "print(x*y)\n",
        "#modulus\n",
        "x%y\n",
        "print(x%y)\n",
        "#subtraction\n",
        "x-y\n",
        "print (x-y)\n",
        "#addition\n",
        "x+y\n",
        "print(x+y)"
      ],
      "metadata": {
        "colab": {
          "base_uri": "https://localhost:8080/"
        },
        "id": "2BGXAfjsQ3BU",
        "outputId": "674385f5-5404-41f9-a736-c2c5b050638f"
      },
      "execution_count": null,
      "outputs": [
        {
          "output_type": "stream",
          "name": "stdout",
          "text": [
            "1000\n",
            "3.3333333333333335\n",
            "3\n",
            "30\n",
            "1\n",
            "7\n",
            "13\n"
          ]
        }
      ]
    },
    {
      "cell_type": "markdown",
      "source": [
        "ASSIGNMENT OPERATORS"
      ],
      "metadata": {
        "id": "yGLAyismSP17"
      }
    },
    {
      "cell_type": "code",
      "source": [
        "a,b,c, = 0, -1, 6\n",
        "a+=2\n",
        "print(a)\n",
        "b-=3\n",
        "print(b)\n",
        "c*=2\n",
        "print(c)"
      ],
      "metadata": {
        "colab": {
          "base_uri": "https://localhost:8080/"
        },
        "id": "uG7WoPOgSVNL",
        "outputId": "1a475421-291a-4655-c562-1994a5663e00"
      },
      "execution_count": null,
      "outputs": [
        {
          "output_type": "stream",
          "name": "stdout",
          "text": [
            "2\n",
            "-4\n",
            "12\n"
          ]
        }
      ]
    },
    {
      "cell_type": "markdown",
      "source": [
        "COMPARISON OPERATORS"
      ],
      "metadata": {
        "id": "47Bs6UB_S4ir"
      }
    },
    {
      "cell_type": "code",
      "source": [
        "X = 100\n",
        "Y = 99\n",
        "\n",
        "X>=Y"
      ],
      "metadata": {
        "colab": {
          "base_uri": "https://localhost:8080/"
        },
        "id": "hgKnybEhS7fi",
        "outputId": "48da4f43-b842-4ea7-e6e7-53fe5c3189ee"
      },
      "execution_count": null,
      "outputs": [
        {
          "output_type": "execute_result",
          "data": {
            "text/plain": [
              "True"
            ]
          },
          "metadata": {},
          "execution_count": 60
        }
      ]
    },
    {
      "cell_type": "markdown",
      "source": [
        "LOGICAL OPERATORS"
      ],
      "metadata": {
        "id": "kcJSjDfQTQDq"
      }
    },
    {
      "cell_type": "code",
      "source": [
        "a, b, c = 0,-1,6\n",
        "a>b and c>b\n"
      ],
      "metadata": {
        "colab": {
          "base_uri": "https://localhost:8080/"
        },
        "id": "jUdA1K-FTSWp",
        "outputId": "2e82e8a6-d5fb-4942-ef23-e133971165ff"
      },
      "execution_count": null,
      "outputs": [
        {
          "output_type": "execute_result",
          "data": {
            "text/plain": [
              "True"
            ]
          },
          "metadata": {},
          "execution_count": 61
        }
      ]
    },
    {
      "cell_type": "markdown",
      "source": [
        "IDENTITY OPERATORS"
      ],
      "metadata": {
        "id": "dMkdKW9CTwQq"
      }
    },
    {
      "cell_type": "code",
      "source": [
        "a,b,c=0,-1,5\n",
        "a is c"
      ],
      "metadata": {
        "colab": {
          "base_uri": "https://localhost:8080/"
        },
        "id": "auwIFQmGTy4C",
        "outputId": "2d263171-b6a9-4745-f229-8c02cb7413d2"
      },
      "execution_count": null,
      "outputs": [
        {
          "output_type": "execute_result",
          "data": {
            "text/plain": [
              "False"
            ]
          },
          "metadata": {},
          "execution_count": 62
        }
      ]
    },
    {
      "cell_type": "markdown",
      "source": [
        "BITWISE OPERATORS"
      ],
      "metadata": {
        "id": "9YNkx5lLT6aa"
      }
    },
    {
      "cell_type": "code",
      "source": [
        "#DECIMAL TO BINARY\n",
        "#10 = 1010\n",
        "#DECIMAL TO BINARY\n",
        "#10 = 1010\n",
        "\n",
        "x= 10\n",
        "print(x >> 1)"
      ],
      "metadata": {
        "colab": {
          "base_uri": "https://localhost:8080/"
        },
        "id": "pWokRmTOUJxF",
        "outputId": "d6180f07-981d-480b-ba76-9e29c595ab99"
      },
      "execution_count": null,
      "outputs": [
        {
          "output_type": "stream",
          "name": "stdout",
          "text": [
            "5\n"
          ]
        }
      ]
    },
    {
      "cell_type": "markdown",
      "source": [
        "APPLICATION 1"
      ],
      "metadata": {
        "id": "XeOen1kpYRrt"
      }
    },
    {
      "cell_type": "code",
      "source": [
        "# Square\n",
        "print (\"Area of the Square Calculator\")\n",
        "\n",
        "print (\"What is the side of the square: \")\n",
        "SQUAREside = input()\n",
        "SQUAREside = int(SQUAREside)\n",
        "l = SQUAREside\n",
        "print (\"The area of the square is: \")\n",
        "print (l*l)"
      ],
      "metadata": {
        "colab": {
          "base_uri": "https://localhost:8080/"
        },
        "id": "pefbhfHyYa_0",
        "outputId": "dc1645ac-a511-4608-a433-adbe3d4cf0b0"
      },
      "execution_count": null,
      "outputs": [
        {
          "output_type": "stream",
          "name": "stdout",
          "text": [
            "Area of the Square Calculator\n",
            "What is the side of the square: \n",
            "5\n",
            "The area of the square is: \n",
            "25\n"
          ]
        }
      ]
    },
    {
      "cell_type": "code",
      "source": [
        "# Triangle\n",
        "print (\"Area of the Triangle Calculator\")\n",
        "\n",
        "print (\"What is the base of the triangle: \")\n",
        "base = input()\n",
        "base = int(base)\n",
        "print (\"What is the height of the triangle: \")\n",
        "height = input()\n",
        "height = int(height)\n",
        "print (\"The area of the triangle is: \")\n",
        "print ((base*height)/2)"
      ],
      "metadata": {
        "colab": {
          "base_uri": "https://localhost:8080/"
        },
        "id": "dEk55APPc3Ds",
        "outputId": "3a711205-5fa6-4d06-8adc-2e271fdf22c4"
      },
      "execution_count": 1,
      "outputs": [
        {
          "output_type": "stream",
          "name": "stdout",
          "text": [
            "Area of the Triangle Calculator\n",
            "What is the base of the triangle: \n",
            "12\n",
            "What is the height of the triangle: \n",
            "10\n",
            "The area of the triangle is: \n",
            "60.0\n"
          ]
        }
      ]
    },
    {
      "cell_type": "code",
      "source": [
        "# Trapezoid\n",
        "print (\"Area of the Trapezoid Calculator\")\n",
        "\n",
        "print (\"What is the base a of the trapezoid: \")\n",
        "basea = input()\n",
        "basea = int(basea)\n",
        "print (\"What is the base b of the trapezoid: \")\n",
        "baseb = input()\n",
        "baseb = int(baseb)\n",
        "print (\"What is the height of the trapezoid: \")\n",
        "height = input()\n",
        "height = int(height)\n",
        "print (\"The area of the trapezoid is: \")\n",
        "print ((10(basea+baseb)/2)*height)\n"
      ],
      "metadata": {
        "colab": {
          "base_uri": "https://localhost:8080/"
        },
        "id": "WlYWdK4Pc7ZE",
        "outputId": "9a6c8473-2877-4c5d-82da-e5288bde386a"
      },
      "execution_count": null,
      "outputs": [
        {
          "output_type": "stream",
          "name": "stdout",
          "text": [
            "Area of the Trapezoid Calculator\n",
            "What is the base a of the trapezoid: \n",
            "100\n",
            "What is the base b of the trapezoid: \n",
            "100\n",
            "What is the height of the trapezoid: \n",
            "2\n",
            "The area of the trapezoid is: \n",
            "200.0\n"
          ]
        }
      ]
    }
  ]
}