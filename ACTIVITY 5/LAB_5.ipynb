{
  "nbformat": 4,
  "nbformat_minor": 0,
  "metadata": {
    "colab": {
      "provenance": [],
      "authorship_tag": "ABX9TyNPcYSB3JeUA+qT50a5IFyU",
      "include_colab_link": true
    },
    "kernelspec": {
      "name": "python3",
      "display_name": "Python 3"
    },
    "language_info": {
      "name": "python"
    }
  },
  "cells": [
    {
      "cell_type": "markdown",
      "metadata": {
        "id": "view-in-github",
        "colab_type": "text"
      },
      "source": [
        "<a href=\"https://colab.research.google.com/github/Joshua-Catahan/CPE-103-OOP-1-A/blob/main/LAB_5.ipynb\" target=\"_parent\"><img src=\"https://colab.research.google.com/assets/colab-badge.svg\" alt=\"Open In Colab\"/></a>"
      ]
    },
    {
      "cell_type": "markdown",
      "source": [
        "# **Functions**\n",
        "# **Exploring built-in functions**\n"
      ],
      "metadata": {
        "id": "101Wztae9QVN"
      }
    },
    {
      "cell_type": "markdown",
      "source": [
        "1.\tCreate a folder named builtinfunctions\n",
        "2.\tCreate a Python file inside the functions1 folder named evaluator.py and copy the code shown below:"
      ],
      "metadata": {
        "id": "6WLt3hhX7hHP"
      }
    },
    {
      "cell_type": "code",
      "execution_count": 1,
      "metadata": {
        "colab": {
          "base_uri": "https://localhost:8080/"
        },
        "id": "7QCnB80u6gH8",
        "outputId": "54006b2e-1127-48a1-cce4-cc221af4757a"
      },
      "outputs": [
        {
          "output_type": "stream",
          "name": "stdout",
          "text": [
            "Propositional logic evaluator for discrete math\n",
            "How many variables? (2 or 3): 2\n",
            "Note: Only the letters A, B, and C are allowed to be used.\n",
            "Enter the propositional logic expression: A\n",
            "A B f\n",
            "0 0 0\n",
            "0 1 0\n",
            "1 0 1\n",
            "1 1 1\n"
          ]
        }
      ],
      "source": [
        "# evaluator.py\n",
        "# Propositional logic evaluator for discrete math (supports 2-3 variables)\n",
        "\n",
        "print(\"Propositional logic evaluator for discrete math\")\n",
        "\n",
        "# Get number of variables\n",
        "variables = int(input(\"How many variables? (2 or 3): \"))\n",
        "while variables not in [2, 3]:\n",
        "    print(\"Invalid input. Please enter 2 or 3.\")\n",
        "    variables = int(input(\"How many variables? (2 or 3): \"))\n",
        "\n",
        "total_combinations = 2 ** variables\n",
        "combinations_list = []\n",
        "\n",
        "# Generate binary combinations\n",
        "for i in range(total_combinations):\n",
        "    bin_equivalent = bin(i)[2:].zfill(variables)\n",
        "    combinations_list.append(tuple(int(val) for val in bin_equivalent))\n",
        "\n",
        "# Get logical expression\n",
        "print(\"Note: Only the letters A, B, and C are allowed to be used.\")\n",
        "expression = input(\"Enter the propositional logic expression: \")\n",
        "\n",
        "# Evaluate and print truth table\n",
        "if variables == 2:\n",
        "    print(\"A B f\")\n",
        "    for A, B in combinations_list:\n",
        "        f = eval(expression, {}, {\"A\": A, \"B\": B})\n",
        "        print(A, B, f)\n",
        "elif variables == 3:\n",
        "    print(\"A B C f\")\n",
        "    for A, B, C in combinations_list:\n",
        "        f = eval(expression, {}, {\"A\": A, \"B\": B, \"C\": C})\n",
        "        print(A, B, C, f)\n"
      ]
    },
    {
      "cell_type": "markdown",
      "source": [
        "Note: and, or, not must be small cases.\n",
        "3.\tRun the program and observe the output. Try to analyze the purpose of the built-in functions used in the program (the keywords in color violet).\n",
        "4.\tYou may modify the code in order to study it as it will be used later in the next sections of the activity.\n"
      ],
      "metadata": {
        "id": "xpVj9mCn8_tN"
      }
    },
    {
      "cell_type": "markdown",
      "source": [
        "# **Using the open() function for file handling**"
      ],
      "metadata": {
        "id": "kideLIue9Go8"
      }
    },
    {
      "cell_type": "markdown",
      "source": [
        "1.\tCreate a folder named filehandling outside of builtinfunctions folder\n",
        "2.\tCreate a Python file inside the filehandling folder named filewriter.py\n",
        "3.\tOpen the filehandler.py using Spyder IDE and type the code as shown below:"
      ],
      "metadata": {
        "id": "LK6QtZy29avF"
      }
    },
    {
      "cell_type": "code",
      "source": [
        "#filewriter.py\n",
        "\n",
        "name = \"Royce Chua\"\n",
        "file = open(\"newfile1.txt\",'w')\n",
        "file.write(f\"Hello, {name}!\\n\")\n",
        "file.write(\"Isn't this amazing!\\n\")\n",
        "file.write(\"that we can create and write on text files\\n\")\n",
        "file.write(\"using Python.\")\n",
        "file.close()"
      ],
      "metadata": {
        "id": "Rt00QRe78_Cm"
      },
      "execution_count": 2,
      "outputs": []
    },
    {
      "cell_type": "markdown",
      "source": [
        "Note: You may use help(open) either in a Python program or in the shell for more information about the built-in function.\n",
        "4.\tRun the program and observe the output.\n",
        "5.\tModify the program to create a file called newfile2.txt and print the message (excluding the “ “)\n"
      ],
      "metadata": {
        "id": "jn-nB04R9249"
      }
    },
    {
      "cell_type": "code",
      "source": [
        "#newfile2.txt\n",
        "\n",
        "file = open(\"newfile2.txt\", 'w')\n",
        "file.write(\"This message was created using Python!\\n\")\n",
        "file.close()"
      ],
      "metadata": {
        "id": "Is5FC2_EBxuG"
      },
      "execution_count": 3,
      "outputs": []
    },
    {
      "cell_type": "markdown",
      "source": [
        "6.\tCreate another Python file inside the filehandling folder named filereader.py and type the code as shown below:"
      ],
      "metadata": {
        "id": "haj6f3WBCOHt"
      }
    },
    {
      "cell_type": "code",
      "source": [
        "file = open(\"new.txt\", 'r')\n",
        "data = file.read ()\n",
        "print (data)\n",
        "file.close ()"
      ],
      "metadata": {
        "colab": {
          "base_uri": "https://localhost:8080/",
          "height": 201
        },
        "id": "G9bE2GJVnwCc",
        "outputId": "36db3f48-af6e-4230-e63e-410b6879db98"
      },
      "execution_count": 4,
      "outputs": [
        {
          "output_type": "error",
          "ename": "FileNotFoundError",
          "evalue": "[Errno 2] No such file or directory: 'new.txt'",
          "traceback": [
            "\u001b[0;31m---------------------------------------------------------------------------\u001b[0m",
            "\u001b[0;31mFileNotFoundError\u001b[0m                         Traceback (most recent call last)",
            "\u001b[0;32m<ipython-input-4-a721264d57e9>\u001b[0m in \u001b[0;36m<cell line: 0>\u001b[0;34m()\u001b[0m\n\u001b[0;32m----> 1\u001b[0;31m \u001b[0mfile\u001b[0m \u001b[0;34m=\u001b[0m \u001b[0mopen\u001b[0m\u001b[0;34m(\u001b[0m\u001b[0;34m\"new.txt\"\u001b[0m\u001b[0;34m,\u001b[0m \u001b[0;34m'r'\u001b[0m\u001b[0;34m)\u001b[0m\u001b[0;34m\u001b[0m\u001b[0;34m\u001b[0m\u001b[0m\n\u001b[0m\u001b[1;32m      2\u001b[0m \u001b[0mdata\u001b[0m \u001b[0;34m=\u001b[0m \u001b[0mfile\u001b[0m\u001b[0;34m.\u001b[0m\u001b[0mread\u001b[0m \u001b[0;34m(\u001b[0m\u001b[0;34m)\u001b[0m\u001b[0;34m\u001b[0m\u001b[0;34m\u001b[0m\u001b[0m\n\u001b[1;32m      3\u001b[0m \u001b[0mprint\u001b[0m \u001b[0;34m(\u001b[0m\u001b[0mdata\u001b[0m\u001b[0;34m)\u001b[0m\u001b[0;34m\u001b[0m\u001b[0;34m\u001b[0m\u001b[0m\n\u001b[1;32m      4\u001b[0m \u001b[0mfile\u001b[0m\u001b[0;34m.\u001b[0m\u001b[0mclose\u001b[0m \u001b[0;34m(\u001b[0m\u001b[0;34m)\u001b[0m\u001b[0;34m\u001b[0m\u001b[0;34m\u001b[0m\u001b[0m\n",
            "\u001b[0;31mFileNotFoundError\u001b[0m: [Errno 2] No such file or directory: 'new.txt'"
          ]
        }
      ]
    },
    {
      "cell_type": "markdown",
      "source": [
        "7.\tIt should display an error. Identify and resolve the cause of the error based on the message given by Python. The file that should be read is newfile1.\n",
        "8.\tAfter fixing the error, run the program again and observe the output."
      ],
      "metadata": {
        "id": "EZHhF3Acn0Q8"
      }
    },
    {
      "cell_type": "code",
      "source": [
        "file = open(\"newfile1.txt\", 'r')\n",
        "data = file.read ()\n",
        "print (data)\n",
        "file.close ()"
      ],
      "metadata": {
        "colab": {
          "base_uri": "https://localhost:8080/"
        },
        "id": "6D_59sbrnzDL",
        "outputId": "3d02f079-7b44-474e-e08d-a6f5a028dd27"
      },
      "execution_count": 5,
      "outputs": [
        {
          "output_type": "stream",
          "name": "stdout",
          "text": [
            "Hello, Royce Chua!\n",
            "Isn't this amazing!\n",
            "that we can create and write on text files\n",
            "using Python.\n"
          ]
        }
      ]
    },
    {
      "cell_type": "markdown",
      "source": [
        "9.\tModify the filereader.py program so that the message of newfile2.txt is displayed."
      ],
      "metadata": {
        "id": "h070x1dGn5X7"
      }
    },
    {
      "cell_type": "code",
      "source": [
        "file = open(\"newfile2.txt\", 'r')\n",
        "data = file.read ()\n",
        "print (data)\n",
        "file.close ()"
      ],
      "metadata": {
        "id": "jvnQW3zB8r62",
        "colab": {
          "base_uri": "https://localhost:8080/"
        },
        "outputId": "03a42342-6949-4ae9-b632-9ea2cb1dfaf7"
      },
      "execution_count": 6,
      "outputs": [
        {
          "output_type": "stream",
          "name": "stdout",
          "text": [
            "This message was created using Python!\n",
            "\n"
          ]
        }
      ]
    },
    {
      "cell_type": "markdown",
      "source": [
        "10.\tModify again the program with the following code below:"
      ],
      "metadata": {
        "id": "dcsmGNLkoXWj"
      }
    },
    {
      "cell_type": "code",
      "source": [
        "file = open(\"newfile2.txt\", 'r')\n",
        "data = file.read (12)\n",
        "print (data)\n",
        "file.close ()"
      ],
      "metadata": {
        "colab": {
          "base_uri": "https://localhost:8080/"
        },
        "id": "Tuzv-t69oYCT",
        "outputId": "1e856c8e-0272-4d2c-dc3b-5edb6563e6fa"
      },
      "execution_count": 7,
      "outputs": [
        {
          "output_type": "stream",
          "name": "stdout",
          "text": [
            "This message\n"
          ]
        }
      ]
    },
    {
      "cell_type": "markdown",
      "source": [
        "11.\tCreate a new Python file still inside the oop1 folder called fileappender.py and copy the code shown below:"
      ],
      "metadata": {
        "id": "tDI-HKgYortt"
      }
    },
    {
      "cell_type": "code",
      "source": [
        "file = open(\"newfile2.txt\", 'a')\n",
        "file.write (\"and also by the programmer of course.\")\n",
        "file.close ()"
      ],
      "metadata": {
        "id": "RgT_rfssoxPH"
      },
      "execution_count": 8,
      "outputs": []
    },
    {
      "cell_type": "markdown",
      "source": [
        "12.\tRun the program and observe the output."
      ],
      "metadata": {
        "id": "O47UvK06o_ym"
      }
    },
    {
      "cell_type": "markdown",
      "source": [
        "# **User-defined Functions**"
      ],
      "metadata": {
        "id": "Njpedo9IqAQg"
      }
    },
    {
      "cell_type": "markdown",
      "source": [
        "1.\tCreate a new folder called userfunctions outside of filehandling folder\n",
        "2.\tIn the userfunctions folder create a program called truthtablegenerator.py and copy the code below:\n",
        "\n"
      ],
      "metadata": {
        "id": "PiIgErGmqCqG"
      }
    },
    {
      "cell_type": "code",
      "source": [
        "def generate_truthtable(number_of_variables):\n",
        "  total_combinations = 2**number_of_variables\n",
        "  combinations_list = []\n",
        "  for i in range(total_combinations):\n",
        "    bin_equivalent = bin(i) [2:]\n",
        "    while len(bin_equivalent) <number_of_variables:\n",
        "        bin_equivalent=\"0\"+bin_equivalent\n",
        "    combinations_list.append(tuple (int(val) for val in bin_equivalent))\n",
        "  return combinations_list\n",
        "\n",
        "print(generate_truthtable(3))"
      ],
      "metadata": {
        "colab": {
          "base_uri": "https://localhost:8080/"
        },
        "id": "rdrekXhZqGJu",
        "outputId": "67c4f5e0-647f-495a-db1a-0def6c7a7f6f"
      },
      "execution_count": 9,
      "outputs": [
        {
          "output_type": "stream",
          "name": "stdout",
          "text": [
            "[(0, 0, 0), (0, 0, 1), (0, 1, 0), (0, 1, 1), (1, 0, 0), (1, 0, 1), (1, 1, 0), (1, 1, 1)]\n"
          ]
        }
      ]
    },
    {
      "cell_type": "markdown",
      "source": [
        "3.\tRun the program and observe the output.\n",
        "4.\tModify the program by changing print(generate_truthtable(3)) to print(generate_truthtable()) then run the program\n"
      ],
      "metadata": {
        "id": "VZcIWmygrMYJ"
      }
    },
    {
      "cell_type": "code",
      "source": [
        "def generate_truthtable(number_of_variables):\n",
        "  total_combinations = 2**number_of_variables\n",
        "  combinations_list = []\n",
        "  for i in range(total_combinations):\n",
        "    bin_equivalent = bin(i) [2:]\n",
        "    while len(bin_equivalent) <number_of_variables:\n",
        "        bin_equivalent=\"0\"+bin_equivalent\n",
        "    combinations_list.append(tuple (int(val) for val in bin_equivalent))\n",
        "  return combinations_list\n",
        "\n",
        "print(generate_truthtable())"
      ],
      "metadata": {
        "colab": {
          "base_uri": "https://localhost:8080/",
          "height": 183
        },
        "id": "sO1nFJGhrNAA",
        "outputId": "ccb09a02-5714-4fda-8778-b428fa929213"
      },
      "execution_count": 10,
      "outputs": [
        {
          "output_type": "error",
          "ename": "TypeError",
          "evalue": "generate_truthtable() missing 1 required positional argument: 'number_of_variables'",
          "traceback": [
            "\u001b[0;31m---------------------------------------------------------------------------\u001b[0m",
            "\u001b[0;31mTypeError\u001b[0m                                 Traceback (most recent call last)",
            "\u001b[0;32m<ipython-input-10-4c5e4d1377ff>\u001b[0m in \u001b[0;36m<cell line: 0>\u001b[0;34m()\u001b[0m\n\u001b[1;32m      9\u001b[0m   \u001b[0;32mreturn\u001b[0m \u001b[0mcombinations_list\u001b[0m\u001b[0;34m\u001b[0m\u001b[0;34m\u001b[0m\u001b[0m\n\u001b[1;32m     10\u001b[0m \u001b[0;34m\u001b[0m\u001b[0m\n\u001b[0;32m---> 11\u001b[0;31m \u001b[0mprint\u001b[0m\u001b[0;34m(\u001b[0m\u001b[0mgenerate_truthtable\u001b[0m\u001b[0;34m(\u001b[0m\u001b[0;34m)\u001b[0m\u001b[0;34m)\u001b[0m\u001b[0;34m\u001b[0m\u001b[0;34m\u001b[0m\u001b[0m\n\u001b[0m",
            "\u001b[0;31mTypeError\u001b[0m: generate_truthtable() missing 1 required positional argument: 'number_of_variables'"
          ]
        }
      ]
    },
    {
      "cell_type": "markdown",
      "source": [
        "5.\tAn error should occur, modify the program according to the code shown below:"
      ],
      "metadata": {
        "id": "4uhkdi_SrU7w"
      }
    },
    {
      "cell_type": "code",
      "source": [
        "def generate_truthtable(number_of_variables=0):\n",
        "    if number_of_variables == 0:\n",
        "        return \"You need to enter an integer\"\n",
        "    else:\n",
        "        total_combinations = 2**number_of_variables\n",
        "        combinations_list = []\n",
        "        for i in range(total_combinations):\n",
        "            bin_equivalent = bin(i)[2:]\n",
        "            while len(bin_equivalent) <number_of_variables:\n",
        "                bin_equivalent=\"0\"+bin_equivalent\n",
        "            combinations_list.append(tuple (int(val) for val in bin_equivalent))\n",
        "        return combinations_list"
      ],
      "metadata": {
        "id": "LSAr5PFRrXGZ"
      },
      "execution_count": 11,
      "outputs": []
    },
    {
      "cell_type": "markdown",
      "source": [
        "6.\tIn the same file/program, create a new function with the name evaluate_propositional_logic(). The parameter is c_list(combinations list) and the code can be found under the # main program comment in the first program made earlier.\n",
        "7.\tAfter successfully placing the code in the function, call the function using this code\n",
        "evaluate_propositional_logic(generate_truthtable(3))\n",
        "8.\tAnalyze why in the generate_truthtable function we needed to print the function whereas in the evaluate_propositional_logic function, it prints the values on its own.\n",
        "\n",
        "  - generate_truthtable() returns a list, so we need to print it manually if required. evaluate_propositional_logic() directly prints the output since it processes and formats the results inside the loops.\n",
        "\n",
        "9.\tCompare the program truthtablegenerator.py with evaluator.py. Identify the advantages of placing code within functions against the sequential code done in the first.\n",
        "\n",
        "  - Using functions, like in truthgenerator.py, makes the code easier to read and modify. It allows parts of the program to be reused without rewriting them. Debugging and testing are also simpler since each function does a specific job. On the other hand, evaluator.py follows a step-by-step approach which can make the code harder to update and reuse. Overall, using functions keeps the program neat and easy to manage.\n",
        "\n",
        "\n",
        "\n",
        "\n",
        "\n",
        "\n",
        "\n",
        "\n"
      ],
      "metadata": {
        "id": "iMBCfxHOsboU"
      }
    },
    {
      "cell_type": "code",
      "source": [
        "\n",
        "def generate_truthtable(number_of_variables=0):\n",
        "    if number_of_variables == 0:\n",
        "        return \"You need to enter an integer\"\n",
        "    else:\n",
        "        total_combinations = 2**number_of_variables\n",
        "        combinations_list = []\n",
        "        for i in range(total_combinations):\n",
        "            bin_equivalent = bin(i)[2:].zfill(number_of_variables)\n",
        "            combinations_list.append(tuple(int(val) for val in bin_equivalent))\n",
        "        return combinations_list\n",
        "\n",
        "def evaluate_propositional_logic(c_list):\n",
        "    expression = input(\"Enter the propositional logic expression: \")\n",
        "    variables = len(c_list[0])\n",
        "    headers = \"A B C\"[:variables * 2 - 1]  # Generate column headers manually\n",
        "    print(f\"{headers} f\")\n",
        "\n",
        "    for values in c_list:\n",
        "        print(*values, eval(expression))\n",
        "\n",
        "evaluate_propositional_logic(generate_truthtable(3))\n"
      ],
      "metadata": {
        "colab": {
          "base_uri": "https://localhost:8080/"
        },
        "id": "ZCpy7SGit6YO",
        "outputId": "d53b54a5-a91d-4057-cf6f-5b3651a347de"
      },
      "execution_count": 12,
      "outputs": [
        {
          "output_type": "stream",
          "name": "stdout",
          "text": [
            "Enter the propositional logic expression: 2\n",
            "A B C f\n",
            "0 0 0 2\n",
            "0 0 1 2\n",
            "0 1 0 2\n",
            "0 1 1 2\n",
            "1 0 0 2\n",
            "1 0 1 2\n",
            "1 1 0 2\n",
            "1 1 1 2\n"
          ]
        }
      ]
    },
    {
      "cell_type": "markdown",
      "source": [
        "generate_truthtable() returns a list, so we need to print it manually if required.\n",
        "evaluate_propositional_logic() directly prints the output since it processes and formats the results inside the loops."
      ],
      "metadata": {
        "id": "wwDL3oQmwTzQ"
      }
    },
    {
      "cell_type": "markdown",
      "source": [
        "# **MODULES**"
      ],
      "metadata": {
        "id": "oWPOMiH10q5x"
      }
    },
    {
      "cell_type": "markdown",
      "source": [
        "# Built-in Modules\n"
      ],
      "metadata": {
        "id": "2UPuqWHh0tLo"
      }
    },
    {
      "cell_type": "markdown",
      "source": [
        "math module\n",
        "1.\tCreate a new folder called modules1 outside of the userfunctions\n",
        "2.\tCreate a new Python file called mathmodule.py and copy the following codes as shown below:\n"
      ],
      "metadata": {
        "id": "bV4zQV_q0vOw"
      }
    },
    {
      "cell_type": "code",
      "source": [
        "#mathmodule.py\n",
        "\n",
        "import math\n",
        "\n",
        "def quadratic_formula(a,b,c):\n",
        "    if b**2-(4*a*c) <0:\n",
        "        x1 = (complex(-b,math.floor(math.sqrt(abs (b**2-(4*a*c))))))/2*a\n",
        "        x2 = (complex(-b,-1*math.floor(math.sqrt(abs(b**2-(4*a*c))))))/2*a\n",
        "        return x1, x2\n",
        "    else:\n",
        "        x1 = (-b+math.sqrt(b**2-(4*a*c)))/(2*a)\n",
        "        x2= (-b-math.sqrt(b**2-(4*a*c)))/(2*a)\n",
        "        return x1, x2\n",
        "\n",
        "print (quadratic_formula(1,2,3))"
      ],
      "metadata": {
        "colab": {
          "base_uri": "https://localhost:8080/"
        },
        "id": "5qEFK1xh073A",
        "outputId": "93d5e677-2d03-4fab-f07c-aedb07e9a7ee"
      },
      "execution_count": 13,
      "outputs": [
        {
          "output_type": "stream",
          "name": "stdout",
          "text": [
            "((-1+1j), (-1-1j))\n"
          ]
        }
      ]
    },
    {
      "cell_type": "markdown",
      "source": [
        "3.\tRun the program and observe the output. You may switch between the two sets of values.\n",
        "4.\tCreate a new Python file called mathmodule2.py and copy the following codes as shown below\n"
      ],
      "metadata": {
        "id": "b84TQCDS03iI"
      }
    },
    {
      "cell_type": "code",
      "source": [
        "#mathmodule2.py\n",
        "\n",
        "import math\n",
        "def angle_demo():\n",
        "    angle = math.sin(math.pi/2)\n",
        "    print(angle)\n",
        "    angle =  math.sin(math.radians (90))\n",
        "    print(angle)\n",
        "\n",
        "angle_demo()\n"
      ],
      "metadata": {
        "colab": {
          "base_uri": "https://localhost:8080/"
        },
        "id": "I_bIXu8z1XdK",
        "outputId": "eb8d0fe9-19b0-4877-f7a6-3997f69b7183"
      },
      "execution_count": 14,
      "outputs": [
        {
          "output_type": "stream",
          "name": "stdout",
          "text": [
            "1.0\n",
            "1.0\n"
          ]
        }
      ]
    },
    {
      "cell_type": "markdown",
      "source": [
        "time and datetime module\n",
        "1.\tCreate a new file in the folder named dateandtime.py\n",
        "2.\tCopy and run the code as show below:\n"
      ],
      "metadata": {
        "id": "Q_DKP4UF1qNi"
      }
    },
    {
      "cell_type": "code",
      "source": [
        "#dateandtime.py\n",
        "\n",
        "\n",
        "import time\n",
        "\n",
        "def pause():\n",
        "    for i in range (10, 0, -1):\n",
        "        print (f\"The program will end in {i}..\")\n",
        "        time.sleep(1)\n",
        "pause()"
      ],
      "metadata": {
        "colab": {
          "base_uri": "https://localhost:8080/"
        },
        "id": "xpopWj8Q1qxJ",
        "outputId": "e261e08e-4d22-4c9a-8440-f8e1b61d9ba7"
      },
      "execution_count": 15,
      "outputs": [
        {
          "output_type": "stream",
          "name": "stdout",
          "text": [
            "The program will end in 10..\n",
            "The program will end in 9..\n",
            "The program will end in 8..\n",
            "The program will end in 7..\n",
            "The program will end in 6..\n",
            "The program will end in 5..\n",
            "The program will end in 4..\n",
            "The program will end in 3..\n",
            "The program will end in 2..\n",
            "The program will end in 1..\n"
          ]
        }
      ]
    },
    {
      "cell_type": "markdown",
      "source": [
        "3.\tObserve the output.\n",
        "\n",
        "  - The program prints a countdown from 10 to 1, pausing for one second between each number before ending.\n",
        "4.\tIn the same file, copy and add the code to the file as shown below:"
      ],
      "metadata": {
        "id": "o9m06Ry417xS"
      }
    },
    {
      "cell_type": "code",
      "source": [
        "def current_time():\n",
        "    t = time.strftime(\"%I:%M %p\")\n",
        "    return t\n",
        "print (current_time())"
      ],
      "metadata": {
        "colab": {
          "base_uri": "https://localhost:8080/"
        },
        "id": "_jwcCyjm1_LE",
        "outputId": "c2077013-d0b2-4ce5-b750-3ece2ab569ee"
      },
      "execution_count": 16,
      "outputs": [
        {
          "output_type": "stream",
          "name": "stdout",
          "text": [
            "04:43 AM\n"
          ]
        }
      ]
    },
    {
      "cell_type": "markdown",
      "source": [
        "5.\tRun the program, and observe the output.\n",
        "\n",
        "  - The code retrieves and prints the current time in 12-hour format with AM/PM using the time.strftime function.\n",
        "\n",
        "6.\tIn the same file, copy and add the code to the file as shown below:\n"
      ],
      "metadata": {
        "id": "SYHJRkAq2OMs"
      }
    },
    {
      "cell_type": "code",
      "source": [
        "def current_date():\n",
        "    d = time.strftime(\"%b %d %Y\")\n",
        "    return d\n",
        "print(current_date())"
      ],
      "metadata": {
        "colab": {
          "base_uri": "https://localhost:8080/"
        },
        "id": "GKlC8CMG2Ugb",
        "outputId": "9ff3df91-a93e-4d0d-8860-4466fb946f55"
      },
      "execution_count": 17,
      "outputs": [
        {
          "output_type": "stream",
          "name": "stdout",
          "text": [
            "Mar 02 2025\n"
          ]
        }
      ]
    },
    {
      "cell_type": "markdown",
      "source": [
        "7.\tRun the program, and observe the output.\n",
        "\n",
        "  - The function current_date() uses time.strftime(\"%b %d %Y\") to format and return the current date in \"Mon DD YYYY\" format, which is then printed."
      ],
      "metadata": {
        "id": "NX2i_exy2bGD"
      }
    },
    {
      "cell_type": "markdown",
      "source": [
        "User-defined Modules\n",
        "1.\tThe previously created dateandtime.py is considered to be a module that you can import.\n",
        "2.\tIn the same modules1 folder, create a new file called main.py and copy the following code:\n"
      ],
      "metadata": {
        "id": "QSt8MdgD3tPm"
      }
    },
    {
      "cell_type": "code",
      "source": [
        "#main.py\n",
        "\n",
        "print (\"The current time is\", dateandtime.current_time())\n"
      ],
      "metadata": {
        "colab": {
          "base_uri": "https://localhost:8080/",
          "height": 183
        },
        "id": "TTSZrb4H3t3-",
        "outputId": "5c40be3e-ad36-451e-939b-5108f4126948"
      },
      "execution_count": 18,
      "outputs": [
        {
          "output_type": "error",
          "ename": "NameError",
          "evalue": "name 'dateandtime' is not defined",
          "traceback": [
            "\u001b[0;31m---------------------------------------------------------------------------\u001b[0m",
            "\u001b[0;31mNameError\u001b[0m                                 Traceback (most recent call last)",
            "\u001b[0;32m<ipython-input-18-2fb17e2fbc3f>\u001b[0m in \u001b[0;36m<cell line: 0>\u001b[0;34m()\u001b[0m\n\u001b[1;32m      1\u001b[0m \u001b[0;31m#main.py\u001b[0m\u001b[0;34m\u001b[0m\u001b[0;34m\u001b[0m\u001b[0m\n\u001b[1;32m      2\u001b[0m \u001b[0;34m\u001b[0m\u001b[0m\n\u001b[0;32m----> 3\u001b[0;31m \u001b[0mprint\u001b[0m \u001b[0;34m(\u001b[0m\u001b[0;34m\"The current time is\"\u001b[0m\u001b[0;34m,\u001b[0m \u001b[0mdateandtime\u001b[0m\u001b[0;34m.\u001b[0m\u001b[0mcurrent_time\u001b[0m\u001b[0;34m(\u001b[0m\u001b[0;34m)\u001b[0m\u001b[0;34m)\u001b[0m\u001b[0;34m\u001b[0m\u001b[0;34m\u001b[0m\u001b[0m\n\u001b[0m",
            "\u001b[0;31mNameError\u001b[0m: name 'dateandtime' is not defined"
          ]
        }
      ]
    },
    {
      "cell_type": "markdown",
      "source": [
        "3.\tThe program will not run as expected, and you will need to remove the following codes in the dateandtime.py which are underlined in red."
      ],
      "metadata": {
        "id": "I92B-7cC4Y_W"
      }
    },
    {
      "cell_type": "code",
      "source": [
        "import time\n",
        "\n",
        "def pause():\n",
        "    for i in range (10, 0, -1):\n",
        "        print (f\"The program will end in {i}..\")\n",
        "        time.sleep(1)\n",
        "\n",
        "def current_time():\n",
        "    t = time.strftime(\"%I:%M %p\")\n",
        "    return t\n",
        "\n",
        "def current_date():\n",
        "    d = time.strftime(\"%b %d %Y\")\n",
        "    return d\n"
      ],
      "metadata": {
        "id": "NT4BO7qv4y7h"
      },
      "execution_count": 19,
      "outputs": []
    },
    {
      "cell_type": "markdown",
      "source": [
        "4.\tRun the main.py program again and you will now see the correct output which is the current time.\n",
        "5.\tModify the main.py to also display the current date using the current_date() in dateandtime.py\n",
        "6.\tTo remove the need to constantly indicate the module name dateandtime. in each function, modify the code as shown below:\n"
      ],
      "metadata": {
        "id": "FBb0XF_M5DtH"
      }
    },
    {
      "cell_type": "code",
      "source": [
        "#main.py\n",
        "\n",
        "print (\"The current time is\", current_time())\n",
        "print (\"The current date is\", current_date())\n"
      ],
      "metadata": {
        "colab": {
          "base_uri": "https://localhost:8080/"
        },
        "id": "gX_lQz9K5Sb5",
        "outputId": "ecbf4d64-ab19-4b14-b944-4d5e6743c650"
      },
      "execution_count": 20,
      "outputs": [
        {
          "output_type": "stream",
          "name": "stdout",
          "text": [
            "The current time is 04:43 AM\n",
            "The current date is Mar 02 2025\n"
          ]
        }
      ]
    },
    {
      "cell_type": "markdown",
      "source": [
        "# **SUPPLEMENTARY TASK**"
      ],
      "metadata": {
        "id": "tf5J33l8zk1a"
      }
    },
    {
      "cell_type": "markdown",
      "source": [
        "**Simple Word Filter**\n",
        "1.\tCreate a function that would accept two inputs: a sentence(string), and a list containing bad words that the user would like to censor but not remove. The function should return the newly filtered sentence wherein the bad words are replaced with asterisks equal to the length of the censored word.\n"
      ],
      "metadata": {
        "id": "RHNl8CjDzgOq"
      }
    },
    {
      "cell_type": "code",
      "source": [
        "bad_words = input(\"Enter a list of bad words separated by commas: \").split(\",\")\n",
        "bad_words = [word.strip() for word in bad_words]\n",
        "sentence = input(\"Enter a sentence: \")\n",
        "\n",
        "def censor_bad_words(sentence, bad_words):\n",
        "    for word in bad_words:\n",
        "        censored_word = \"*\" * len(word)\n",
        "        sentence = sentence.replace(word, censored_word)\n",
        "    return sentence\n",
        "\n",
        "print(censor_bad_words(sentence, bad_words))"
      ],
      "metadata": {
        "colab": {
          "base_uri": "https://localhost:8080/"
        },
        "id": "paWwrvrQy20i",
        "outputId": "3f263dfc-48af-429e-e0f8-e3372338fe03"
      },
      "execution_count": 21,
      "outputs": [
        {
          "output_type": "stream",
          "name": "stdout",
          "text": [
            "Enter a list of bad words separated by commas: dumb, stupid, idiot\n",
            "Enter a sentence: I am dumb, stupid, and an idiot!!!\n",
            "I am ****, ******, and an *****!!!\n"
          ]
        }
      ]
    },
    {
      "cell_type": "markdown",
      "source": [
        "2.\tGiven a certain Physics problem create a function(projectilemotion_solver) that would take in the following inputs below and return the needed information when the function is called. Name the program containing the function projectilemotion.py then create another program main_program.py and import projectilemotion.py\n",
        "\n",
        "\n",
        "“A long jumper leaves the ground at an angle of 20.0° above the horizontal and at a speed of 11.0 m/s. “\n",
        "\n",
        "\n",
        "(a)\tHow far does he jump in the horizontal direction?\n",
        "\n",
        "\n",
        "(b)\tWhat is the maximum height reached?\n",
        "\n",
        "\n",
        "Given a projectile motion problem like this where the angle and speed are given, the range or distance travelled in the horizontal direction can be determined by using the formula:\n",
        "\n",
        "R = 𝑣𝑖^2*𝑠𝑖𝑛2𝜃𝑖* /g\n",
        "\n",
        "\n",
        "\n",
        "The maximum height can be determined using the formula:\n",
        "\n",
        "R = 𝑣𝑖^2*𝑠𝑖𝑛2𝜃𝑖* /2g\n"
      ],
      "metadata": {
        "id": "Z4R_bZpn1gE2"
      }
    },
    {
      "cell_type": "code",
      "source": [
        "\n",
        "#projectilemotion.py\n",
        "\n",
        "import math\n",
        "\n",
        "def projectilemotion_solver(missing, initial_velocity, angle):\n",
        "    g = 9.81\n",
        "    initial_velocity = float(initial_velocity)\n",
        "    angle = float(angle)\n",
        "    if missing == \"horizontal direction\":\n",
        "      return round(((initial_velocity ** 2) * math.sin(math.radians(2 * angle)) / g), 4)\n",
        "\n",
        "    elif missing == \"maximum height\":\n",
        "        return round(((initial_velocity ** 2) * (math.sin(math.radians(angle)))**2 / (2 * g)), 4)\n",
        "\n",
        "    print(projectilemotion_solver(missing, initial_velocity, angle))\n",
        "\n",
        "# main_program.py\n",
        "\n",
        "def main_program():\n",
        "    missing = input(\"What is missing? (horizontal direction, maximum height): \")\n",
        "\n",
        "    if missing in [\"horizontal direction\", \"maximum height\"]:\n",
        "        initial_velocity = float(input(\"What is the initial velocity? (m/s): \"))\n",
        "        angle = float(input(\"What is the angle? (degrees): \"))\n",
        "\n",
        "        result =projectilemotion_solver(missing, initial_velocity, angle)\n",
        "\n",
        "        return f\"The calculated {missing} is: {result}\"\n",
        "\n",
        "    else:\n",
        "        return \"Invalid input.\"\n",
        "\n",
        "while True:\n",
        "    print(main_program())\n",
        "    choice = input(\"Do you want to continue? (yes/no): \")\n",
        "    if choice.lower() != \"yes\":\n",
        "        break\n",
        "\n"
      ],
      "metadata": {
        "colab": {
          "base_uri": "https://localhost:8080/"
        },
        "id": "tRjQU_wC8xEg",
        "outputId": "7c87a5da-b193-415e-c9bc-8402e72a7348"
      },
      "execution_count": 22,
      "outputs": [
        {
          "name": "stdout",
          "output_type": "stream",
          "text": [
            "What is missing? (horizontal direction, maximum height): horizontal direction\n",
            "What is the initial velocity? (m/s): 11\n",
            "What is the angle? (degrees): 20\n",
            "The calculated horizontal direction is: 7.9284\n",
            "Do you want to continue? (yes/no): yes\n",
            "What is missing? (horizontal direction, maximum height): maximum height\n",
            "What is the initial velocity? (m/s): 11\n",
            "What is the angle? (degrees): 20\n",
            "The calculated maximum height is: 0.7214\n",
            "Do you want to continue? (yes/no): no\n"
          ]
        }
      ]
    },
    {
      "cell_type": "markdown",
      "source": [
        "3.\tCreate a quadratic equation solver module that would write the inputs of the user and the corresponding output into text files."
      ],
      "metadata": {
        "id": "_eKROgKWCBxa"
      }
    },
    {
      "cell_type": "code",
      "source": [
        "import math\n",
        "\n",
        "def quadratic_equation_solver(a, b, c):\n",
        "    discriminant = b**2 - 4*a*c\n",
        "\n",
        "    if discriminant == 0:\n",
        "        root = -b / (2*a)\n",
        "        return root\n",
        "    elif discriminant > 0:\n",
        "        root_1st = (-b + math.sqrt(discriminant)) / (2*a)\n",
        "        root_2nd = (-b - math.sqrt(discriminant)) / (2*a)\n",
        "        return root_1st, root_2nd\n",
        "    elif discriminant < 0:\n",
        "        return \"No real root\"\n",
        "\n",
        "    print(quadratic_equation_solver(a, b, c))\n",
        "\n",
        "def main_program():\n",
        "    a = float(input(\"Enter the coefficient a: \"))\n",
        "    b = float(input(\"Enter the coefficient b: \"))\n",
        "    c = float(input(\"Enter the coefficient c: \"))\n",
        "\n",
        "    roots = quadratic_equation_solver(a, b, c)\n",
        "    print(f\"Roots: {roots}\")\n",
        "\n",
        "while True:\n",
        "  main_program()\n",
        "  choice = input(\"Do you want to continue? (yes/no): \")\n",
        "  if choice.lower() != \"yes\":\n",
        "    break"
      ],
      "metadata": {
        "colab": {
          "base_uri": "https://localhost:8080/"
        },
        "id": "M8PUwiMFCFrq",
        "outputId": "b1e2d3bb-5e74-416d-9478-fa00c2645773"
      },
      "execution_count": 24,
      "outputs": [
        {
          "name": "stdout",
          "output_type": "stream",
          "text": [
            "Enter the coefficient a: 1\n",
            "Enter the coefficient b: -5\n",
            "Enter the coefficient c: 6\n",
            "Roots: (3.0, 2.0)\n",
            "Do you want to continue? (yes/no): yes\n",
            "Enter the coefficient a: 1\n",
            "Enter the coefficient b: -4\n",
            "Enter the coefficient c: 4\n",
            "Roots: 2.0\n",
            "Do you want to continue? (yes/no): yes\n",
            "Enter the coefficient a: 1\n",
            "Enter the coefficient b: 1\n",
            "Enter the coefficient c: 1\n",
            "Roots: No real root\n",
            "Do you want to continue? (yes/no): no\n"
          ]
        }
      ]
    }
  ]
}