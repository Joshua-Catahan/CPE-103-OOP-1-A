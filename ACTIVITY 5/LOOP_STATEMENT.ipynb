{
  "nbformat": 4,
  "nbformat_minor": 0,
  "metadata": {
    "colab": {
      "provenance": [],
      "authorship_tag": "ABX9TyNnrHnmqp9f8e8NeMJUOve+",
      "include_colab_link": true
    },
    "kernelspec": {
      "name": "python3",
      "display_name": "Python 3"
    },
    "language_info": {
      "name": "python"
    }
  },
  "cells": [
    {
      "cell_type": "markdown",
      "metadata": {
        "id": "view-in-github",
        "colab_type": "text"
      },
      "source": [
        "<a href=\"https://colab.research.google.com/github/Joshua-Catahan/CPE-103-OOP-1-A/blob/main/LOOP_STATEMENT.ipynb\" target=\"_parent\"><img src=\"https://colab.research.google.com/assets/colab-badge.svg\" alt=\"Open In Colab\"/></a>"
      ]
    },
    {
      "cell_type": "markdown",
      "source": [
        "FOR LOOPS"
      ],
      "metadata": {
        "id": "qaPgtaUm5AmR"
      }
    },
    {
      "cell_type": "code",
      "execution_count": 3,
      "metadata": {
        "colab": {
          "base_uri": "https://localhost:8080/"
        },
        "id": "Sb97L3As14yL",
        "outputId": "9a5f1aa2-d377-4e9d-a596-d64724f229d3"
      },
      "outputs": [
        {
          "output_type": "stream",
          "name": "stdout",
          "text": [
            "Sunday\n",
            "Monday\n",
            "Tuesday\n",
            "Wednesday\n",
            "Thursday\n",
            "Friday\n",
            "Saturday\n"
          ]
        }
      ],
      "source": [
        "#EXAMPLE 1 (THE BREAK STATEMENT)\n",
        "\n",
        "week = [\"Sunday\", \"Monday\", \"Tuesday\", \"Wednesday\", \"Thursday\", \"Friday\", \"Saturday\"]\n",
        "for x in week:\n",
        "  print(x)\n"
      ]
    },
    {
      "cell_type": "code",
      "source": [
        "#EXAMPLE 3 (THE BREAK STATEMENT)\n",
        "\n",
        "week = [\"Sunday\", \"Monday\", \"Tuesday\", \"Wednesday\", \"Thursday\", \"Friday\", \"Saturday\"]\n",
        "for x in week:\n",
        "  print(x)\n",
        "  if x == \"Thursday\":\n",
        "      break"
      ],
      "metadata": {
        "colab": {
          "base_uri": "https://localhost:8080/"
        },
        "id": "1vPk0shK2oiS",
        "outputId": "5e9f29b6-03f0-4047-e3a6-e2b990a818f8"
      },
      "execution_count": 4,
      "outputs": [
        {
          "output_type": "stream",
          "name": "stdout",
          "text": [
            "Sunday\n",
            "Monday\n",
            "Tuesday\n",
            "Wednesday\n",
            "Thursday\n"
          ]
        }
      ]
    },
    {
      "cell_type": "code",
      "source": [
        "#EXAMPLE 3 (THE BREAK STATEMENT)\n",
        "\n",
        "week = [\"Sunday\", \"Monday\", \"Tuesday\", \"Wednesday\", \"Thursday\", \"Friday\", \"Saturday\"]\n",
        "for x in week:\n",
        "  if x == \"Thursday\":\n",
        "      break\n",
        "  print(x)"
      ],
      "metadata": {
        "colab": {
          "base_uri": "https://localhost:8080/"
        },
        "id": "23_x5WOp3GFB",
        "outputId": "3dcba3ae-fcbd-408f-914a-ad2b6cd49df7"
      },
      "execution_count": 6,
      "outputs": [
        {
          "output_type": "stream",
          "name": "stdout",
          "text": [
            "Sunday\n",
            "Monday\n",
            "Tuesday\n",
            "Wednesday\n"
          ]
        }
      ]
    },
    {
      "cell_type": "code",
      "source": [
        "#EXAMPLE 4 (LOOPING THROUGH A STRING)\n",
        "for x in \"week\":\n",
        "  print (x)"
      ],
      "metadata": {
        "colab": {
          "base_uri": "https://localhost:8080/"
        },
        "id": "cbvZImaJ3o0Z",
        "outputId": "507f28c8-25c1-4bd3-ff29-2a8cf22e580e"
      },
      "execution_count": 10,
      "outputs": [
        {
          "output_type": "stream",
          "name": "stdout",
          "text": [
            "w\n",
            "e\n",
            "e\n",
            "k\n"
          ]
        }
      ]
    },
    {
      "cell_type": "markdown",
      "source": [
        "THE RANGE () FUNCTION"
      ],
      "metadata": {
        "id": "3CfEEU8l38-y"
      }
    },
    {
      "cell_type": "code",
      "source": [
        "for x in range (6):\n",
        "  print(x)"
      ],
      "metadata": {
        "colab": {
          "base_uri": "https://localhost:8080/"
        },
        "id": "-GOWQjyv4AXi",
        "outputId": "9983d550-7b1e-480f-d358-6f51ddf0e553"
      },
      "execution_count": 12,
      "outputs": [
        {
          "output_type": "stream",
          "name": "stdout",
          "text": [
            "0\n",
            "1\n",
            "2\n",
            "3\n",
            "4\n",
            "5\n"
          ]
        }
      ]
    },
    {
      "cell_type": "code",
      "source": [
        "for x in range(2, 6):\n",
        "  print(x)"
      ],
      "metadata": {
        "colab": {
          "base_uri": "https://localhost:8080/"
        },
        "id": "056c6FDI4K9y",
        "outputId": "93dba9ab-d395-4185-901e-18e4ce18a3de"
      },
      "execution_count": 17,
      "outputs": [
        {
          "output_type": "stream",
          "name": "stdout",
          "text": [
            "2\n",
            "3\n",
            "4\n",
            "5\n"
          ]
        }
      ]
    },
    {
      "cell_type": "code",
      "source": [
        "for x in range(2, 6, 2):\n",
        "  print(x)"
      ],
      "metadata": {
        "colab": {
          "base_uri": "https://localhost:8080/"
        },
        "id": "gnsuMDnT4wJZ",
        "outputId": "4c28c842-7b06-44d9-fbe1-08b0d64f9473"
      },
      "execution_count": 20,
      "outputs": [
        {
          "output_type": "stream",
          "name": "stdout",
          "text": [
            "2\n",
            "4\n"
          ]
        }
      ]
    },
    {
      "cell_type": "markdown",
      "source": [
        "NESTED LOOP"
      ],
      "metadata": {
        "id": "hb456Pza4-eA"
      }
    },
    {
      "cell_type": "code",
      "source": [
        "adjective  = [\"red\", \"big\", \"tasty\"]\n",
        "fruits = [\"apple\", \"banana\", \"cherry\"]\n",
        "\n",
        "for x in adjective:\n",
        "  for y in fruits:\n",
        "    print(x, y)"
      ],
      "metadata": {
        "colab": {
          "base_uri": "https://localhost:8080/"
        },
        "id": "OiTumy-K5Ejh",
        "outputId": "b78ddb5f-8542-4a56-a72e-45e66add9d0e"
      },
      "execution_count": 21,
      "outputs": [
        {
          "output_type": "stream",
          "name": "stdout",
          "text": [
            "red apple\n",
            "red banana\n",
            "red cherry\n",
            "big apple\n",
            "big banana\n",
            "big cherry\n",
            "tasty apple\n",
            "tasty banana\n",
            "tasty cherry\n"
          ]
        }
      ]
    },
    {
      "cell_type": "markdown",
      "source": [
        "PYTHON WHILE LOOP"
      ],
      "metadata": {
        "id": "gwUiIEr-6CVR"
      }
    },
    {
      "cell_type": "code",
      "source": [
        "#EXAMPLE 5\n",
        "i = 1\n",
        "while i < 6:\n",
        "  print(i)\n",
        "  i += 1"
      ],
      "metadata": {
        "colab": {
          "base_uri": "https://localhost:8080/"
        },
        "id": "WE99V3CG6Hjh",
        "outputId": "5859ea73-8b82-481d-e746-cf01488cfab9"
      },
      "execution_count": 29,
      "outputs": [
        {
          "output_type": "stream",
          "name": "stdout",
          "text": [
            "1\n",
            "2\n",
            "3\n",
            "4\n",
            "5\n"
          ]
        }
      ]
    },
    {
      "cell_type": "code",
      "source": [
        "#EXAMPLE 5\n",
        "i = 1\n",
        "while i < 6:\n",
        "  i += 1\n",
        "  print(i)"
      ],
      "metadata": {
        "colab": {
          "base_uri": "https://localhost:8080/"
        },
        "id": "gWEy805662dS",
        "outputId": "99e9afce-1d53-450a-a5c9-010482abae5e"
      },
      "execution_count": 31,
      "outputs": [
        {
          "output_type": "stream",
          "name": "stdout",
          "text": [
            "2\n",
            "3\n",
            "4\n",
            "5\n",
            "6\n"
          ]
        }
      ]
    },
    {
      "cell_type": "code",
      "source": [
        "#the break statement\n",
        "i = 1\n",
        "while i < 6:\n",
        "  print(i)\n",
        "  if i == 3:\n",
        "    break\n",
        "  i += 1"
      ],
      "metadata": {
        "colab": {
          "base_uri": "https://localhost:8080/"
        },
        "id": "DS0bYQQ_7DEp",
        "outputId": "654a4d55-da51-409d-a21c-8ebd6cbc0673"
      },
      "execution_count": 33,
      "outputs": [
        {
          "output_type": "stream",
          "name": "stdout",
          "text": [
            "1\n",
            "2\n",
            "3\n"
          ]
        }
      ]
    },
    {
      "cell_type": "code",
      "source": [
        "#the continue statement\n",
        "i = 0\n",
        "while i < 6:\n",
        "    i += 1\n",
        "    if i == 3:\n",
        "       continue\n",
        "    if i == 6:\n",
        "       break\n",
        "    print(i)"
      ],
      "metadata": {
        "colab": {
          "base_uri": "https://localhost:8080/"
        },
        "id": "EzLv6JX078J5",
        "outputId": "c5df69fe-c831-4560-b7d3-e28c216fc947"
      },
      "execution_count": 75,
      "outputs": [
        {
          "output_type": "stream",
          "name": "stdout",
          "text": [
            "1\n",
            "2\n",
            "4\n",
            "5\n"
          ]
        }
      ]
    },
    {
      "cell_type": "code",
      "source": [
        "#THE ELSE STATEMENT\n",
        "\n",
        "i = 1\n",
        "while i < 6:\n",
        "  print (i)\n",
        "  i += 1\n",
        "else:\n",
        "  print(\"i is no longer less than 6\")"
      ],
      "metadata": {
        "colab": {
          "base_uri": "https://localhost:8080/"
        },
        "id": "HHdJ9jdkCLRp",
        "outputId": "7be6ea2b-bc9b-40f9-9b12-55cddc5a4e66"
      },
      "execution_count": 77,
      "outputs": [
        {
          "output_type": "stream",
          "name": "stdout",
          "text": [
            "1\n",
            "2\n",
            "3\n",
            "4\n",
            "5\n",
            "i is no longer less than 6\n"
          ]
        }
      ]
    },
    {
      "cell_type": "markdown",
      "source": [
        "APLLICATION 1"
      ],
      "metadata": {
        "id": "1pygZ4pqCUKI"
      }
    },
    {
      "cell_type": "code",
      "source": [
        "x = 0\n",
        "while x < 11:\n",
        "  print(\"Hello\", x)\n",
        "  x += 1\n"
      ],
      "metadata": {
        "colab": {
          "base_uri": "https://localhost:8080/"
        },
        "id": "Y0H8ds9pCWdp",
        "outputId": "e6c2b286-abcd-41ec-e3e3-da8455b07ff6"
      },
      "execution_count": 78,
      "outputs": [
        {
          "output_type": "stream",
          "name": "stdout",
          "text": [
            "Hello 0\n",
            "Hello 1\n",
            "Hello 2\n",
            "Hello 3\n",
            "Hello 4\n",
            "Hello 5\n",
            "Hello 6\n",
            "Hello 7\n",
            "Hello 8\n",
            "Hello 9\n",
            "Hello 10\n"
          ]
        }
      ]
    },
    {
      "cell_type": "markdown",
      "source": [
        "# PRACTICAL TEST"
      ],
      "metadata": {
        "id": "2IkKPuf3Ei-K"
      }
    },
    {
      "cell_type": "markdown",
      "source": [
        "CREATE A PYTHON PROGRAM THAT DISPLAYS INTEGERS LESS THAN 10 BUT NOT LESS THAN 3\n",
        "\n",
        "\n",
        "\n",
        "WHICH MEANS THAT THE DISPLAY NUMBERS SHOULD BE 3 TO 9\n",
        "\n"
      ],
      "metadata": {
        "id": "xRoXSOnBOl1Z"
      }
    },
    {
      "cell_type": "code",
      "source": [
        "#EXAMPLE 1\n",
        "\n",
        "x = 3\n",
        "while x < 10:\n",
        "  print (\"Integer: \", x)\n",
        "  x += 1"
      ],
      "metadata": {
        "colab": {
          "base_uri": "https://localhost:8080/"
        },
        "id": "JBx_UBPkExKp",
        "outputId": "eea6f010-9a95-4272-d287-c533f3c3ac32"
      },
      "execution_count": 91,
      "outputs": [
        {
          "output_type": "stream",
          "name": "stdout",
          "text": [
            "Integer:  3\n",
            "Integer:  4\n",
            "Integer:  5\n",
            "Integer:  6\n",
            "Integer:  7\n",
            "Integer:  8\n",
            "Integer:  9\n"
          ]
        }
      ]
    },
    {
      "cell_type": "code",
      "source": [
        "#EXAMPLE 2\n",
        "\n",
        "numbers = {\"Integer: \"}\n",
        "integer = {3,4,5,6,7,8,9}\n",
        "\n",
        "for x in numbers:\n",
        "  for y in integer:\n",
        "    print(x, y)"
      ],
      "metadata": {
        "colab": {
          "base_uri": "https://localhost:8080/"
        },
        "id": "TSvBVSM8PUYR",
        "outputId": "53a99536-0249-4e1b-a00b-152f0cdfab40"
      },
      "execution_count": 87,
      "outputs": [
        {
          "output_type": "stream",
          "name": "stdout",
          "text": [
            "Integer:  3\n",
            "Integer:  4\n",
            "Integer:  5\n",
            "Integer:  6\n",
            "Integer:  7\n",
            "Integer:  8\n",
            "Integer:  9\n"
          ]
        }
      ]
    },
    {
      "cell_type": "code",
      "source": [
        "#EXAMPLE 3\n",
        "\n",
        "for x in range (3, 10):\n",
        "  print(\"Integer: \", x)"
      ],
      "metadata": {
        "colab": {
          "base_uri": "https://localhost:8080/"
        },
        "id": "fZBRZ0mRP77p",
        "outputId": "e8827b56-02f8-4ebc-996f-069d09b22d2e"
      },
      "execution_count": 92,
      "outputs": [
        {
          "output_type": "stream",
          "name": "stdout",
          "text": [
            "Integer:  3\n",
            "Integer:  4\n",
            "Integer:  5\n",
            "Integer:  6\n",
            "Integer:  7\n",
            "Integer:  8\n",
            "Integer:  9\n"
          ]
        }
      ]
    },
    {
      "cell_type": "markdown",
      "source": [],
      "metadata": {
        "id": "i2FxnqFuRHLp"
      }
    }
  ]
}