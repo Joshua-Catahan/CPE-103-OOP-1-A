{
  "nbformat": 4,
  "nbformat_minor": 0,
  "metadata": {
    "colab": {
      "provenance": [],
      "authorship_tag": "ABX9TyN8tTf1E6WB+ux344kgFt7+",
      "include_colab_link": true
    },
    "kernelspec": {
      "name": "python3",
      "display_name": "Python 3"
    },
    "language_info": {
      "name": "python"
    }
  },
  "cells": [
    {
      "cell_type": "markdown",
      "metadata": {
        "id": "view-in-github",
        "colab_type": "text"
      },
      "source": [
        "<a href=\"https://colab.research.google.com/github/Joshua-Catahan/CPE-103-OOP-1-A/blob/main/LONG_QUIZ_1.ipynb\" target=\"_parent\"><img src=\"https://colab.research.google.com/assets/colab-badge.svg\" alt=\"Open In Colab\"/></a>"
      ]
    },
    {
      "cell_type": "code",
      "execution_count": 2,
      "metadata": {
        "colab": {
          "base_uri": "https://localhost:8080/"
        },
        "id": "v4DchV-ZLPBk",
        "outputId": "129c86aa-58ee-44e2-c1fc-7647cfc80507"
      },
      "outputs": [
        {
          "output_type": "stream",
          "name": "stdout",
          "text": [
            "STUDENT #1\n",
            "Student ID: 1234\n",
            "Name: Ana\n",
            "Program: CPE\n",
            "Sex: Female\n",
            "Weight: 50 kg\n",
            "Height: 169 cm\n",
            "Course: CPE103, Midterm:  100.000000, Final: 100.000000\n",
            "\n",
            "STUDENT #2\n",
            "Student ID: 5678\n",
            "Name: Mench\n",
            "Program: ECE\n",
            "Sex: Male\n",
            "Weight: 70 kg\n",
            "Height: 175 cm\n",
            "Course: ECE201, Midterm:  90.000000, Final: 90.000000\n",
            "\n",
            "STUDENT #3\n",
            "Student ID: 9101\n",
            "Name: John\n",
            "Program: CS\n",
            "Sex: Male\n",
            "Weight: 65 kg\n",
            "Height: 172 cm\n",
            "Course: CS101, Midterm:  80.333333, Final: 80.333333\n"
          ]
        }
      ],
      "source": [
        "class Student:\n",
        "\n",
        "  def __init__(self, student_id, name, program, sex, weight, height):\n",
        "    self.__student_id = student_id\n",
        "    self.__name = name\n",
        "    self.__program = program\n",
        "    self.__sex = sex\n",
        "    self.__weight = weight\n",
        "    self.__height = height\n",
        "    self.__courses = {}\n",
        "\n",
        "  def enroll(self, course_code):\n",
        "      self.__courses[course_code] = {'midterm': 0, 'final': 0}\n",
        "\n",
        "  def view_courses(self):\n",
        "      for course, grades in self.__courses.items():\n",
        "          print(f\"Course: {course}, Midterm: {grades['midterm']: f}, Final: {grades['final']:f}\")\n",
        "\n",
        "  def view_infor(self):\n",
        "      print(f\"Student ID: {self.__student_id}\")\n",
        "      print(f\"Name: {self.__name}\")\n",
        "      print(f\"Program: {self.__program}\")\n",
        "      print(f\"Sex: {self.__sex}\")\n",
        "      print(f\"Weight: {self.__weight} kg\")\n",
        "      print(f\"Height: {self.__height} cm\")\n",
        "\n",
        "  def calculate_prelim_midterm(self, quiz, seatwork, assignment, recitation, exam):\n",
        "      return ((quiz * 0.25) + (seatwork * 0.25) + (assignment * 0.25) + (recitation * 0.25) + (exam * 0.5))/150 * 100\n",
        "#The total computed grade when run is 150 when all scores are 100, therefore I divided the results by 150 and multiplied it by 100 to get the overall in 100%.\n",
        "\n",
        "  def calculate_final(self, prev_grade, quiz, seatwork, assignment, recitation, exam):\n",
        "      midterm = self.calculate_prelim_midterm(quiz, seatwork, assignment, recitation, exam)\n",
        "      return (prev_grade * 1 / 3) + (2 / 3) * midterm\n",
        "\n",
        "  def set_grades(self, course_code, quiz, seatwork, assignment, recitation, exam):\n",
        "      midterm = self.calculate_prelim_midterm(quiz, seatwork, assignment, recitation, exam)\n",
        "      final = self.calculate_final(midterm, quiz, seatwork, assignment, recitation, exam)\n",
        "      self.__courses[course_code]['midterm'] = midterm\n",
        "      self.__courses[course_code]['final'] = final\n",
        "\n",
        "#Testing the class\n",
        "\n",
        "STUDENT1 = Student(\"1234\", \"Ana\", \"CPE\", \"Female\", 50, 169)\n",
        "STUDENT1.enroll(\"CPE103\")\n",
        "STUDENT1.set_grades(\"CPE103\", 100, 100, 100, 100, 100)\n",
        "print(\"STUDENT #1\")\n",
        "STUDENT1.view_infor()\n",
        "STUDENT1.view_courses()\n",
        "\n",
        "STUDENT2 = Student(\"5678\", \"Mench\", \"ECE\", \"Male\", 70, 175)\n",
        "STUDENT2.enroll(\"ECE201\")\n",
        "STUDENT2.set_grades(\"ECE201\", 90, 90, 90, 90, 90)\n",
        "print(\"\\nSTUDENT #2\")\n",
        "STUDENT2.view_infor()\n",
        "STUDENT2.view_courses()\n",
        "\n",
        "STUDENT3 = Student(\"9101\", \"John\", \"CS\", \"Male\", 65, 172)\n",
        "STUDENT3.enroll(\"CS101\")\n",
        "STUDENT3.set_grades(\"CS101\", 80, 81, 80, 81, 80)\n",
        "print(\"\\nSTUDENT #3\")\n",
        "STUDENT3.view_infor()\n",
        "STUDENT3.view_courses()"
      ]
    }
  ]
}