{
  "nbformat": 4,
  "nbformat_minor": 0,
  "metadata": {
    "colab": {
      "provenance": [],
      "authorship_tag": "ABX9TyPXmS/ZY1O3pRcIwpKCzK8i",
      "include_colab_link": true
    },
    "kernelspec": {
      "name": "python3",
      "display_name": "Python 3"
    },
    "language_info": {
      "name": "python"
    }
  },
  "cells": [
    {
      "cell_type": "markdown",
      "metadata": {
        "id": "view-in-github",
        "colab_type": "text"
      },
      "source": [
        "<a href=\"https://colab.research.google.com/github/Joshua-Catahan/CPE-103-OOP-1-A/blob/main/LAB_7_(POLYMORPHISM).ipynb\" target=\"_parent\"><img src=\"https://colab.research.google.com/assets/colab-badge.svg\" alt=\"Open In Colab\"/></a>"
      ]
    },
    {
      "cell_type": "code",
      "execution_count": 4,
      "metadata": {
        "colab": {
          "base_uri": "https://localhost:8080/"
        },
        "id": "rqFNTJ5lbijy",
        "outputId": "d8ac651e-152f-4095-ffa7-f36eb487b6fa"
      },
      "outputs": [
        {
          "output_type": "stream",
          "name": "stdout",
          "text": [
            "Enter feet and inches of distance1: 5 5\n",
            "Enter feet and inches of distance2: 5 5\n",
            "Distance2 is greater or equal to Distance1\n",
            "Sum of the two Distance is:\n",
            "Feet=  10 Inches=  10\n"
          ]
        }
      ],
      "source": [
        "# distance is a class. Distance is measured in terms of feet and inches\n",
        "class distance:\n",
        "    def __init__(self, f, i):\n",
        "        self.feet = f\n",
        "        self.inches = i\n",
        "\n",
        "    # overloading of binary operator > to compare two distances\n",
        "    def __gt__(self, d):\n",
        "        if (self.feet > d.feet):\n",
        "            return True\n",
        "        elif ((self.feet == d.feet) and (self.inches > d.inches)):\n",
        "            return True\n",
        "        else:\n",
        "            return False\n",
        "\n",
        "    # overloading of binary operator + to add two distances\n",
        "    def __add__(self, d):\n",
        "        i = self.inches + d.inches\n",
        "        f = self.feet + d.feet\n",
        "        if (i >= 12):\n",
        "            i = i - 12\n",
        "            f = f + 1\n",
        "        return distance(f, i)\n",
        "\n",
        "    # displaying the distance\n",
        "    def show(self):\n",
        "        print(\"Feet= \", self.feet, \"Inches= \", self.inches)\n",
        "\n",
        "\n",
        "a, b = (input(\"Enter feet and inches of distance1: \")).split()\n",
        "a, b = [int(a), int(b)]\n",
        "c, d = (input(\"Enter feet and inches of distance2: \")).split()\n",
        "c, d = [int(c), int(d)]\n",
        "\n",
        "d1 = distance(a, b)\n",
        "d2 = distance(c, d)\n",
        "\n",
        "if (d1 > d2):\n",
        "    print(\"Distance1 is greater than Distance2\")\n",
        "else:\n",
        "    print(\"Distance2 is greater or equal to Distance1\")\n",
        "d3 = d1 + d2\n",
        "print(\"Sum of the two Distance is:\")\n",
        "d3.show()"
      ]
    },
    {
      "cell_type": "code",
      "source": [
        "class RegularPolygon:\n",
        "  def __init__(self, side):\n",
        "    self._side = side\n",
        "class Square (RegularPolygon):\n",
        "  def area (self):\n",
        "    return self._side * self._side\n",
        "class EquilateralTriangle (RegularPolygon):\n",
        "  def area (self):\n",
        "    return self._side * self._side * 0.433\n",
        "obj1 = Square (4)\n",
        "obj2 = EquilateralTriangle (3)\n",
        "print (obj1.area())\n",
        "print (obj2.area())"
      ],
      "metadata": {
        "colab": {
          "base_uri": "https://localhost:8080/"
        },
        "id": "mxWVx6hjboKi",
        "outputId": "a5e115c7-4e08-4a4a-81df-6b8e57d4785d"
      },
      "execution_count": 2,
      "outputs": [
        {
          "output_type": "stream",
          "name": "stdout",
          "text": [
            "16\n",
            "3.897\n"
          ]
        }
      ]
    },
    {
      "cell_type": "code",
      "source": [
        "import math\n",
        "\n",
        "class RegularPolygon:\n",
        "    def __init__(self, side):\n",
        "        self._side = side\n",
        "\n",
        "class Square(RegularPolygon):\n",
        "    def area(self):\n",
        "        return self._side * self._side\n",
        "\n",
        "class EquilateralTriangle(RegularPolygon):\n",
        "    def area(self):\n",
        "        return self._side * self._side * 0.433\n",
        "\n",
        "class Trapezoid(RegularPolygon):\n",
        "    def __init__(self, side, b1, b2, height):\n",
        "        super().__init__(side)\n",
        "        self.b1 = b1\n",
        "        self.b2 = b2\n",
        "        self.height = height\n",
        "\n",
        "    def area(self):\n",
        "        return 0.5 * (self.b1 + self.b2) * self.height\n",
        "\n",
        "class Circle(RegularPolygon):\n",
        "    def __init__(self, radius):\n",
        "        super().__init__(radius)\n",
        "\n",
        "    def area(self):\n",
        "        return math.pi * (self._side ** 2)\n",
        "\n",
        "class Rectangle(RegularPolygon):\n",
        "    def __init__(self, side1, side2):\n",
        "        self._side1 = side1\n",
        "        self._side2 = side2\n",
        "\n",
        "    def area(self):\n",
        "        return self._side1 * self._side2\n",
        "\n",
        "# Create objects for each shape\n",
        "obj1 = Square(4)\n",
        "obj2 = EquilateralTriangle(3)\n",
        "obj3 = Trapezoid(0, 5, 7, 4)  # Example: side length not used, base1=5, base2=7, height=4\n",
        "obj4 = Circle(3)  # Example: radius = 3\n",
        "obj5 = Rectangle(5, 6)  # Example: side1 = 5, side2 = 6\n",
        "\n",
        "# Print areas\n",
        "print(f\"Area of Square: {obj1.area()}\")\n",
        "print(f\"Area of Equilateral Triangle: {obj2.area()}\")\n",
        "print(f\"Area of Trapezoid: {obj3.area()}\")\n",
        "print(f\"Area of Circle: {obj4.area()}\")\n",
        "print(f\"Area of Rectangle: {obj5.area()}\")"
      ],
      "metadata": {
        "colab": {
          "base_uri": "https://localhost:8080/"
        },
        "id": "G91nHyO1bv6P",
        "outputId": "4c9f0478-140c-400b-f47f-dc96c0a647cc"
      },
      "execution_count": 3,
      "outputs": [
        {
          "output_type": "stream",
          "name": "stdout",
          "text": [
            "Area of Square: 16\n",
            "Area of Equilateral Triangle: 3.897\n",
            "Area of Trapezoid: 24.0\n",
            "Area of Circle: 28.274333882308138\n",
            "Area of Rectangle: 30\n"
          ]
        }
      ]
    }
  ]
}