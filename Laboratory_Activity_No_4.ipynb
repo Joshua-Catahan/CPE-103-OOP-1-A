{
  "nbformat": 4,
  "nbformat_minor": 0,
  "metadata": {
    "colab": {
      "provenance": [],
      "authorship_tag": "ABX9TyO1iEkvcJ5OYBahNEMlqEhf",
      "include_colab_link": true
    },
    "kernelspec": {
      "name": "python3",
      "display_name": "Python 3"
    },
    "language_info": {
      "name": "python"
    }
  },
  "cells": [
    {
      "cell_type": "markdown",
      "metadata": {
        "id": "view-in-github",
        "colab_type": "text"
      },
      "source": [
        "<a href=\"https://colab.research.google.com/github/Joshua-Catahan/CPE-103-OOP-1-A/blob/main/Laboratory_Activity_No_4.ipynb\" target=\"_parent\"><img src=\"https://colab.research.google.com/assets/colab-badge.svg\" alt=\"Open In Colab\"/></a>"
      ]
    },
    {
      "cell_type": "markdown",
      "source": [
        "# **LISTS**"
      ],
      "metadata": {
        "id": "aOdPD5ohLQ8A"
      }
    },
    {
      "cell_type": "markdown",
      "source": [
        "**1.\tCreate a variable numberlist and assign it the value of [5,4,2,1,3].**"
      ],
      "metadata": {
        "id": "V5-QOoILGEj4"
      }
    },
    {
      "cell_type": "code",
      "execution_count": 1,
      "metadata": {
        "id": "aJ_aLnEzGDmN"
      },
      "outputs": [],
      "source": [
        "numberlist = [5, 4, 2, 1, 3]"
      ]
    },
    {
      "cell_type": "markdown",
      "source": [],
      "metadata": {
        "id": "dtFqtu5QSnAH"
      }
    },
    {
      "cell_type": "markdown",
      "source": [
        "**2.\tPrint the following values below:**\n",
        "\n",
        "a.\tlen(numberlist)\n",
        "\n",
        "b.\tnumberlist[0]\n",
        "\n",
        "c.\tnumberlist[1]\n",
        "\n",
        "d.\tnumberlist[2]\n",
        "\n",
        "e.\tnumberlist[3]\n",
        "\n",
        "f.\tnumberlist[4]\n",
        "\n",
        "g.\tnumberlist[5]\n",
        "\n",
        "h.\tnumberlist[-1]\n",
        "\n",
        "i.\tnumberlist[-2]\n",
        "\n",
        "j.\tnumberlist[-3]\n",
        "\n",
        "k.\tnumberlist[-4]\n",
        "\n",
        "l.\tnumberlist[-5]\n",
        "\n",
        "m.\tnumberlist[-6]\n"
      ],
      "metadata": {
        "id": "_2JamFWLIluJ"
      }
    },
    {
      "cell_type": "code",
      "source": [
        "#a\n",
        "print(len(numberlist))"
      ],
      "metadata": {
        "colab": {
          "base_uri": "https://localhost:8080/"
        },
        "id": "3Xu4mE2JHGZw",
        "outputId": "8d380c10-7997-4353-b012-65478d74ac6e"
      },
      "execution_count": 2,
      "outputs": [
        {
          "output_type": "stream",
          "name": "stdout",
          "text": [
            "5\n"
          ]
        }
      ]
    },
    {
      "cell_type": "code",
      "source": [
        "#b\n",
        "print(numberlist[0])"
      ],
      "metadata": {
        "colab": {
          "base_uri": "https://localhost:8080/"
        },
        "id": "I8lh4--ZGrwo",
        "outputId": "f9f00e4f-8b65-403b-cb21-91d974a78152"
      },
      "execution_count": 3,
      "outputs": [
        {
          "output_type": "stream",
          "name": "stdout",
          "text": [
            "5\n"
          ]
        }
      ]
    },
    {
      "cell_type": "code",
      "source": [
        "#c\n",
        "print(numberlist[1])"
      ],
      "metadata": {
        "colab": {
          "base_uri": "https://localhost:8080/"
        },
        "id": "-Cur44GhHWg3",
        "outputId": "55cd11ca-28a6-49cc-ef5b-8e9348ad5521"
      },
      "execution_count": 4,
      "outputs": [
        {
          "output_type": "stream",
          "name": "stdout",
          "text": [
            "4\n"
          ]
        }
      ]
    },
    {
      "cell_type": "code",
      "source": [
        "#d\n",
        "print(numberlist[2])"
      ],
      "metadata": {
        "colab": {
          "base_uri": "https://localhost:8080/"
        },
        "id": "l45Zyn0VHdo_",
        "outputId": "d201c4f8-b5ae-4f57-d598-5055e5cb0126"
      },
      "execution_count": 5,
      "outputs": [
        {
          "output_type": "stream",
          "name": "stdout",
          "text": [
            "2\n"
          ]
        }
      ]
    },
    {
      "cell_type": "code",
      "source": [
        "#e\n",
        "print(numberlist[3])"
      ],
      "metadata": {
        "colab": {
          "base_uri": "https://localhost:8080/"
        },
        "id": "zTyVxd4WHi5v",
        "outputId": "a45df0b9-ab07-4b99-ab0d-f8889b40f1bc"
      },
      "execution_count": 6,
      "outputs": [
        {
          "output_type": "stream",
          "name": "stdout",
          "text": [
            "1\n"
          ]
        }
      ]
    },
    {
      "cell_type": "code",
      "source": [
        "#f\n",
        "print(numberlist[4])"
      ],
      "metadata": {
        "colab": {
          "base_uri": "https://localhost:8080/"
        },
        "id": "xLNj095AHln3",
        "outputId": "de299378-5ef5-40c8-9ffa-b2fc8aa6acab"
      },
      "execution_count": 7,
      "outputs": [
        {
          "output_type": "stream",
          "name": "stdout",
          "text": [
            "3\n"
          ]
        }
      ]
    },
    {
      "cell_type": "code",
      "source": [
        "#g\n",
        "print(numberlist[5])"
      ],
      "metadata": {
        "colab": {
          "base_uri": "https://localhost:8080/",
          "height": 159
        },
        "id": "jnFT584qHomf",
        "outputId": "8f8bb295-2699-454b-e610-71b98a382b26"
      },
      "execution_count": 8,
      "outputs": [
        {
          "output_type": "error",
          "ename": "IndexError",
          "evalue": "list index out of range",
          "traceback": [
            "\u001b[0;31m---------------------------------------------------------------------------\u001b[0m",
            "\u001b[0;31mIndexError\u001b[0m                                Traceback (most recent call last)",
            "\u001b[0;32m<ipython-input-8-8a9d01743486>\u001b[0m in \u001b[0;36m<cell line: 0>\u001b[0;34m()\u001b[0m\n\u001b[1;32m      1\u001b[0m \u001b[0;31m#g\u001b[0m\u001b[0;34m\u001b[0m\u001b[0;34m\u001b[0m\u001b[0m\n\u001b[0;32m----> 2\u001b[0;31m \u001b[0mprint\u001b[0m\u001b[0;34m(\u001b[0m\u001b[0mnumberlist\u001b[0m\u001b[0;34m[\u001b[0m\u001b[0;36m5\u001b[0m\u001b[0;34m]\u001b[0m\u001b[0;34m)\u001b[0m\u001b[0;34m\u001b[0m\u001b[0;34m\u001b[0m\u001b[0m\n\u001b[0m",
            "\u001b[0;31mIndexError\u001b[0m: list index out of range"
          ]
        }
      ]
    },
    {
      "cell_type": "code",
      "source": [
        "#h\n",
        "print(numberlist[-1])"
      ],
      "metadata": {
        "colab": {
          "base_uri": "https://localhost:8080/"
        },
        "id": "9eu-MOoGHuzQ",
        "outputId": "0cdd9596-d4f8-4953-ad60-293396a25481"
      },
      "execution_count": 9,
      "outputs": [
        {
          "output_type": "stream",
          "name": "stdout",
          "text": [
            "3\n"
          ]
        }
      ]
    },
    {
      "cell_type": "code",
      "source": [
        "#i\n",
        "print(numberlist[-2])"
      ],
      "metadata": {
        "colab": {
          "base_uri": "https://localhost:8080/"
        },
        "id": "rJEe0rvgH2p_",
        "outputId": "c7294986-ae82-47ae-ee69-4fcaf00fcc71"
      },
      "execution_count": 10,
      "outputs": [
        {
          "output_type": "stream",
          "name": "stdout",
          "text": [
            "1\n"
          ]
        }
      ]
    },
    {
      "cell_type": "code",
      "source": [
        "#j\n",
        "print(numberlist[-3])"
      ],
      "metadata": {
        "colab": {
          "base_uri": "https://localhost:8080/"
        },
        "id": "wqQj_ugRH7eo",
        "outputId": "e692bc01-8683-4c63-9749-151c28e21796"
      },
      "execution_count": 11,
      "outputs": [
        {
          "output_type": "stream",
          "name": "stdout",
          "text": [
            "2\n"
          ]
        }
      ]
    },
    {
      "cell_type": "code",
      "source": [
        "#k\n",
        "print(numberlist[-4])"
      ],
      "metadata": {
        "colab": {
          "base_uri": "https://localhost:8080/"
        },
        "id": "vPR51GwNH-S_",
        "outputId": "2e6090a0-6eea-484d-f1a4-3e9419f982dd"
      },
      "execution_count": 12,
      "outputs": [
        {
          "output_type": "stream",
          "name": "stdout",
          "text": [
            "4\n"
          ]
        }
      ]
    },
    {
      "cell_type": "code",
      "source": [
        "#l\n",
        "print(numberlist[-5])"
      ],
      "metadata": {
        "colab": {
          "base_uri": "https://localhost:8080/"
        },
        "id": "F242_yHlIDD3",
        "outputId": "b2b6bc01-3086-4f58-f16a-091a80a3ef0a"
      },
      "execution_count": 13,
      "outputs": [
        {
          "output_type": "stream",
          "name": "stdout",
          "text": [
            "5\n"
          ]
        }
      ]
    },
    {
      "cell_type": "code",
      "source": [
        "#m\n",
        "print(numberlist[-6])"
      ],
      "metadata": {
        "colab": {
          "base_uri": "https://localhost:8080/",
          "height": 159
        },
        "id": "2LTV2OGLIG-f",
        "outputId": "7483e7d3-7869-47b5-8ddb-7907b6394ec2"
      },
      "execution_count": 14,
      "outputs": [
        {
          "output_type": "error",
          "ename": "IndexError",
          "evalue": "list index out of range",
          "traceback": [
            "\u001b[0;31m---------------------------------------------------------------------------\u001b[0m",
            "\u001b[0;31mIndexError\u001b[0m                                Traceback (most recent call last)",
            "\u001b[0;32m<ipython-input-14-7387fb30fe83>\u001b[0m in \u001b[0;36m<cell line: 0>\u001b[0;34m()\u001b[0m\n\u001b[1;32m      1\u001b[0m \u001b[0;31m#m\u001b[0m\u001b[0;34m\u001b[0m\u001b[0;34m\u001b[0m\u001b[0m\n\u001b[0;32m----> 2\u001b[0;31m \u001b[0mprint\u001b[0m\u001b[0;34m(\u001b[0m\u001b[0mnumberlist\u001b[0m\u001b[0;34m[\u001b[0m\u001b[0;34m-\u001b[0m\u001b[0;36m6\u001b[0m\u001b[0;34m]\u001b[0m\u001b[0;34m)\u001b[0m\u001b[0;34m\u001b[0m\u001b[0;34m\u001b[0m\u001b[0m\n\u001b[0m",
            "\u001b[0;31mIndexError\u001b[0m: list index out of range"
          ]
        }
      ]
    },
    {
      "cell_type": "markdown",
      "source": [
        "**3.\tWrite your observation after printing all the values.**\n",
        "\n",
        "-"
      ],
      "metadata": {
        "id": "0ntJmKHdIaqH"
      }
    },
    {
      "cell_type": "markdown",
      "source": [
        "**4.\tCreate a variable named itemlist and assign it the value of [1,-2.0,[1,2,3],”Word”]**"
      ],
      "metadata": {
        "id": "d4XHCeHlIfcf"
      }
    },
    {
      "cell_type": "code",
      "source": [
        "itemlist = [1, -2.0, [1, 2, 3], \"Word\"]"
      ],
      "metadata": {
        "id": "b_i-HaZYJ2Kg"
      },
      "execution_count": 15,
      "outputs": []
    },
    {
      "cell_type": "markdown",
      "source": [
        "**5.\tPrint the following values below:**\n",
        "\n",
        "a.\tlen(itemlist)\n",
        "\n",
        "b.\titemlist [0]\n",
        "\n",
        "c.\titemlist [1]\n",
        "\n",
        "d.\titemlist [2]\n",
        "\n",
        "e.\titemlist [3]\n",
        "\n",
        "f.\tlen(itemlist[2])\n",
        "\n",
        "g.\titemlist [2][0]\n",
        "\n",
        "h.\titemlist [2][1]\n",
        "\n",
        "i.\titemlist [2][2]\n",
        "\n",
        "j.\titemlist [-1]\n",
        "\n"
      ],
      "metadata": {
        "id": "OoYREeHlJPd5"
      }
    },
    {
      "cell_type": "code",
      "source": [
        "#a\n",
        "print(len(itemlist))"
      ],
      "metadata": {
        "colab": {
          "base_uri": "https://localhost:8080/"
        },
        "id": "GXmyatgvKI1P",
        "outputId": "2f85df2d-aa1e-4ff6-e82a-b29119ca147c"
      },
      "execution_count": 16,
      "outputs": [
        {
          "output_type": "stream",
          "name": "stdout",
          "text": [
            "4\n"
          ]
        }
      ]
    },
    {
      "cell_type": "code",
      "source": [
        "#b\n",
        "print(itemlist[0])"
      ],
      "metadata": {
        "colab": {
          "base_uri": "https://localhost:8080/"
        },
        "id": "4HtTuwEDKWZX",
        "outputId": "ce65aec6-085a-4206-8a3b-196af78af86a"
      },
      "execution_count": 17,
      "outputs": [
        {
          "output_type": "stream",
          "name": "stdout",
          "text": [
            "1\n"
          ]
        }
      ]
    },
    {
      "cell_type": "code",
      "source": [
        "#c\n",
        "print(itemlist[1])"
      ],
      "metadata": {
        "colab": {
          "base_uri": "https://localhost:8080/"
        },
        "id": "hsQi8vFQKY__",
        "outputId": "7c61ce9a-c645-49f9-d23c-6308e4cbd58e"
      },
      "execution_count": 18,
      "outputs": [
        {
          "output_type": "stream",
          "name": "stdout",
          "text": [
            "-2.0\n"
          ]
        }
      ]
    },
    {
      "cell_type": "code",
      "source": [
        "#d\n",
        "print(itemlist[2])"
      ],
      "metadata": {
        "colab": {
          "base_uri": "https://localhost:8080/"
        },
        "id": "SAqTgiFjKdJX",
        "outputId": "c2dc0152-7964-4455-87c6-debd36ea4a00"
      },
      "execution_count": 19,
      "outputs": [
        {
          "output_type": "stream",
          "name": "stdout",
          "text": [
            "[1, 2, 3]\n"
          ]
        }
      ]
    },
    {
      "cell_type": "code",
      "source": [
        "#e\n",
        "print(itemlist[3])"
      ],
      "metadata": {
        "colab": {
          "base_uri": "https://localhost:8080/"
        },
        "id": "MeDjzdmqKfcp",
        "outputId": "047bb44e-0865-4261-a792-e167e458de3c"
      },
      "execution_count": 20,
      "outputs": [
        {
          "output_type": "stream",
          "name": "stdout",
          "text": [
            "Word\n"
          ]
        }
      ]
    },
    {
      "cell_type": "code",
      "source": [
        "#f\n",
        "print(len(itemlist[2]))"
      ],
      "metadata": {
        "colab": {
          "base_uri": "https://localhost:8080/"
        },
        "id": "-zSKouiKKhzX",
        "outputId": "9d983696-7d6c-4f9c-c909-ed649947666e"
      },
      "execution_count": 21,
      "outputs": [
        {
          "output_type": "stream",
          "name": "stdout",
          "text": [
            "3\n"
          ]
        }
      ]
    },
    {
      "cell_type": "code",
      "source": [
        "#g\n",
        "print(itemlist[2][0])"
      ],
      "metadata": {
        "colab": {
          "base_uri": "https://localhost:8080/"
        },
        "id": "3kYIRIG4KlQg",
        "outputId": "d19e06d6-5cb0-4f36-d24e-d7510acc464a"
      },
      "execution_count": 22,
      "outputs": [
        {
          "output_type": "stream",
          "name": "stdout",
          "text": [
            "1\n"
          ]
        }
      ]
    },
    {
      "cell_type": "code",
      "source": [
        "#h\n",
        "print(itemlist[2][1])"
      ],
      "metadata": {
        "colab": {
          "base_uri": "https://localhost:8080/"
        },
        "id": "hBFNwyV2KnbP",
        "outputId": "da7da441-3f52-4434-f1b9-bc3f32707a41"
      },
      "execution_count": 23,
      "outputs": [
        {
          "output_type": "stream",
          "name": "stdout",
          "text": [
            "2\n"
          ]
        }
      ]
    },
    {
      "cell_type": "code",
      "source": [
        "#i\n",
        "print(itemlist[2][2])"
      ],
      "metadata": {
        "colab": {
          "base_uri": "https://localhost:8080/"
        },
        "id": "BAgqyv5aKp1P",
        "outputId": "c96f66d3-b662-466b-ed71-f9773e367b50"
      },
      "execution_count": 24,
      "outputs": [
        {
          "output_type": "stream",
          "name": "stdout",
          "text": [
            "3\n"
          ]
        }
      ]
    },
    {
      "cell_type": "code",
      "source": [
        "#j\n",
        "print(itemlist[-1])"
      ],
      "metadata": {
        "colab": {
          "base_uri": "https://localhost:8080/"
        },
        "id": "BlIthNnmKsGB",
        "outputId": "17cfbbbe-af83-4944-81dd-8030760f482b"
      },
      "execution_count": 25,
      "outputs": [
        {
          "output_type": "stream",
          "name": "stdout",
          "text": [
            "Word\n"
          ]
        }
      ]
    },
    {
      "cell_type": "markdown",
      "source": [
        "**6.  Write your observation after printing all the values. What does len() do?**\n",
        "\n",
        "-"
      ],
      "metadata": {
        "id": "usg6aCMpKzJa"
      }
    },
    {
      "cell_type": "markdown",
      "source": [
        "# INDEX SLICING"
      ],
      "metadata": {
        "id": "jCvs1MC_LBlR"
      }
    },
    {
      "cell_type": "markdown",
      "source": [
        "1.\tCreate a new variable longlist and assign it the value of numberlist + itemlist."
      ],
      "metadata": {
        "id": "taJOssWyLLx4"
      }
    },
    {
      "cell_type": "code",
      "source": [
        "longlist = numberlist + itemlist"
      ],
      "metadata": {
        "id": "-udNIHHtLcCP"
      },
      "execution_count": 26,
      "outputs": []
    },
    {
      "cell_type": "markdown",
      "source": [
        "**2.\tPrint the following values below and write your observation for each of the following sub-groups (sub-headings):**\n",
        "\n",
        "a.\tlen(longlist)\n",
        "\n",
        "b.\tlonglist [:]\n",
        "\n",
        "c.\tlonglist[:9]\n",
        "\n",
        "d.\tlonglist[0:]\n",
        "\n",
        "e.\tlonglist[1:]\n",
        "\n",
        "f.\tlonglist[2:]\n",
        "\n"
      ],
      "metadata": {
        "id": "wA4o9wSwLkjX"
      }
    },
    {
      "cell_type": "code",
      "source": [
        "#a\n",
        "print(len(longlist))"
      ],
      "metadata": {
        "colab": {
          "base_uri": "https://localhost:8080/"
        },
        "id": "aNApYbeJL0bX",
        "outputId": "6ca58137-0af8-4934-8b46-101afca4ac9c"
      },
      "execution_count": 27,
      "outputs": [
        {
          "output_type": "stream",
          "name": "stdout",
          "text": [
            "9\n"
          ]
        }
      ]
    },
    {
      "cell_type": "code",
      "source": [
        "#b\n",
        "print(longlist[:])"
      ],
      "metadata": {
        "colab": {
          "base_uri": "https://localhost:8080/"
        },
        "id": "uu5MTacEMAWg",
        "outputId": "138112e8-df45-4182-e946-46356e1dc924"
      },
      "execution_count": 28,
      "outputs": [
        {
          "output_type": "stream",
          "name": "stdout",
          "text": [
            "[5, 4, 2, 1, 3, 1, -2.0, [1, 2, 3], 'Word']\n"
          ]
        }
      ]
    },
    {
      "cell_type": "code",
      "source": [
        "#c\n",
        "print(longlist[:9])"
      ],
      "metadata": {
        "colab": {
          "base_uri": "https://localhost:8080/"
        },
        "id": "EGr2HrbxMDCH",
        "outputId": "5e41e87b-6663-488a-aa1b-b95ef55e2791"
      },
      "execution_count": 29,
      "outputs": [
        {
          "output_type": "stream",
          "name": "stdout",
          "text": [
            "[5, 4, 2, 1, 3, 1, -2.0, [1, 2, 3], 'Word']\n"
          ]
        }
      ]
    },
    {
      "cell_type": "code",
      "source": [
        "#d\n",
        "print(longlist[0:])"
      ],
      "metadata": {
        "colab": {
          "base_uri": "https://localhost:8080/"
        },
        "id": "b_BeccC4MGEf",
        "outputId": "2124e35a-2923-48af-89e4-f12cb8214c90"
      },
      "execution_count": 30,
      "outputs": [
        {
          "output_type": "stream",
          "name": "stdout",
          "text": [
            "[5, 4, 2, 1, 3, 1, -2.0, [1, 2, 3], 'Word']\n"
          ]
        }
      ]
    },
    {
      "cell_type": "code",
      "source": [
        "#e\n",
        "print(longlist[1:])"
      ],
      "metadata": {
        "colab": {
          "base_uri": "https://localhost:8080/"
        },
        "id": "k4oDx0VOMI5g",
        "outputId": "c68ddf28-3b8e-411a-ad12-c5f7a7a0a6ae"
      },
      "execution_count": 31,
      "outputs": [
        {
          "output_type": "stream",
          "name": "stdout",
          "text": [
            "[4, 2, 1, 3, 1, -2.0, [1, 2, 3], 'Word']\n"
          ]
        }
      ]
    },
    {
      "cell_type": "code",
      "source": [
        "#f\n",
        "print(longlist[2:])"
      ],
      "metadata": {
        "colab": {
          "base_uri": "https://localhost:8080/"
        },
        "id": "Ak2xhUfEMLBQ",
        "outputId": "4c91c856-aa40-4f8d-b007-e10bd782eed1"
      },
      "execution_count": 32,
      "outputs": [
        {
          "output_type": "stream",
          "name": "stdout",
          "text": [
            "[2, 1, 3, 1, -2.0, [1, 2, 3], 'Word']\n"
          ]
        }
      ]
    },
    {
      "cell_type": "markdown",
      "source": [
        "**OBSERVATION:**\n",
        "\n",
        "-"
      ],
      "metadata": {
        "id": "uvhY7keDMWeP"
      }
    },
    {
      "cell_type": "markdown",
      "source": [
        "***Index Slicing with Range***\n",
        "\n",
        "g.\tlonglist[2:5]\n",
        "\n",
        "h.\tlonglist[5:2]\n",
        "\n",
        "i.\tlonglist[8:]\n",
        "\n",
        "j.\tlonglist[9:]\n",
        "\n"
      ],
      "metadata": {
        "id": "09-CKdX0McZX"
      }
    },
    {
      "cell_type": "code",
      "source": [
        "#g\n",
        "print(longlist[2:5])"
      ],
      "metadata": {
        "colab": {
          "base_uri": "https://localhost:8080/"
        },
        "id": "cmPRrQ3tMrCv",
        "outputId": "8e7a1714-2944-4b4e-df32-1db288006b8f"
      },
      "execution_count": 33,
      "outputs": [
        {
          "output_type": "stream",
          "name": "stdout",
          "text": [
            "[2, 1, 3]\n"
          ]
        }
      ]
    },
    {
      "cell_type": "code",
      "source": [
        "#h\n",
        "print(longlist[5:2])"
      ],
      "metadata": {
        "colab": {
          "base_uri": "https://localhost:8080/"
        },
        "id": "DUKXTiTJMuS_",
        "outputId": "fd79b901-3541-4962-ca12-51bf414a3313"
      },
      "execution_count": 34,
      "outputs": [
        {
          "output_type": "stream",
          "name": "stdout",
          "text": [
            "[]\n"
          ]
        }
      ]
    },
    {
      "cell_type": "code",
      "source": [
        "#i\n",
        "print(longlist[8:])"
      ],
      "metadata": {
        "colab": {
          "base_uri": "https://localhost:8080/"
        },
        "id": "ew0-63ckNC5n",
        "outputId": "6b08f674-c185-4636-b7e2-24409f3cb1a7"
      },
      "execution_count": 35,
      "outputs": [
        {
          "output_type": "stream",
          "name": "stdout",
          "text": [
            "['Word']\n"
          ]
        }
      ]
    },
    {
      "cell_type": "code",
      "source": [
        "#j\n",
        "print(longlist[9:])"
      ],
      "metadata": {
        "colab": {
          "base_uri": "https://localhost:8080/"
        },
        "id": "Pl3xK3taNJFP",
        "outputId": "5ee89ba2-ec13-4cdc-aaca-43b862c35a29"
      },
      "execution_count": 36,
      "outputs": [
        {
          "output_type": "stream",
          "name": "stdout",
          "text": [
            "[]\n"
          ]
        }
      ]
    },
    {
      "cell_type": "markdown",
      "source": [
        "**OBSERVATION (Index Slicing with Range):**\n",
        "\n",
        "-"
      ],
      "metadata": {
        "id": "fqAbHERQNVan"
      }
    },
    {
      "cell_type": "markdown",
      "source": [
        "***Index Slicing using Negative Indices***\n",
        "\n",
        "k.\tlonglist[-9:]\n",
        "\n",
        "l.\tlonglist[-8:]\n",
        "\n",
        "m.\tlonglist[-8:-7]\n",
        "\n",
        "n.\tlonglist[-1:]\n",
        "\n"
      ],
      "metadata": {
        "id": "r3S2I43INNkP"
      }
    },
    {
      "cell_type": "code",
      "source": [
        "#k\n",
        "print(longlist[-9:])"
      ],
      "metadata": {
        "colab": {
          "base_uri": "https://localhost:8080/"
        },
        "id": "Dlk0IGHWNhp_",
        "outputId": "64f037c0-d4f5-41b7-bf3a-ae450eb188df"
      },
      "execution_count": 37,
      "outputs": [
        {
          "output_type": "stream",
          "name": "stdout",
          "text": [
            "[5, 4, 2, 1, 3, 1, -2.0, [1, 2, 3], 'Word']\n"
          ]
        }
      ]
    },
    {
      "cell_type": "code",
      "source": [
        "#l\n",
        "print(longlist[-8:])"
      ],
      "metadata": {
        "colab": {
          "base_uri": "https://localhost:8080/"
        },
        "id": "BET0c-8hNr-P",
        "outputId": "255966b1-dab6-4e0f-9f44-eff9e6ffb934"
      },
      "execution_count": 38,
      "outputs": [
        {
          "output_type": "stream",
          "name": "stdout",
          "text": [
            "[4, 2, 1, 3, 1, -2.0, [1, 2, 3], 'Word']\n"
          ]
        }
      ]
    },
    {
      "cell_type": "code",
      "source": [
        "#m\n",
        "print(longlist[-8:-7])"
      ],
      "metadata": {
        "colab": {
          "base_uri": "https://localhost:8080/"
        },
        "id": "W-67WN2YNyiX",
        "outputId": "d016ad77-5cf0-44d6-aadb-7374cec66507"
      },
      "execution_count": 39,
      "outputs": [
        {
          "output_type": "stream",
          "name": "stdout",
          "text": [
            "[4]\n"
          ]
        }
      ]
    },
    {
      "cell_type": "code",
      "source": [
        "#n\n",
        "print(longlist[-1:])"
      ],
      "metadata": {
        "colab": {
          "base_uri": "https://localhost:8080/"
        },
        "id": "5jBwhAoeN61Q",
        "outputId": "04eb3981-9692-42cf-a62f-23785678743f"
      },
      "execution_count": 40,
      "outputs": [
        {
          "output_type": "stream",
          "name": "stdout",
          "text": [
            "['Word']\n"
          ]
        }
      ]
    },
    {
      "cell_type": "markdown",
      "source": [
        "**OBSERVATION (Index Slicing using Negative Indices):**\n",
        "\n",
        "-"
      ],
      "metadata": {
        "id": "TaFrfuwtOXKv"
      }
    },
    {
      "cell_type": "markdown",
      "source": [
        "***Other properties of Index Slicing***\n",
        "\n",
        "o.\tlonglist[10:20]\n",
        "\n",
        "p.\tlonglist[-7:5]\n"
      ],
      "metadata": {
        "id": "AFhJEPJqN9x_"
      }
    },
    {
      "cell_type": "code",
      "source": [
        "#o\n",
        "print(longlist[10:20])"
      ],
      "metadata": {
        "colab": {
          "base_uri": "https://localhost:8080/"
        },
        "id": "kZhV1JplOE7p",
        "outputId": "782ec038-8c64-41ae-b488-f8beb03bd4fd"
      },
      "execution_count": 41,
      "outputs": [
        {
          "output_type": "stream",
          "name": "stdout",
          "text": [
            "[]\n"
          ]
        }
      ]
    },
    {
      "cell_type": "code",
      "source": [
        "#p\n",
        "print(longlist[-7:5])"
      ],
      "metadata": {
        "colab": {
          "base_uri": "https://localhost:8080/"
        },
        "id": "hXdMd2JPOLAX",
        "outputId": "5ec6fde0-8bf0-4a9a-8f12-b6d8d4f9d8ec"
      },
      "execution_count": 42,
      "outputs": [
        {
          "output_type": "stream",
          "name": "stdout",
          "text": [
            "[2, 1, 3]\n"
          ]
        }
      ]
    },
    {
      "cell_type": "markdown",
      "source": [
        "***Index Slicing with Step parameter***\n",
        "\n",
        "q.\tlonglist[::1]\n",
        "\n",
        "r.\tlonglist[::2]\n",
        "\n",
        "s.\tlonglist[1:8:2]\n",
        "\n",
        "t.\tlonglist[9:1:-1]\n",
        "\n",
        "u.\tlonglist[-1::1]\n",
        "\n",
        "v.\tlonglist[-1::-1]\n"
      ],
      "metadata": {
        "id": "Z1ixLIssOt43"
      }
    },
    {
      "cell_type": "code",
      "source": [
        "#q\n",
        "print(longlist[::1])"
      ],
      "metadata": {
        "colab": {
          "base_uri": "https://localhost:8080/"
        },
        "id": "DnsujwiCO2V_",
        "outputId": "3af7f601-9e95-4009-c4d3-4ac14728db2c"
      },
      "execution_count": 43,
      "outputs": [
        {
          "output_type": "stream",
          "name": "stdout",
          "text": [
            "[5, 4, 2, 1, 3, 1, -2.0, [1, 2, 3], 'Word']\n"
          ]
        }
      ]
    },
    {
      "cell_type": "code",
      "source": [
        "#r\n",
        "print(longlist[::2])"
      ],
      "metadata": {
        "colab": {
          "base_uri": "https://localhost:8080/"
        },
        "id": "R_Qoc48_O7VH",
        "outputId": "7e215101-349d-450a-a848-a89eb323e00a"
      },
      "execution_count": 44,
      "outputs": [
        {
          "output_type": "stream",
          "name": "stdout",
          "text": [
            "[5, 2, 3, -2.0, 'Word']\n"
          ]
        }
      ]
    },
    {
      "cell_type": "code",
      "source": [
        "#s\n",
        "print(longlist[1:8:2])"
      ],
      "metadata": {
        "colab": {
          "base_uri": "https://localhost:8080/"
        },
        "id": "vnXSz1yaO92v",
        "outputId": "553fa728-98a5-45b6-bf4b-1b87a1343ea6"
      },
      "execution_count": 45,
      "outputs": [
        {
          "output_type": "stream",
          "name": "stdout",
          "text": [
            "[4, 1, 1, [1, 2, 3]]\n"
          ]
        }
      ]
    },
    {
      "cell_type": "code",
      "source": [
        "#t\n",
        "print(longlist[9:1:-1])"
      ],
      "metadata": {
        "colab": {
          "base_uri": "https://localhost:8080/"
        },
        "id": "ulU3nHwPPABP",
        "outputId": "b7f3ae88-6079-45a1-ecc7-6e112b0ba79c"
      },
      "execution_count": 46,
      "outputs": [
        {
          "output_type": "stream",
          "name": "stdout",
          "text": [
            "['Word', [1, 2, 3], -2.0, 1, 3, 1, 2]\n"
          ]
        }
      ]
    },
    {
      "cell_type": "code",
      "source": [
        "#u\n",
        "print(longlist[-1::1])"
      ],
      "metadata": {
        "colab": {
          "base_uri": "https://localhost:8080/"
        },
        "id": "bS5EEDKYPEO_",
        "outputId": "e73c6403-0321-4308-cc4e-5329f392ba7d"
      },
      "execution_count": 47,
      "outputs": [
        {
          "output_type": "stream",
          "name": "stdout",
          "text": [
            "['Word']\n"
          ]
        }
      ]
    },
    {
      "cell_type": "code",
      "source": [
        "#v\n",
        "print(longlist[-1::-1])"
      ],
      "metadata": {
        "colab": {
          "base_uri": "https://localhost:8080/"
        },
        "id": "JvQNi61SPHrA",
        "outputId": "370d42bd-d020-4c3e-a417-bed8da4a533c"
      },
      "execution_count": 48,
      "outputs": [
        {
          "output_type": "stream",
          "name": "stdout",
          "text": [
            "['Word', [1, 2, 3], -2.0, 1, 3, 1, 2, 4, 5]\n"
          ]
        }
      ]
    },
    {
      "cell_type": "markdown",
      "source": [
        "**OBSERVATION (Index Slicing with Step parameter):**\n",
        "\n",
        "-"
      ],
      "metadata": {
        "id": "1pJmV-A7PQFo"
      }
    },
    {
      "cell_type": "markdown",
      "source": [
        "**3.\tWrite your main observation about index slicing as a whole.**\n",
        "\n",
        "-"
      ],
      "metadata": {
        "id": "pRehfOKGPeQY"
      }
    },
    {
      "cell_type": "markdown",
      "source": [
        "# **List Methods and the Mutable Property of Lists**"
      ],
      "metadata": {
        "id": "X7CSJ-FdPjWf"
      }
    },
    {
      "cell_type": "markdown",
      "source": [
        "**1.\tCreate a new variable numberlist2 and assign it to be equal to numberlist.**"
      ],
      "metadata": {
        "id": "pLdp_ZxbPmvX"
      }
    },
    {
      "cell_type": "code",
      "source": [
        "numberlist2 = numberlist"
      ],
      "metadata": {
        "id": "afc2CoFuPqAX"
      },
      "execution_count": 49,
      "outputs": []
    },
    {
      "cell_type": "markdown",
      "source": [
        "**2.\tPrint the value of numberlist.**"
      ],
      "metadata": {
        "id": "lqVybjAwP0zH"
      }
    },
    {
      "cell_type": "code",
      "source": [
        "print(numberlist)"
      ],
      "metadata": {
        "colab": {
          "base_uri": "https://localhost:8080/"
        },
        "id": "2DyU1tzgP3wI",
        "outputId": "38415898-0856-4bb9-d46f-dbd43edc9a81"
      },
      "execution_count": 50,
      "outputs": [
        {
          "output_type": "stream",
          "name": "stdout",
          "text": [
            "[5, 4, 2, 1, 3]\n"
          ]
        }
      ]
    },
    {
      "cell_type": "markdown",
      "source": [
        "**3.\tPrint the value of numberlist2.**"
      ],
      "metadata": {
        "id": "GpdRYDEMP-n4"
      }
    },
    {
      "cell_type": "code",
      "source": [
        "print(numberlist2)"
      ],
      "metadata": {
        "colab": {
          "base_uri": "https://localhost:8080/"
        },
        "id": "u5mSWwizQA0_",
        "outputId": "f20c1541-b5d8-41e6-fdd9-94d42b2d2656"
      },
      "execution_count": 51,
      "outputs": [
        {
          "output_type": "stream",
          "name": "stdout",
          "text": [
            "[5, 4, 2, 1, 3]\n"
          ]
        }
      ]
    },
    {
      "cell_type": "markdown",
      "source": [
        "**4.\tAssign the value of numberlist[0] to be equal to 6.**"
      ],
      "metadata": {
        "id": "FuYBI11AQKHv"
      }
    },
    {
      "cell_type": "code",
      "source": [
        "numberlist[0] = 6"
      ],
      "metadata": {
        "id": "roD9VJPlQIaH"
      },
      "execution_count": 52,
      "outputs": []
    },
    {
      "cell_type": "markdown",
      "source": [
        "**5.\tPrint the value of numberlist.**"
      ],
      "metadata": {
        "id": "5JocOGAvQdRf"
      }
    },
    {
      "cell_type": "code",
      "source": [
        "print(numberlist)"
      ],
      "metadata": {
        "colab": {
          "base_uri": "https://localhost:8080/"
        },
        "id": "54wtKOhpQiN3",
        "outputId": "92b0843c-832a-41c2-8a32-23424904f2e3"
      },
      "execution_count": 53,
      "outputs": [
        {
          "output_type": "stream",
          "name": "stdout",
          "text": [
            "[6, 4, 2, 1, 3]\n"
          ]
        }
      ]
    },
    {
      "cell_type": "markdown",
      "source": [
        "**6.\tPrint the value of numberlist2.**"
      ],
      "metadata": {
        "id": "PR_jzDSdQr6X"
      }
    },
    {
      "cell_type": "code",
      "source": [
        "print(numberlist2)"
      ],
      "metadata": {
        "colab": {
          "base_uri": "https://localhost:8080/"
        },
        "id": "JQfnDN_JQ1Z5",
        "outputId": "02462e52-1bbd-4077-bb03-b14f1015cc78"
      },
      "execution_count": 54,
      "outputs": [
        {
          "output_type": "stream",
          "name": "stdout",
          "text": [
            "[6, 4, 2, 1, 3]\n"
          ]
        }
      ]
    },
    {
      "cell_type": "markdown",
      "source": [
        "**7.\tObserve how numberlist2 is affected by changes in numberlist due to the assignment.**\n",
        "\n",
        "**8.\tChange the value of numberlist2 and assign it the value of numberlist.copy()**\n"
      ],
      "metadata": {
        "id": "UDdwGvURQ4O4"
      }
    },
    {
      "cell_type": "code",
      "source": [
        "numberlist2 = numberlist.copy()"
      ],
      "metadata": {
        "id": "Mh50lJBpQ7mA"
      },
      "execution_count": 55,
      "outputs": []
    },
    {
      "cell_type": "markdown",
      "source": [
        "**9.\tPrint the value of numberlist2**"
      ],
      "metadata": {
        "id": "M5RU9vVBRVj3"
      }
    },
    {
      "cell_type": "code",
      "source": [
        "print (numberlist2)"
      ],
      "metadata": {
        "colab": {
          "base_uri": "https://localhost:8080/"
        },
        "id": "4L40G3NbRXdX",
        "outputId": "37b814ba-9d07-4ce5-8357-6d477121d773"
      },
      "execution_count": 56,
      "outputs": [
        {
          "output_type": "stream",
          "name": "stdout",
          "text": [
            "[6, 4, 2, 1, 3]\n"
          ]
        }
      ]
    },
    {
      "cell_type": "markdown",
      "source": [
        "**10.\tAssign the value of numberlist[0] to be equal to 5.**"
      ],
      "metadata": {
        "id": "dsq7pyKORbQ3"
      }
    },
    {
      "cell_type": "code",
      "source": [
        "numberlist[0] = 5"
      ],
      "metadata": {
        "id": "MrE8resMRdbq"
      },
      "execution_count": 57,
      "outputs": []
    },
    {
      "cell_type": "markdown",
      "source": [
        "**11.\tPrint the value of numberlist.**"
      ],
      "metadata": {
        "id": "Ct7Vv9PjRg9P"
      }
    },
    {
      "cell_type": "code",
      "source": [
        "print (numberlist)"
      ],
      "metadata": {
        "colab": {
          "base_uri": "https://localhost:8080/"
        },
        "id": "0FRNlSmRRjHQ",
        "outputId": "8a4c3d84-9d38-4728-bf7f-831a6b2cac2e"
      },
      "execution_count": 58,
      "outputs": [
        {
          "output_type": "stream",
          "name": "stdout",
          "text": [
            "[5, 4, 2, 1, 3]\n"
          ]
        }
      ]
    },
    {
      "cell_type": "markdown",
      "source": [
        "**12.\tPrint the value of numberlist2.**"
      ],
      "metadata": {
        "id": "hY5qQyTpRle3"
      }
    },
    {
      "cell_type": "code",
      "source": [
        "print (numberlist2)"
      ],
      "metadata": {
        "colab": {
          "base_uri": "https://localhost:8080/"
        },
        "id": "WMf95aL2Rnzo",
        "outputId": "df087301-280d-4ba4-bcea-0b2b6dddfa49"
      },
      "execution_count": 59,
      "outputs": [
        {
          "output_type": "stream",
          "name": "stdout",
          "text": [
            "[6, 4, 2, 1, 3]\n"
          ]
        }
      ]
    },
    {
      "cell_type": "markdown",
      "source": [
        "**13.\tWrite your observation about the immutable property and the difference of assigning numberlist2 to be equal to numberlist and the numberlist.copy() method.**\n",
        "\n",
        "-"
      ],
      "metadata": {
        "id": "Wm6LD6C0SYzf"
      }
    },
    {
      "cell_type": "markdown",
      "source": [
        "# **Exploring some List Functions and Methods**"
      ],
      "metadata": {
        "id": "RxM4LIUbSdMu"
      }
    },
    {
      "cell_type": "markdown",
      "source": [
        "**1.\tPrint the value of numberlist**"
      ],
      "metadata": {
        "id": "8BWYQ1cFSuj2"
      }
    },
    {
      "cell_type": "code",
      "source": [
        "print(numberlist)"
      ],
      "metadata": {
        "colab": {
          "base_uri": "https://localhost:8080/"
        },
        "id": "RvRfX08mSvqX",
        "outputId": "a472e57f-0456-4fc2-8dd4-426a8d01899f"
      },
      "execution_count": 60,
      "outputs": [
        {
          "output_type": "stream",
          "name": "stdout",
          "text": [
            "[5, 4, 2, 1, 3]\n"
          ]
        }
      ]
    },
    {
      "cell_type": "markdown",
      "source": [
        "**2.\tRun the command numberlist.append(6)**"
      ],
      "metadata": {
        "id": "XKoDaNaOSynX"
      }
    },
    {
      "cell_type": "code",
      "source": [
        "numberlist.append(6)"
      ],
      "metadata": {
        "id": "eYdMt6KkS06o"
      },
      "execution_count": 61,
      "outputs": []
    },
    {
      "cell_type": "markdown",
      "source": [
        "**3.\tPrint the value of numberlist**"
      ],
      "metadata": {
        "id": "KFcaWS4XS4wP"
      }
    },
    {
      "cell_type": "code",
      "source": [
        "print(numberlist)"
      ],
      "metadata": {
        "colab": {
          "base_uri": "https://localhost:8080/"
        },
        "id": "5UkwXfyhS6h-",
        "outputId": "d2aca830-3424-49f4-da3c-af5e88715ec3"
      },
      "execution_count": 62,
      "outputs": [
        {
          "output_type": "stream",
          "name": "stdout",
          "text": [
            "[5, 4, 2, 1, 3, 6]\n"
          ]
        }
      ]
    },
    {
      "cell_type": "markdown",
      "source": [
        "**4.\tRun the command numberlist.pop()**"
      ],
      "metadata": {
        "id": "EeDqcfKDS8uf"
      }
    },
    {
      "cell_type": "code",
      "source": [
        "numberlist.pop()"
      ],
      "metadata": {
        "colab": {
          "base_uri": "https://localhost:8080/"
        },
        "id": "j-vgHj4TS_zX",
        "outputId": "719eb1a0-95d5-459f-d624-671b6a41d0c7"
      },
      "execution_count": 63,
      "outputs": [
        {
          "output_type": "execute_result",
          "data": {
            "text/plain": [
              "6"
            ]
          },
          "metadata": {},
          "execution_count": 63
        }
      ]
    },
    {
      "cell_type": "markdown",
      "source": [
        "**5.\tPrint the value of numberlist**"
      ],
      "metadata": {
        "id": "02f7dPUnTBbf"
      }
    },
    {
      "cell_type": "code",
      "source": [
        "print(numberlist)"
      ],
      "metadata": {
        "colab": {
          "base_uri": "https://localhost:8080/"
        },
        "id": "4ZBT8bOtTD1H",
        "outputId": "c7d0c1e9-96a0-41d0-c5d2-f6375414eb9a"
      },
      "execution_count": 64,
      "outputs": [
        {
          "output_type": "stream",
          "name": "stdout",
          "text": [
            "[5, 4, 2, 1, 3]\n"
          ]
        }
      ]
    },
    {
      "cell_type": "markdown",
      "source": [
        "**6.\tRun the command numberlist.sort()**"
      ],
      "metadata": {
        "id": "tPmUjGHuTF0-"
      }
    },
    {
      "cell_type": "code",
      "source": [
        "numberlist.sort()"
      ],
      "metadata": {
        "id": "F6JA2U8YTHxv"
      },
      "execution_count": 65,
      "outputs": []
    },
    {
      "cell_type": "markdown",
      "source": [
        "**7.\tPrint the value of numberlist**"
      ],
      "metadata": {
        "id": "Zl20dO5QTLq_"
      }
    },
    {
      "cell_type": "code",
      "source": [
        "print(numberlist)"
      ],
      "metadata": {
        "colab": {
          "base_uri": "https://localhost:8080/"
        },
        "id": "JbeWYJlbTNav",
        "outputId": "387b84d6-7c08-442a-aec7-bacc82be2831"
      },
      "execution_count": 66,
      "outputs": [
        {
          "output_type": "stream",
          "name": "stdout",
          "text": [
            "[1, 2, 3, 4, 5]\n"
          ]
        }
      ]
    },
    {
      "cell_type": "markdown",
      "source": [
        "**8.\tRun the command itemlist.sort()**"
      ],
      "metadata": {
        "id": "WKBWtEnRTPh_"
      }
    },
    {
      "cell_type": "code",
      "source": [
        "itemlist.sort()"
      ],
      "metadata": {
        "colab": {
          "base_uri": "https://localhost:8080/",
          "height": 141
        },
        "id": "vVj1HV9iTR4g",
        "outputId": "5aebf5d3-9872-418b-9527-d4135d1ca925"
      },
      "execution_count": 67,
      "outputs": [
        {
          "output_type": "error",
          "ename": "TypeError",
          "evalue": "'<' not supported between instances of 'list' and 'float'",
          "traceback": [
            "\u001b[0;31m---------------------------------------------------------------------------\u001b[0m",
            "\u001b[0;31mTypeError\u001b[0m                                 Traceback (most recent call last)",
            "\u001b[0;32m<ipython-input-67-c887e071063f>\u001b[0m in \u001b[0;36m<cell line: 0>\u001b[0;34m()\u001b[0m\n\u001b[0;32m----> 1\u001b[0;31m \u001b[0mitemlist\u001b[0m\u001b[0;34m.\u001b[0m\u001b[0msort\u001b[0m\u001b[0;34m(\u001b[0m\u001b[0;34m)\u001b[0m\u001b[0;34m\u001b[0m\u001b[0;34m\u001b[0m\u001b[0m\n\u001b[0m",
            "\u001b[0;31mTypeError\u001b[0m: '<' not supported between instances of 'list' and 'float'"
          ]
        }
      ]
    },
    {
      "cell_type": "markdown",
      "source": [
        "**9.\tPrint the values: min(numberlist) and max(numberlist)**"
      ],
      "metadata": {
        "id": "h_MV1dJzTZMP"
      }
    },
    {
      "cell_type": "code",
      "source": [
        "print(min(numberlist))\n",
        "print(max(numberlist))"
      ],
      "metadata": {
        "id": "Iyq_PxqBTbqx",
        "colab": {
          "base_uri": "https://localhost:8080/"
        },
        "outputId": "8568c474-40b2-44fc-9881-397f3d9a1cd7"
      },
      "execution_count": 68,
      "outputs": [
        {
          "output_type": "stream",
          "name": "stdout",
          "text": [
            "1\n",
            "5\n"
          ]
        }
      ]
    },
    {
      "cell_type": "markdown",
      "source": [
        "**10.\tPrint the value of longlist**"
      ],
      "metadata": {
        "id": "For-F-CTTfEH"
      }
    },
    {
      "cell_type": "code",
      "source": [
        "print (longlist)"
      ],
      "metadata": {
        "id": "gMZqToJzThJ_",
        "colab": {
          "base_uri": "https://localhost:8080/"
        },
        "outputId": "a7948330-4a91-45a7-8321-4f150eafd109"
      },
      "execution_count": 69,
      "outputs": [
        {
          "output_type": "stream",
          "name": "stdout",
          "text": [
            "[5, 4, 2, 1, 3, 1, -2.0, [1, 2, 3], 'Word']\n"
          ]
        }
      ]
    },
    {
      "cell_type": "markdown",
      "source": [
        "**11.\tPrint the value of longlist.count(1)**"
      ],
      "metadata": {
        "id": "ygQfPZYJTkp_"
      }
    },
    {
      "cell_type": "code",
      "source": [
        "longlist.count(1)"
      ],
      "metadata": {
        "id": "SLTojZ_kTnoW",
        "colab": {
          "base_uri": "https://localhost:8080/"
        },
        "outputId": "2e784eb2-f428-4788-e936-1896a4b23893"
      },
      "execution_count": 70,
      "outputs": [
        {
          "output_type": "execute_result",
          "data": {
            "text/plain": [
              "2"
            ]
          },
          "metadata": {},
          "execution_count": 70
        }
      ]
    },
    {
      "cell_type": "markdown",
      "source": [
        "**12.\tPrint the value of longlist[7].count(1)**"
      ],
      "metadata": {
        "id": "O63EGCxYTorW"
      }
    },
    {
      "cell_type": "code",
      "source": [
        "longlist[7].count(1)"
      ],
      "metadata": {
        "id": "jdowzCM1Trw_",
        "colab": {
          "base_uri": "https://localhost:8080/"
        },
        "outputId": "83cfce64-810c-4ea1-bc4e-d66b8637a2b5"
      },
      "execution_count": 71,
      "outputs": [
        {
          "output_type": "execute_result",
          "data": {
            "text/plain": [
              "1"
            ]
          },
          "metadata": {},
          "execution_count": 71
        }
      ]
    },
    {
      "cell_type": "markdown",
      "source": [
        "# **The in operator**"
      ],
      "metadata": {
        "id": "2Gi3G9cVTtFO"
      }
    },
    {
      "cell_type": "markdown",
      "source": [
        "**1.\tType the code as shown: print(3 in longlist)**"
      ],
      "metadata": {
        "id": "pE9UI5YETxxm"
      }
    },
    {
      "cell_type": "code",
      "source": [
        "print(3 in longlist)"
      ],
      "metadata": {
        "id": "56uDCY2PT0RH",
        "colab": {
          "base_uri": "https://localhost:8080/"
        },
        "outputId": "252d39a7-c9ef-4155-efd9-4e48d507a392"
      },
      "execution_count": 72,
      "outputs": [
        {
          "output_type": "stream",
          "name": "stdout",
          "text": [
            "True\n"
          ]
        }
      ]
    },
    {
      "cell_type": "markdown",
      "source": [
        "**2.\tType the code as shown: print(15 in longlist)**"
      ],
      "metadata": {
        "id": "lCHWm8KMT3Z_"
      }
    },
    {
      "cell_type": "code",
      "source": [
        "print(15 in longlist)"
      ],
      "metadata": {
        "id": "nniDHQKlT71v",
        "colab": {
          "base_uri": "https://localhost:8080/"
        },
        "outputId": "e342c3c6-1c87-4de3-c12e-77c6e56396d5"
      },
      "execution_count": 73,
      "outputs": [
        {
          "output_type": "stream",
          "name": "stdout",
          "text": [
            "False\n"
          ]
        }
      ]
    },
    {
      "cell_type": "markdown",
      "source": [
        "**3.\tType the code as shown below:**\n",
        "\n",
        "num = int(input(“Enter a number: ”))\n",
        "\n",
        "if num in longlist:\n",
        "\n",
        "  print(“The number is in longlist”)\n",
        "\n",
        "else:\n",
        "\n",
        "  print(“The number is not in longlist”)\n",
        "\n"
      ],
      "metadata": {
        "id": "_8eOOQdxUAW3"
      }
    },
    {
      "cell_type": "code",
      "source": [
        "num = int(input(\"Enter a number: \"))\n",
        "\n",
        "if num in longlist:\n",
        "\n",
        "  print(\"The number is in longlist\")\n",
        "\n",
        "else:\n",
        "\n",
        "  print(\"The number is not in longlist\")"
      ],
      "metadata": {
        "id": "XZCI7y8dUWrZ",
        "colab": {
          "base_uri": "https://localhost:8080/"
        },
        "outputId": "789efec9-15cf-48d2-e7ea-a964a8473205"
      },
      "execution_count": 74,
      "outputs": [
        {
          "output_type": "stream",
          "name": "stdout",
          "text": [
            "Enter a number: 3\n",
            "The number is in longlist\n"
          ]
        }
      ]
    },
    {
      "cell_type": "markdown",
      "source": [
        "**4.\tWrite your observations on the in operator.**\n",
        "\n",
        "-"
      ],
      "metadata": {
        "id": "aZ6hXlolU-FX"
      }
    },
    {
      "cell_type": "markdown",
      "source": [
        "# **Using a list in an iterative statement**"
      ],
      "metadata": {
        "id": "eWmeETzdVBzP"
      }
    },
    {
      "cell_type": "markdown",
      "source": [
        "**1.\tType the code as shown below:**\n",
        "\n",
        "for item in longlist:\n",
        "\n",
        "  print(item)\n"
      ],
      "metadata": {
        "id": "PtH_lsx8VFA3"
      }
    },
    {
      "cell_type": "code",
      "source": [
        "for item in longlist:\n",
        "    print(item)"
      ],
      "metadata": {
        "id": "o8DK80jQVJ2_",
        "colab": {
          "base_uri": "https://localhost:8080/"
        },
        "outputId": "97ed23cd-9eab-49ce-c5ae-37e149ae6e05"
      },
      "execution_count": 75,
      "outputs": [
        {
          "output_type": "stream",
          "name": "stdout",
          "text": [
            "5\n",
            "4\n",
            "2\n",
            "1\n",
            "3\n",
            "1\n",
            "-2.0\n",
            "[1, 2, 3]\n",
            "Word\n"
          ]
        }
      ]
    },
    {
      "cell_type": "markdown",
      "source": [
        "**2.\tType the code as shown below:**\n",
        "\n",
        "i=0\n",
        "\n",
        "while i<len(longlist):\n",
        "\n",
        "  print(longlist[i])\n",
        "  i+=1\n"
      ],
      "metadata": {
        "id": "iFuL6kD5VPYA"
      }
    },
    {
      "cell_type": "code",
      "source": [
        "i = 0\n",
        "\n",
        "while i<len(longlist):\n",
        "  print(longlist[i])\n",
        "  i+=1"
      ],
      "metadata": {
        "id": "nsKSKpeaVqtH",
        "colab": {
          "base_uri": "https://localhost:8080/"
        },
        "outputId": "b18488fc-2fe5-4e7b-ad4a-e75ed963c226"
      },
      "execution_count": 76,
      "outputs": [
        {
          "output_type": "stream",
          "name": "stdout",
          "text": [
            "5\n",
            "4\n",
            "2\n",
            "1\n",
            "3\n",
            "1\n",
            "-2.0\n",
            "[1, 2, 3]\n",
            "Word\n"
          ]
        }
      ]
    },
    {
      "cell_type": "markdown",
      "source": [
        "# **Strings**"
      ],
      "metadata": {
        "id": "Uz8PB6RYV1-p"
      }
    },
    {
      "cell_type": "markdown",
      "source": [
        "**1.\tCreate a variable named message and assign it the value of “Hello World”**"
      ],
      "metadata": {
        "id": "_tsf1LgeV6RA"
      }
    },
    {
      "cell_type": "code",
      "source": [
        "message = \"Hello World\""
      ],
      "metadata": {
        "id": "R5JwBDZ4V8ev"
      },
      "execution_count": 77,
      "outputs": []
    },
    {
      "cell_type": "markdown",
      "source": [
        "**2.\tPrint the value of message**"
      ],
      "metadata": {
        "id": "ZwUxi_FTWCNH"
      }
    },
    {
      "cell_type": "code",
      "source": [
        "print(message)"
      ],
      "metadata": {
        "id": "59TOLyQ9WDxX",
        "colab": {
          "base_uri": "https://localhost:8080/"
        },
        "outputId": "5716f336-6391-4b16-f05d-2fb123ad3c4e"
      },
      "execution_count": 78,
      "outputs": [
        {
          "output_type": "stream",
          "name": "stdout",
          "text": [
            "Hello World\n"
          ]
        }
      ]
    },
    {
      "cell_type": "markdown",
      "source": [
        "**3.\tPrint the value: len(message)**"
      ],
      "metadata": {
        "id": "Ok8HXwgYWG3X"
      }
    },
    {
      "cell_type": "code",
      "source": [
        "print (len(message))"
      ],
      "metadata": {
        "colab": {
          "base_uri": "https://localhost:8080/"
        },
        "id": "CICwLorsYzJZ",
        "outputId": "0dc90c47-9b54-4435-f076-60c09385dfe3"
      },
      "execution_count": 79,
      "outputs": [
        {
          "output_type": "stream",
          "name": "stdout",
          "text": [
            "11\n"
          ]
        }
      ]
    },
    {
      "cell_type": "markdown",
      "source": [
        "**4.\tApply the concept of index values in the List section and individually display the characters “H”, “E”, “L”, “L”, “O”\n",
        "using the print() function.**\n"
      ],
      "metadata": {
        "id": "Mo7rwhWSY8XW"
      }
    },
    {
      "cell_type": "code",
      "source": [
        "print (message[0])\n",
        "print (message[1])\n",
        "print (message[2])\n",
        "print (message[3])\n",
        "print (message[4])"
      ],
      "metadata": {
        "colab": {
          "base_uri": "https://localhost:8080/"
        },
        "id": "wlRjz5JzZE5_",
        "outputId": "aa81909d-c47b-4f16-bb65-70a31a66d823"
      },
      "execution_count": 86,
      "outputs": [
        {
          "output_type": "stream",
          "name": "stdout",
          "text": [
            "H\n",
            "e\n",
            "l\n",
            "l\n",
            "o\n"
          ]
        }
      ]
    },
    {
      "cell_type": "markdown",
      "source": [
        "**Note: Try using positive indexes, then after seeing the result. Repeat the step using negative indexes.**"
      ],
      "metadata": {
        "id": "Y6Ztsj5CZVQe"
      }
    },
    {
      "cell_type": "code",
      "source": [
        "print (message[-1])\n",
        "print (message[-2])\n",
        "print (message[-3])\n",
        "print (message[-4])\n",
        "print (message[-5])"
      ],
      "metadata": {
        "colab": {
          "base_uri": "https://localhost:8080/"
        },
        "id": "hp0ckNaEZbHK",
        "outputId": "8e370a7b-836b-42b6-feb7-e39d08cb0efa"
      },
      "execution_count": 88,
      "outputs": [
        {
          "output_type": "stream",
          "name": "stdout",
          "text": [
            "d\n",
            "l\n",
            "r\n",
            "o\n",
            "W\n"
          ]
        }
      ]
    },
    {
      "cell_type": "markdown",
      "source": [
        "**5.\tApply the concept of index values in the List section and display the string “Hold” using the Concatenate (+) operator\n",
        "on individual characters.**"
      ],
      "metadata": {
        "id": "6NStuZvlasLw"
      }
    },
    {
      "cell_type": "code",
      "source": [
        "message2 = \"Hold\"\n",
        "print(message2[0]+ message2[1]+ message2[2]+ message2[3])"
      ],
      "metadata": {
        "colab": {
          "base_uri": "https://localhost:8080/"
        },
        "id": "PreJHPWvaxf_",
        "outputId": "cb7b1169-d728-410b-9511-017f4fc9c71e"
      },
      "execution_count": 96,
      "outputs": [
        {
          "output_type": "stream",
          "name": "stdout",
          "text": [
            "Hold\n"
          ]
        }
      ]
    },
    {
      "cell_type": "markdown",
      "source": [
        "**6.\tApply the concept of index slicing in the Index Slicing section and display the word “Hello” as a whole string.**"
      ],
      "metadata": {
        "id": "_hpEsmw6a_kH"
      }
    },
    {
      "cell_type": "code",
      "source": [
        "print(message[:5])"
      ],
      "metadata": {
        "colab": {
          "base_uri": "https://localhost:8080/"
        },
        "id": "_ib7xuZNbCAe",
        "outputId": "e8d11774-4e8f-4ea0-e9c5-bccc6f5d3711"
      },
      "execution_count": 97,
      "outputs": [
        {
          "output_type": "stream",
          "name": "stdout",
          "text": [
            "Hello\n"
          ]
        }
      ]
    },
    {
      "cell_type": "markdown",
      "source": [
        "**7.\tApply the concept of index slicing in the Index Slicing section and display the word “World” as a whole string.**"
      ],
      "metadata": {
        "id": "MmBto8Ihbcpv"
      }
    },
    {
      "cell_type": "code",
      "source": [
        "message3 = \"World\"\n",
        "print(message3[0]+ message3[1]+ message3[2]+ message3[3]+ message3[4])"
      ],
      "metadata": {
        "colab": {
          "base_uri": "https://localhost:8080/"
        },
        "id": "4iAwRLj-cBjH",
        "outputId": "cb91f8f0-2115-4693-e9b7-b85244ce2236"
      },
      "execution_count": 100,
      "outputs": [
        {
          "output_type": "stream",
          "name": "stdout",
          "text": [
            "World\n"
          ]
        }
      ]
    },
    {
      "cell_type": "markdown",
      "source": [
        "# **String Methods**"
      ],
      "metadata": {
        "id": "tWDgM_MNcTCf"
      }
    },
    {
      "cell_type": "markdown",
      "source": [
        "**Observe the result per each String method.**\n",
        "\n",
        "**1.\tType the command and print the value\tmessage.upper() Ex. print(message.upper())**\n"
      ],
      "metadata": {
        "id": "v3vE8vCicX2X"
      }
    },
    {
      "cell_type": "code",
      "source": [
        "print(message.upper())"
      ],
      "metadata": {
        "colab": {
          "base_uri": "https://localhost:8080/"
        },
        "id": "G1iWKxmFcfAe",
        "outputId": "f99fca6d-c7ae-4662-8fea-a66e51cf646c"
      },
      "execution_count": 101,
      "outputs": [
        {
          "output_type": "stream",
          "name": "stdout",
          "text": [
            "HELLO WORLD\n"
          ]
        }
      ]
    },
    {
      "cell_type": "markdown",
      "source": [
        "**2.\tType the command and print the value\tmessage.lower()**"
      ],
      "metadata": {
        "id": "bvxXA3MkcmLm"
      }
    },
    {
      "cell_type": "code",
      "source": [
        "print(message.lower())"
      ],
      "metadata": {
        "colab": {
          "base_uri": "https://localhost:8080/"
        },
        "id": "5M-5STLHcoHW",
        "outputId": "4f58f1ec-5a90-4c84-a899-2558e2e42ead"
      },
      "execution_count": 102,
      "outputs": [
        {
          "output_type": "stream",
          "name": "stdout",
          "text": [
            "hello world\n"
          ]
        }
      ]
    },
    {
      "cell_type": "markdown",
      "source": [
        "**3.\tType the command and print the value\tmessage.title()**"
      ],
      "metadata": {
        "id": "XoBtrQaxcr43"
      }
    },
    {
      "cell_type": "code",
      "source": [
        "print(message.title())"
      ],
      "metadata": {
        "colab": {
          "base_uri": "https://localhost:8080/"
        },
        "id": "N4qMZSdKcuCb",
        "outputId": "5bca7feb-5ecf-4a26-9c66-b1d087ff88f8"
      },
      "execution_count": 103,
      "outputs": [
        {
          "output_type": "stream",
          "name": "stdout",
          "text": [
            "Hello World\n"
          ]
        }
      ]
    },
    {
      "cell_type": "markdown",
      "source": [
        "**4.\tPrint the value “Value 1 is {}, and value 2 is {}”.format(-1,True)**"
      ],
      "metadata": {
        "id": "Bm_WT6G0cwx3"
      }
    },
    {
      "cell_type": "code",
      "source": [
        "print(\"Value 1 is {}, and value 2 is {}\".format(-1,True))"
      ],
      "metadata": {
        "colab": {
          "base_uri": "https://localhost:8080/"
        },
        "id": "q90jTcUnczMW",
        "outputId": "c43395dc-8bdf-4c5f-f19a-0b5785948357"
      },
      "execution_count": 105,
      "outputs": [
        {
          "output_type": "stream",
          "name": "stdout",
          "text": [
            "Value 1 is -1, and value 2 is True\n"
          ]
        }
      ]
    },
    {
      "cell_type": "markdown",
      "source": [
        "**5.\tPrint the value message.split(' ')**"
      ],
      "metadata": {
        "id": "fLvq6sl_dHJv"
      }
    },
    {
      "cell_type": "code",
      "source": [
        "print(message.split(' '))"
      ],
      "metadata": {
        "colab": {
          "base_uri": "https://localhost:8080/"
        },
        "id": "tEI2pk6idKGH",
        "outputId": "62f9f41e-60e3-400f-baa7-cbcafae7c3eb"
      },
      "execution_count": 107,
      "outputs": [
        {
          "output_type": "stream",
          "name": "stdout",
          "text": [
            "['Hello', 'World']\n"
          ]
        }
      ]
    },
    {
      "cell_type": "markdown",
      "source": [
        "**6.\tPrint the value message.count(‘l’)**"
      ],
      "metadata": {
        "id": "ltrzJt68daw-"
      }
    },
    {
      "cell_type": "code",
      "source": [
        "print(message.count('l'))"
      ],
      "metadata": {
        "colab": {
          "base_uri": "https://localhost:8080/"
        },
        "id": "_4V9XGRQdeZf",
        "outputId": "df2ce0f6-c8a4-4ad9-80c6-91459e5945a9"
      },
      "execution_count": 111,
      "outputs": [
        {
          "output_type": "stream",
          "name": "stdout",
          "text": [
            "3\n"
          ]
        }
      ]
    },
    {
      "cell_type": "markdown",
      "source": [
        "**7.\tPrint the value message.replace(‘World’,‘CPE009’)**"
      ],
      "metadata": {
        "id": "3TfyhrnJeYYv"
      }
    },
    {
      "cell_type": "code",
      "source": [
        "print(message.replace('World','CPE009'))"
      ],
      "metadata": {
        "colab": {
          "base_uri": "https://localhost:8080/"
        },
        "id": "aquEWvCNeoo_",
        "outputId": "0b5b5257-ee77-4b58-9531-2c50156de5c3"
      },
      "execution_count": 113,
      "outputs": [
        {
          "output_type": "stream",
          "name": "stdout",
          "text": [
            "Hello CPE009\n"
          ]
        }
      ]
    },
    {
      "cell_type": "markdown",
      "source": [
        "**8.\tAssign the value message.replace(‘World’,‘CPE009’) to message**"
      ],
      "metadata": {
        "id": "1OtPSUeaex7X"
      }
    },
    {
      "cell_type": "code",
      "source": [
        "message = message.replace('World','CPE009')"
      ],
      "metadata": {
        "id": "klDY6FeYe01w"
      },
      "execution_count": 116,
      "outputs": []
    },
    {
      "cell_type": "markdown",
      "source": [
        "**9.\tType the command: help(“”)**\n",
        "\n",
        "Find the commands used in previous tasks."
      ],
      "metadata": {
        "id": "rM-AumETfBAo"
      }
    },
    {
      "cell_type": "code",
      "source": [
        "help(\"\")"
      ],
      "metadata": {
        "colab": {
          "base_uri": "https://localhost:8080/"
        },
        "id": "aKH6bmAefEUO",
        "outputId": "305df475-bf95-4a07-baae-4fcda308f3b1"
      },
      "execution_count": 118,
      "outputs": [
        {
          "output_type": "stream",
          "name": "stdout",
          "text": [
            "Help on class str in module builtins:\n",
            "\n",
            "class str(object)\n",
            " |  str(object='') -> str\n",
            " |  str(bytes_or_buffer[, encoding[, errors]]) -> str\n",
            " |  \n",
            " |  Create a new string object from the given object. If encoding or\n",
            " |  errors is specified, then the object must expose a data buffer\n",
            " |  that will be decoded using the given encoding and error handler.\n",
            " |  Otherwise, returns the result of object.__str__() (if defined)\n",
            " |  or repr(object).\n",
            " |  encoding defaults to sys.getdefaultencoding().\n",
            " |  errors defaults to 'strict'.\n",
            " |  \n",
            " |  Methods defined here:\n",
            " |  \n",
            " |  __add__(self, value, /)\n",
            " |      Return self+value.\n",
            " |  \n",
            " |  __contains__(self, key, /)\n",
            " |      Return key in self.\n",
            " |  \n",
            " |  __eq__(self, value, /)\n",
            " |      Return self==value.\n",
            " |  \n",
            " |  __format__(self, format_spec, /)\n",
            " |      Return a formatted version of the string as described by format_spec.\n",
            " |  \n",
            " |  __ge__(self, value, /)\n",
            " |      Return self>=value.\n",
            " |  \n",
            " |  __getattribute__(self, name, /)\n",
            " |      Return getattr(self, name).\n",
            " |  \n",
            " |  __getitem__(self, key, /)\n",
            " |      Return self[key].\n",
            " |  \n",
            " |  __getnewargs__(...)\n",
            " |  \n",
            " |  __gt__(self, value, /)\n",
            " |      Return self>value.\n",
            " |  \n",
            " |  __hash__(self, /)\n",
            " |      Return hash(self).\n",
            " |  \n",
            " |  __iter__(self, /)\n",
            " |      Implement iter(self).\n",
            " |  \n",
            " |  __le__(self, value, /)\n",
            " |      Return self<=value.\n",
            " |  \n",
            " |  __len__(self, /)\n",
            " |      Return len(self).\n",
            " |  \n",
            " |  __lt__(self, value, /)\n",
            " |      Return self<value.\n",
            " |  \n",
            " |  __mod__(self, value, /)\n",
            " |      Return self%value.\n",
            " |  \n",
            " |  __mul__(self, value, /)\n",
            " |      Return self*value.\n",
            " |  \n",
            " |  __ne__(self, value, /)\n",
            " |      Return self!=value.\n",
            " |  \n",
            " |  __repr__(self, /)\n",
            " |      Return repr(self).\n",
            " |  \n",
            " |  __rmod__(self, value, /)\n",
            " |      Return value%self.\n",
            " |  \n",
            " |  __rmul__(self, value, /)\n",
            " |      Return value*self.\n",
            " |  \n",
            " |  __sizeof__(self, /)\n",
            " |      Return the size of the string in memory, in bytes.\n",
            " |  \n",
            " |  __str__(self, /)\n",
            " |      Return str(self).\n",
            " |  \n",
            " |  capitalize(self, /)\n",
            " |      Return a capitalized version of the string.\n",
            " |      \n",
            " |      More specifically, make the first character have upper case and the rest lower\n",
            " |      case.\n",
            " |  \n",
            " |  casefold(self, /)\n",
            " |      Return a version of the string suitable for caseless comparisons.\n",
            " |  \n",
            " |  center(self, width, fillchar=' ', /)\n",
            " |      Return a centered string of length width.\n",
            " |      \n",
            " |      Padding is done using the specified fill character (default is a space).\n",
            " |  \n",
            " |  count(...)\n",
            " |      S.count(sub[, start[, end]]) -> int\n",
            " |      \n",
            " |      Return the number of non-overlapping occurrences of substring sub in\n",
            " |      string S[start:end].  Optional arguments start and end are\n",
            " |      interpreted as in slice notation.\n",
            " |  \n",
            " |  encode(self, /, encoding='utf-8', errors='strict')\n",
            " |      Encode the string using the codec registered for encoding.\n",
            " |      \n",
            " |      encoding\n",
            " |        The encoding in which to encode the string.\n",
            " |      errors\n",
            " |        The error handling scheme to use for encoding errors.\n",
            " |        The default is 'strict' meaning that encoding errors raise a\n",
            " |        UnicodeEncodeError.  Other possible values are 'ignore', 'replace' and\n",
            " |        'xmlcharrefreplace' as well as any other name registered with\n",
            " |        codecs.register_error that can handle UnicodeEncodeErrors.\n",
            " |  \n",
            " |  endswith(...)\n",
            " |      S.endswith(suffix[, start[, end]]) -> bool\n",
            " |      \n",
            " |      Return True if S ends with the specified suffix, False otherwise.\n",
            " |      With optional start, test S beginning at that position.\n",
            " |      With optional end, stop comparing S at that position.\n",
            " |      suffix can also be a tuple of strings to try.\n",
            " |  \n",
            " |  expandtabs(self, /, tabsize=8)\n",
            " |      Return a copy where all tab characters are expanded using spaces.\n",
            " |      \n",
            " |      If tabsize is not given, a tab size of 8 characters is assumed.\n",
            " |  \n",
            " |  find(...)\n",
            " |      S.find(sub[, start[, end]]) -> int\n",
            " |      \n",
            " |      Return the lowest index in S where substring sub is found,\n",
            " |      such that sub is contained within S[start:end].  Optional\n",
            " |      arguments start and end are interpreted as in slice notation.\n",
            " |      \n",
            " |      Return -1 on failure.\n",
            " |  \n",
            " |  format(...)\n",
            " |      S.format(*args, **kwargs) -> str\n",
            " |      \n",
            " |      Return a formatted version of S, using substitutions from args and kwargs.\n",
            " |      The substitutions are identified by braces ('{' and '}').\n",
            " |  \n",
            " |  format_map(...)\n",
            " |      S.format_map(mapping) -> str\n",
            " |      \n",
            " |      Return a formatted version of S, using substitutions from mapping.\n",
            " |      The substitutions are identified by braces ('{' and '}').\n",
            " |  \n",
            " |  index(...)\n",
            " |      S.index(sub[, start[, end]]) -> int\n",
            " |      \n",
            " |      Return the lowest index in S where substring sub is found,\n",
            " |      such that sub is contained within S[start:end].  Optional\n",
            " |      arguments start and end are interpreted as in slice notation.\n",
            " |      \n",
            " |      Raises ValueError when the substring is not found.\n",
            " |  \n",
            " |  isalnum(self, /)\n",
            " |      Return True if the string is an alpha-numeric string, False otherwise.\n",
            " |      \n",
            " |      A string is alpha-numeric if all characters in the string are alpha-numeric and\n",
            " |      there is at least one character in the string.\n",
            " |  \n",
            " |  isalpha(self, /)\n",
            " |      Return True if the string is an alphabetic string, False otherwise.\n",
            " |      \n",
            " |      A string is alphabetic if all characters in the string are alphabetic and there\n",
            " |      is at least one character in the string.\n",
            " |  \n",
            " |  isascii(self, /)\n",
            " |      Return True if all characters in the string are ASCII, False otherwise.\n",
            " |      \n",
            " |      ASCII characters have code points in the range U+0000-U+007F.\n",
            " |      Empty string is ASCII too.\n",
            " |  \n",
            " |  isdecimal(self, /)\n",
            " |      Return True if the string is a decimal string, False otherwise.\n",
            " |      \n",
            " |      A string is a decimal string if all characters in the string are decimal and\n",
            " |      there is at least one character in the string.\n",
            " |  \n",
            " |  isdigit(self, /)\n",
            " |      Return True if the string is a digit string, False otherwise.\n",
            " |      \n",
            " |      A string is a digit string if all characters in the string are digits and there\n",
            " |      is at least one character in the string.\n",
            " |  \n",
            " |  isidentifier(self, /)\n",
            " |      Return True if the string is a valid Python identifier, False otherwise.\n",
            " |      \n",
            " |      Call keyword.iskeyword(s) to test whether string s is a reserved identifier,\n",
            " |      such as \"def\" or \"class\".\n",
            " |  \n",
            " |  islower(self, /)\n",
            " |      Return True if the string is a lowercase string, False otherwise.\n",
            " |      \n",
            " |      A string is lowercase if all cased characters in the string are lowercase and\n",
            " |      there is at least one cased character in the string.\n",
            " |  \n",
            " |  isnumeric(self, /)\n",
            " |      Return True if the string is a numeric string, False otherwise.\n",
            " |      \n",
            " |      A string is numeric if all characters in the string are numeric and there is at\n",
            " |      least one character in the string.\n",
            " |  \n",
            " |  isprintable(self, /)\n",
            " |      Return True if the string is printable, False otherwise.\n",
            " |      \n",
            " |      A string is printable if all of its characters are considered printable in\n",
            " |      repr() or if it is empty.\n",
            " |  \n",
            " |  isspace(self, /)\n",
            " |      Return True if the string is a whitespace string, False otherwise.\n",
            " |      \n",
            " |      A string is whitespace if all characters in the string are whitespace and there\n",
            " |      is at least one character in the string.\n",
            " |  \n",
            " |  istitle(self, /)\n",
            " |      Return True if the string is a title-cased string, False otherwise.\n",
            " |      \n",
            " |      In a title-cased string, upper- and title-case characters may only\n",
            " |      follow uncased characters and lowercase characters only cased ones.\n",
            " |  \n",
            " |  isupper(self, /)\n",
            " |      Return True if the string is an uppercase string, False otherwise.\n",
            " |      \n",
            " |      A string is uppercase if all cased characters in the string are uppercase and\n",
            " |      there is at least one cased character in the string.\n",
            " |  \n",
            " |  join(self, iterable, /)\n",
            " |      Concatenate any number of strings.\n",
            " |      \n",
            " |      The string whose method is called is inserted in between each given string.\n",
            " |      The result is returned as a new string.\n",
            " |      \n",
            " |      Example: '.'.join(['ab', 'pq', 'rs']) -> 'ab.pq.rs'\n",
            " |  \n",
            " |  ljust(self, width, fillchar=' ', /)\n",
            " |      Return a left-justified string of length width.\n",
            " |      \n",
            " |      Padding is done using the specified fill character (default is a space).\n",
            " |  \n",
            " |  lower(self, /)\n",
            " |      Return a copy of the string converted to lowercase.\n",
            " |  \n",
            " |  lstrip(self, chars=None, /)\n",
            " |      Return a copy of the string with leading whitespace removed.\n",
            " |      \n",
            " |      If chars is given and not None, remove characters in chars instead.\n",
            " |  \n",
            " |  partition(self, sep, /)\n",
            " |      Partition the string into three parts using the given separator.\n",
            " |      \n",
            " |      This will search for the separator in the string.  If the separator is found,\n",
            " |      returns a 3-tuple containing the part before the separator, the separator\n",
            " |      itself, and the part after it.\n",
            " |      \n",
            " |      If the separator is not found, returns a 3-tuple containing the original string\n",
            " |      and two empty strings.\n",
            " |  \n",
            " |  removeprefix(self, prefix, /)\n",
            " |      Return a str with the given prefix string removed if present.\n",
            " |      \n",
            " |      If the string starts with the prefix string, return string[len(prefix):].\n",
            " |      Otherwise, return a copy of the original string.\n",
            " |  \n",
            " |  removesuffix(self, suffix, /)\n",
            " |      Return a str with the given suffix string removed if present.\n",
            " |      \n",
            " |      If the string ends with the suffix string and that suffix is not empty,\n",
            " |      return string[:-len(suffix)]. Otherwise, return a copy of the original\n",
            " |      string.\n",
            " |  \n",
            " |  replace(self, old, new, count=-1, /)\n",
            " |      Return a copy with all occurrences of substring old replaced by new.\n",
            " |      \n",
            " |        count\n",
            " |          Maximum number of occurrences to replace.\n",
            " |          -1 (the default value) means replace all occurrences.\n",
            " |      \n",
            " |      If the optional argument count is given, only the first count occurrences are\n",
            " |      replaced.\n",
            " |  \n",
            " |  rfind(...)\n",
            " |      S.rfind(sub[, start[, end]]) -> int\n",
            " |      \n",
            " |      Return the highest index in S where substring sub is found,\n",
            " |      such that sub is contained within S[start:end].  Optional\n",
            " |      arguments start and end are interpreted as in slice notation.\n",
            " |      \n",
            " |      Return -1 on failure.\n",
            " |  \n",
            " |  rindex(...)\n",
            " |      S.rindex(sub[, start[, end]]) -> int\n",
            " |      \n",
            " |      Return the highest index in S where substring sub is found,\n",
            " |      such that sub is contained within S[start:end].  Optional\n",
            " |      arguments start and end are interpreted as in slice notation.\n",
            " |      \n",
            " |      Raises ValueError when the substring is not found.\n",
            " |  \n",
            " |  rjust(self, width, fillchar=' ', /)\n",
            " |      Return a right-justified string of length width.\n",
            " |      \n",
            " |      Padding is done using the specified fill character (default is a space).\n",
            " |  \n",
            " |  rpartition(self, sep, /)\n",
            " |      Partition the string into three parts using the given separator.\n",
            " |      \n",
            " |      This will search for the separator in the string, starting at the end. If\n",
            " |      the separator is found, returns a 3-tuple containing the part before the\n",
            " |      separator, the separator itself, and the part after it.\n",
            " |      \n",
            " |      If the separator is not found, returns a 3-tuple containing two empty strings\n",
            " |      and the original string.\n",
            " |  \n",
            " |  rsplit(self, /, sep=None, maxsplit=-1)\n",
            " |      Return a list of the substrings in the string, using sep as the separator string.\n",
            " |      \n",
            " |        sep\n",
            " |          The separator used to split the string.\n",
            " |      \n",
            " |          When set to None (the default value), will split on any whitespace\n",
            " |          character (including \\n \\r \\t \\f and spaces) and will discard\n",
            " |          empty strings from the result.\n",
            " |        maxsplit\n",
            " |          Maximum number of splits.\n",
            " |          -1 (the default value) means no limit.\n",
            " |      \n",
            " |      Splitting starts at the end of the string and works to the front.\n",
            " |  \n",
            " |  rstrip(self, chars=None, /)\n",
            " |      Return a copy of the string with trailing whitespace removed.\n",
            " |      \n",
            " |      If chars is given and not None, remove characters in chars instead.\n",
            " |  \n",
            " |  split(self, /, sep=None, maxsplit=-1)\n",
            " |      Return a list of the substrings in the string, using sep as the separator string.\n",
            " |      \n",
            " |        sep\n",
            " |          The separator used to split the string.\n",
            " |      \n",
            " |          When set to None (the default value), will split on any whitespace\n",
            " |          character (including \\n \\r \\t \\f and spaces) and will discard\n",
            " |          empty strings from the result.\n",
            " |        maxsplit\n",
            " |          Maximum number of splits.\n",
            " |          -1 (the default value) means no limit.\n",
            " |      \n",
            " |      Splitting starts at the front of the string and works to the end.\n",
            " |      \n",
            " |      Note, str.split() is mainly useful for data that has been intentionally\n",
            " |      delimited.  With natural text that includes punctuation, consider using\n",
            " |      the regular expression module.\n",
            " |  \n",
            " |  splitlines(self, /, keepends=False)\n",
            " |      Return a list of the lines in the string, breaking at line boundaries.\n",
            " |      \n",
            " |      Line breaks are not included in the resulting list unless keepends is given and\n",
            " |      true.\n",
            " |  \n",
            " |  startswith(...)\n",
            " |      S.startswith(prefix[, start[, end]]) -> bool\n",
            " |      \n",
            " |      Return True if S starts with the specified prefix, False otherwise.\n",
            " |      With optional start, test S beginning at that position.\n",
            " |      With optional end, stop comparing S at that position.\n",
            " |      prefix can also be a tuple of strings to try.\n",
            " |  \n",
            " |  strip(self, chars=None, /)\n",
            " |      Return a copy of the string with leading and trailing whitespace removed.\n",
            " |      \n",
            " |      If chars is given and not None, remove characters in chars instead.\n",
            " |  \n",
            " |  swapcase(self, /)\n",
            " |      Convert uppercase characters to lowercase and lowercase characters to uppercase.\n",
            " |  \n",
            " |  title(self, /)\n",
            " |      Return a version of the string where each word is titlecased.\n",
            " |      \n",
            " |      More specifically, words start with uppercased characters and all remaining\n",
            " |      cased characters have lower case.\n",
            " |  \n",
            " |  translate(self, table, /)\n",
            " |      Replace each character in the string using the given translation table.\n",
            " |      \n",
            " |        table\n",
            " |          Translation table, which must be a mapping of Unicode ordinals to\n",
            " |          Unicode ordinals, strings, or None.\n",
            " |      \n",
            " |      The table must implement lookup/indexing via __getitem__, for instance a\n",
            " |      dictionary or list.  If this operation raises LookupError, the character is\n",
            " |      left untouched.  Characters mapped to None are deleted.\n",
            " |  \n",
            " |  upper(self, /)\n",
            " |      Return a copy of the string converted to uppercase.\n",
            " |  \n",
            " |  zfill(self, width, /)\n",
            " |      Pad a numeric string with zeros on the left, to fill a field of the given width.\n",
            " |      \n",
            " |      The string is never truncated.\n",
            " |  \n",
            " |  ----------------------------------------------------------------------\n",
            " |  Static methods defined here:\n",
            " |  \n",
            " |  __new__(*args, **kwargs)\n",
            " |      Create and return a new object.  See help(type) for accurate signature.\n",
            " |  \n",
            " |  maketrans(...)\n",
            " |      Return a translation table usable for str.translate().\n",
            " |      \n",
            " |      If there is only one argument, it must be a dictionary mapping Unicode\n",
            " |      ordinals (integers) or characters to Unicode ordinals, strings or None.\n",
            " |      Character keys will be then converted to ordinals.\n",
            " |      If there are two arguments, they must be strings of equal length, and\n",
            " |      in the resulting dictionary, each character in x will be mapped to the\n",
            " |      character at the same position in y. If there is a third argument, it\n",
            " |      must be a string, whose characters will be mapped to None in the result.\n",
            "\n"
          ]
        }
      ]
    },
    {
      "cell_type": "markdown",
      "source": [
        "# **The in operator for Strings**"
      ],
      "metadata": {
        "id": "-K0Zw0v1fgNf"
      }
    },
    {
      "cell_type": "markdown",
      "source": [
        "**1.\tType the code as shown: print(‘W’ in message)**"
      ],
      "metadata": {
        "id": "qQ_tgJZrfjeG"
      }
    },
    {
      "cell_type": "code",
      "source": [
        "print('W' in message)"
      ],
      "metadata": {
        "colab": {
          "base_uri": "https://localhost:8080/"
        },
        "id": "yLSEAt4Jff8_",
        "outputId": "529e0e63-f01c-4fe1-ca7d-6e99deb661f8"
      },
      "execution_count": 119,
      "outputs": [
        {
          "output_type": "stream",
          "name": "stdout",
          "text": [
            "False\n"
          ]
        }
      ]
    },
    {
      "cell_type": "markdown",
      "source": [
        "**2.\tType the code as shown: print(‘old’ in message)**"
      ],
      "metadata": {
        "id": "ArY2hU6_f0Cv"
      }
    },
    {
      "cell_type": "code",
      "source": [
        "print('old' in message)"
      ],
      "metadata": {
        "colab": {
          "base_uri": "https://localhost:8080/"
        },
        "id": "hwOxOHt8fsgm",
        "outputId": "fe4c39c9-a830-4312-ed26-ec82f34c0ecb"
      },
      "execution_count": 120,
      "outputs": [
        {
          "output_type": "stream",
          "name": "stdout",
          "text": [
            "False\n"
          ]
        }
      ]
    },
    {
      "cell_type": "markdown",
      "source": [
        "**3.\tType the codes below:**\n",
        "\n",
        "word = input(“Enter a word: ”)\n",
        "\n",
        "if word in “The big brown fox jump over the lazy dog”:\n",
        "\n",
        "  print(“The word is in the text”)\n",
        "\n",
        "else:\n",
        "\n",
        "  print(“The word is not in the text”)\n"
      ],
      "metadata": {
        "id": "jIj8QfRCfp-X"
      }
    },
    {
      "cell_type": "code",
      "source": [
        "word = input(\"Enter a word: \")\n",
        "\n",
        "if word in \"The big brown fox jump over the lazy dog\":\n",
        "\n",
        "  print(\"The word is in the text\")\n",
        "\n",
        "else:\n",
        "\n",
        "  print(\"The word is not in the text\")"
      ],
      "metadata": {
        "colab": {
          "base_uri": "https://localhost:8080/"
        },
        "id": "bV8hI-hDgnOv",
        "outputId": "2abecc78-7dd5-440a-eb75-e601cba5fb86"
      },
      "execution_count": 123,
      "outputs": [
        {
          "output_type": "stream",
          "name": "stdout",
          "text": [
            "Enter a word: no\n",
            "The word is not in the text\n"
          ]
        }
      ]
    },
    {
      "cell_type": "markdown",
      "source": [
        "# **Using a String in an iterative statement**"
      ],
      "metadata": {
        "id": "HkQFzAVXhBsv"
      }
    },
    {
      "cell_type": "markdown",
      "source": [
        "**1.\tType the code as shown below: for character in message:\n",
        "print(character)**"
      ],
      "metadata": {
        "id": "l1M1PDLRhGwm"
      }
    },
    {
      "cell_type": "code",
      "source": [
        "for character in message:\n",
        "  print(character)"
      ],
      "metadata": {
        "colab": {
          "base_uri": "https://localhost:8080/"
        },
        "id": "bfYdTNMChGkn",
        "outputId": "73f43fdd-add0-46eb-a63d-0f234b1b53c2"
      },
      "execution_count": 124,
      "outputs": [
        {
          "output_type": "stream",
          "name": "stdout",
          "text": [
            "H\n",
            "e\n",
            "l\n",
            "l\n",
            "o\n",
            " \n",
            "C\n",
            "P\n",
            "E\n",
            "0\n",
            "0\n",
            "9\n"
          ]
        }
      ]
    },
    {
      "cell_type": "markdown",
      "source": [
        "**2.\tType the code as shown below:**\n",
        "\n",
        "i = 0\n",
        "\n",
        "while i<len(message):\n",
        "\n",
        "print(message[i])\n",
        "\n",
        "i+=1\n"
      ],
      "metadata": {
        "id": "uKzSgcUzhVq_"
      }
    },
    {
      "cell_type": "code",
      "source": [
        "i = 0\n",
        "\n",
        "while i<len(message):\n",
        "  print(message[i])\n",
        "  i+=1"
      ],
      "metadata": {
        "colab": {
          "base_uri": "https://localhost:8080/"
        },
        "id": "eKCCALfFhF_u",
        "outputId": "73ecf09f-d5fc-4bfc-9ad5-85335b89f37a"
      },
      "execution_count": 126,
      "outputs": [
        {
          "output_type": "stream",
          "name": "stdout",
          "text": [
            "H\n",
            "e\n",
            "l\n",
            "l\n",
            "o\n",
            " \n",
            "C\n",
            "P\n",
            "E\n",
            "0\n",
            "0\n",
            "9\n"
          ]
        }
      ]
    },
    {
      "cell_type": "markdown",
      "source": [
        "# **Tuples**"
      ],
      "metadata": {
        "id": "RnjCUX4ZhpH-"
      }
    },
    {
      "cell_type": "markdown",
      "source": [
        "**1.\tCreate a variable named tuplelist and assign the value of (1,2,3,4,5)**"
      ],
      "metadata": {
        "id": "_EIAmmz9hr1H"
      }
    },
    {
      "cell_type": "code",
      "source": [
        "tuplelist = (1,2,3,4,5)"
      ],
      "metadata": {
        "id": "IImQ2zg7hvKf"
      },
      "execution_count": 127,
      "outputs": []
    },
    {
      "cell_type": "markdown",
      "source": [
        "**2.\tPrint the following values:**\n",
        "\n",
        "a.\tnumberlist[0]\n",
        "\n",
        "b.\tnumberlist[1]\n",
        "\n",
        "c.\tnumberlist[2]\n",
        "\n",
        "d.\tnumberlist[3]\n",
        "\n",
        "e.\tnumberlist[4]\n",
        "\n",
        "f.\tnumberlist[5]\n"
      ],
      "metadata": {
        "id": "UdKlsV3fhudf"
      }
    },
    {
      "cell_type": "code",
      "source": [
        "#a\n",
        "print(tuplelist[4])"
      ],
      "metadata": {
        "colab": {
          "base_uri": "https://localhost:8080/"
        },
        "id": "riVYW7t_h6u5",
        "outputId": "56e03e45-a5e3-4e33-923b-b4dc0e51de20"
      },
      "execution_count": 131,
      "outputs": [
        {
          "output_type": "stream",
          "name": "stdout",
          "text": [
            "5\n"
          ]
        }
      ]
    }
  ]
}