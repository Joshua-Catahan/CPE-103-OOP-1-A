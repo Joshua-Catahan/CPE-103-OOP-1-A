{
  "nbformat": 4,
  "nbformat_minor": 0,
  "metadata": {
    "colab": {
      "provenance": [],
      "authorship_tag": "ABX9TyNEPGBho6ww6wIO+TT+5yrL",
      "include_colab_link": true
    },
    "kernelspec": {
      "name": "python3",
      "display_name": "Python 3"
    },
    "language_info": {
      "name": "python"
    }
  },
  "cells": [
    {
      "cell_type": "markdown",
      "metadata": {
        "id": "view-in-github",
        "colab_type": "text"
      },
      "source": [
        "<a href=\"https://colab.research.google.com/github/Joshua-Catahan/CPE-103-OOP-1-A/blob/main/Laboratory_Activity_No_4.ipynb\" target=\"_parent\"><img src=\"https://colab.research.google.com/assets/colab-badge.svg\" alt=\"Open In Colab\"/></a>"
      ]
    },
    {
      "cell_type": "markdown",
      "source": [
        "NOTE: ANOTHER UPLOADED FILE CONTAINS THE PDF FORMAT OF THE LAB ACTIVITY NO.4"
      ],
      "metadata": {
        "id": "pJAYeRMSyDX-"
      }
    },
    {
      "cell_type": "markdown",
      "source": [
        "# **LISTS**"
      ],
      "metadata": {
        "id": "aOdPD5ohLQ8A"
      }
    },
    {
      "cell_type": "markdown",
      "source": [
        "**1.\tCreate a variable numberlist and assign it the value of [5,4,2,1,3].**"
      ],
      "metadata": {
        "id": "V5-QOoILGEj4"
      }
    },
    {
      "cell_type": "code",
      "execution_count": null,
      "metadata": {
        "id": "aJ_aLnEzGDmN"
      },
      "outputs": [],
      "source": [
        "numberlist = [5, 4, 2, 1, 3]"
      ]
    },
    {
      "cell_type": "markdown",
      "source": [],
      "metadata": {
        "id": "dtFqtu5QSnAH"
      }
    },
    {
      "cell_type": "markdown",
      "source": [
        "**2.\tPrint the following values below:**\n",
        "\n",
        "a.\tlen(numberlist)\n",
        "\n",
        "b.\tnumberlist[0]\n",
        "\n",
        "c.\tnumberlist[1]\n",
        "\n",
        "d.\tnumberlist[2]\n",
        "\n",
        "e.\tnumberlist[3]\n",
        "\n",
        "f.\tnumberlist[4]\n",
        "\n",
        "g.\tnumberlist[5]\n",
        "\n",
        "h.\tnumberlist[-1]\n",
        "\n",
        "i.\tnumberlist[-2]\n",
        "\n",
        "j.\tnumberlist[-3]\n",
        "\n",
        "k.\tnumberlist[-4]\n",
        "\n",
        "l.\tnumberlist[-5]\n",
        "\n",
        "m.\tnumberlist[-6]\n"
      ],
      "metadata": {
        "id": "_2JamFWLIluJ"
      }
    },
    {
      "cell_type": "code",
      "source": [
        "#a\n",
        "print(len(numberlist))"
      ],
      "metadata": {
        "colab": {
          "base_uri": "https://localhost:8080/"
        },
        "id": "3Xu4mE2JHGZw",
        "outputId": "db51d1ec-fe7a-4b20-f7f8-264b4d7ce469"
      },
      "execution_count": null,
      "outputs": [
        {
          "output_type": "stream",
          "name": "stdout",
          "text": [
            "5\n"
          ]
        }
      ]
    },
    {
      "cell_type": "code",
      "source": [
        "#b\n",
        "print(numberlist[0])"
      ],
      "metadata": {
        "colab": {
          "base_uri": "https://localhost:8080/"
        },
        "id": "I8lh4--ZGrwo",
        "outputId": "63cfd511-94e6-49ae-9892-ec13d451879a"
      },
      "execution_count": null,
      "outputs": [
        {
          "output_type": "stream",
          "name": "stdout",
          "text": [
            "5\n"
          ]
        }
      ]
    },
    {
      "cell_type": "code",
      "source": [
        "#c\n",
        "print(numberlist[1])"
      ],
      "metadata": {
        "colab": {
          "base_uri": "https://localhost:8080/"
        },
        "id": "-Cur44GhHWg3",
        "outputId": "b08cb0fb-804f-4809-be3b-e1ba5e965a1b"
      },
      "execution_count": null,
      "outputs": [
        {
          "output_type": "stream",
          "name": "stdout",
          "text": [
            "4\n"
          ]
        }
      ]
    },
    {
      "cell_type": "code",
      "source": [
        "#d\n",
        "print(numberlist[2])"
      ],
      "metadata": {
        "colab": {
          "base_uri": "https://localhost:8080/"
        },
        "id": "l45Zyn0VHdo_",
        "outputId": "7114de39-0f0c-4640-9499-05d0d0f621f5"
      },
      "execution_count": null,
      "outputs": [
        {
          "output_type": "stream",
          "name": "stdout",
          "text": [
            "2\n"
          ]
        }
      ]
    },
    {
      "cell_type": "code",
      "source": [
        "#e\n",
        "print(numberlist[3])"
      ],
      "metadata": {
        "colab": {
          "base_uri": "https://localhost:8080/"
        },
        "id": "zTyVxd4WHi5v",
        "outputId": "d848bd60-2de2-4644-bdf7-2a50f4971211"
      },
      "execution_count": null,
      "outputs": [
        {
          "output_type": "stream",
          "name": "stdout",
          "text": [
            "1\n"
          ]
        }
      ]
    },
    {
      "cell_type": "code",
      "source": [
        "#f\n",
        "print(numberlist[4])"
      ],
      "metadata": {
        "colab": {
          "base_uri": "https://localhost:8080/"
        },
        "id": "xLNj095AHln3",
        "outputId": "a629a217-0447-42d3-f6e8-42031ef53090"
      },
      "execution_count": null,
      "outputs": [
        {
          "output_type": "stream",
          "name": "stdout",
          "text": [
            "3\n"
          ]
        }
      ]
    },
    {
      "cell_type": "code",
      "source": [
        "#g\n",
        "print(numberlist[5])\n",
        "# the number exceeds the list"
      ],
      "metadata": {
        "colab": {
          "base_uri": "https://localhost:8080/",
          "height": 158
        },
        "id": "jnFT584qHomf",
        "outputId": "8d4e619e-59b8-47d4-ebae-48a5e5da5fac"
      },
      "execution_count": null,
      "outputs": [
        {
          "output_type": "error",
          "ename": "IndexError",
          "evalue": "list index out of range",
          "traceback": [
            "\u001b[0;31m---------------------------------------------------------------------------\u001b[0m",
            "\u001b[0;31mIndexError\u001b[0m                                Traceback (most recent call last)",
            "\u001b[0;32m<ipython-input-8-8a9d01743486>\u001b[0m in \u001b[0;36m<cell line: 0>\u001b[0;34m()\u001b[0m\n\u001b[1;32m      1\u001b[0m \u001b[0;31m#g\u001b[0m\u001b[0;34m\u001b[0m\u001b[0;34m\u001b[0m\u001b[0m\n\u001b[0;32m----> 2\u001b[0;31m \u001b[0mprint\u001b[0m\u001b[0;34m(\u001b[0m\u001b[0mnumberlist\u001b[0m\u001b[0;34m[\u001b[0m\u001b[0;36m5\u001b[0m\u001b[0;34m]\u001b[0m\u001b[0;34m)\u001b[0m\u001b[0;34m\u001b[0m\u001b[0;34m\u001b[0m\u001b[0m\n\u001b[0m",
            "\u001b[0;31mIndexError\u001b[0m: list index out of range"
          ]
        }
      ]
    },
    {
      "cell_type": "code",
      "source": [
        "#h\n",
        "print(numberlist[-1])"
      ],
      "metadata": {
        "colab": {
          "base_uri": "https://localhost:8080/"
        },
        "id": "9eu-MOoGHuzQ",
        "outputId": "52005f6c-ad77-47b4-97c4-2043d85beafe"
      },
      "execution_count": null,
      "outputs": [
        {
          "output_type": "stream",
          "name": "stdout",
          "text": [
            "3\n"
          ]
        }
      ]
    },
    {
      "cell_type": "code",
      "source": [
        "#i\n",
        "print(numberlist[-2])"
      ],
      "metadata": {
        "colab": {
          "base_uri": "https://localhost:8080/"
        },
        "id": "rJEe0rvgH2p_",
        "outputId": "d3c4ac7a-9b22-4161-8e35-65af180828eb"
      },
      "execution_count": null,
      "outputs": [
        {
          "output_type": "stream",
          "name": "stdout",
          "text": [
            "1\n"
          ]
        }
      ]
    },
    {
      "cell_type": "code",
      "source": [
        "#j\n",
        "print(numberlist[-3])"
      ],
      "metadata": {
        "colab": {
          "base_uri": "https://localhost:8080/"
        },
        "id": "wqQj_ugRH7eo",
        "outputId": "33bf4723-b5e9-4160-e8d2-89ece4d37111"
      },
      "execution_count": null,
      "outputs": [
        {
          "output_type": "stream",
          "name": "stdout",
          "text": [
            "2\n"
          ]
        }
      ]
    },
    {
      "cell_type": "code",
      "source": [
        "#k\n",
        "print(numberlist[-4])"
      ],
      "metadata": {
        "colab": {
          "base_uri": "https://localhost:8080/"
        },
        "id": "vPR51GwNH-S_",
        "outputId": "a06defd6-27ee-4f3b-db00-a0b812384755"
      },
      "execution_count": null,
      "outputs": [
        {
          "output_type": "stream",
          "name": "stdout",
          "text": [
            "4\n"
          ]
        }
      ]
    },
    {
      "cell_type": "code",
      "source": [
        "#l\n",
        "print(numberlist[-5])"
      ],
      "metadata": {
        "colab": {
          "base_uri": "https://localhost:8080/"
        },
        "id": "F242_yHlIDD3",
        "outputId": "0588ccdb-0cec-4008-a79e-b8d0b862c337"
      },
      "execution_count": null,
      "outputs": [
        {
          "output_type": "stream",
          "name": "stdout",
          "text": [
            "5\n"
          ]
        }
      ]
    },
    {
      "cell_type": "code",
      "source": [
        "#m\n",
        "print(numberlist[-6])\n",
        "# the number exceeds the list"
      ],
      "metadata": {
        "colab": {
          "base_uri": "https://localhost:8080/",
          "height": 158
        },
        "id": "2LTV2OGLIG-f",
        "outputId": "16a10b1f-6727-4492-db71-86cb2b8b3e10"
      },
      "execution_count": null,
      "outputs": [
        {
          "output_type": "error",
          "ename": "IndexError",
          "evalue": "list index out of range",
          "traceback": [
            "\u001b[0;31m---------------------------------------------------------------------------\u001b[0m",
            "\u001b[0;31mIndexError\u001b[0m                                Traceback (most recent call last)",
            "\u001b[0;32m<ipython-input-14-7387fb30fe83>\u001b[0m in \u001b[0;36m<cell line: 0>\u001b[0;34m()\u001b[0m\n\u001b[1;32m      1\u001b[0m \u001b[0;31m#m\u001b[0m\u001b[0;34m\u001b[0m\u001b[0;34m\u001b[0m\u001b[0m\n\u001b[0;32m----> 2\u001b[0;31m \u001b[0mprint\u001b[0m\u001b[0;34m(\u001b[0m\u001b[0mnumberlist\u001b[0m\u001b[0;34m[\u001b[0m\u001b[0;34m-\u001b[0m\u001b[0;36m6\u001b[0m\u001b[0;34m]\u001b[0m\u001b[0;34m)\u001b[0m\u001b[0;34m\u001b[0m\u001b[0;34m\u001b[0m\u001b[0m\n\u001b[0m",
            "\u001b[0;31mIndexError\u001b[0m: list index out of range"
          ]
        }
      ]
    },
    {
      "cell_type": "markdown",
      "source": [
        "**3.\tWrite your observation after printing all the values.**\n",
        "\n",
        "- When I printed the values in numberlist, everything worked fine for valid indices, like numberlist[0] to numberlist[4]. But when I tried to access numberlist[5] or numberlist[-6], I got an error because there aren’t that many elements in the list. So, trying to access elements that don’t exist causes an error."
      ],
      "metadata": {
        "id": "0ntJmKHdIaqH"
      }
    },
    {
      "cell_type": "markdown",
      "source": [
        "**4.\tCreate a variable named itemlist and assign it the value of [1,-2.0,[1,2,3],”Word”]**"
      ],
      "metadata": {
        "id": "d4XHCeHlIfcf"
      }
    },
    {
      "cell_type": "code",
      "source": [
        "itemlist = [1, -2.0, [1, 2, 3], \"Word\"]"
      ],
      "metadata": {
        "id": "b_i-HaZYJ2Kg"
      },
      "execution_count": null,
      "outputs": []
    },
    {
      "cell_type": "code",
      "source": [],
      "metadata": {
        "id": "qtPAuw63s7HB"
      },
      "execution_count": null,
      "outputs": []
    },
    {
      "cell_type": "markdown",
      "source": [
        "**5.\tPrint the following values below:**\n",
        "\n",
        "a.\tlen(itemlist)\n",
        "\n",
        "b.\titemlist [0]\n",
        "\n",
        "c.\titemlist [1]\n",
        "\n",
        "d.\titemlist [2]\n",
        "\n",
        "e.\titemlist [3]\n",
        "\n",
        "f.\tlen(itemlist[2])\n",
        "\n",
        "g.\titemlist [2][0]\n",
        "\n",
        "h.\titemlist [2][1]\n",
        "\n",
        "i.\titemlist [2][2]\n",
        "\n",
        "j.\titemlist [-1]\n",
        "\n"
      ],
      "metadata": {
        "id": "OoYREeHlJPd5"
      }
    },
    {
      "cell_type": "code",
      "source": [
        "#a\n",
        "print(len(itemlist))"
      ],
      "metadata": {
        "colab": {
          "base_uri": "https://localhost:8080/"
        },
        "id": "GXmyatgvKI1P",
        "outputId": "37bc595a-9a7d-406d-c5a1-8afc96e372a3"
      },
      "execution_count": null,
      "outputs": [
        {
          "output_type": "stream",
          "name": "stdout",
          "text": [
            "4\n"
          ]
        }
      ]
    },
    {
      "cell_type": "code",
      "source": [
        "#b\n",
        "print(itemlist[0])"
      ],
      "metadata": {
        "colab": {
          "base_uri": "https://localhost:8080/"
        },
        "id": "4HtTuwEDKWZX",
        "outputId": "5a5f161f-5063-41a6-87ae-06e5f8639fbc"
      },
      "execution_count": null,
      "outputs": [
        {
          "output_type": "stream",
          "name": "stdout",
          "text": [
            "1\n"
          ]
        }
      ]
    },
    {
      "cell_type": "code",
      "source": [
        "#c\n",
        "print(itemlist[1])"
      ],
      "metadata": {
        "colab": {
          "base_uri": "https://localhost:8080/"
        },
        "id": "hsQi8vFQKY__",
        "outputId": "ca694ed3-d1cd-4a0b-80f9-f230e46c7ca0"
      },
      "execution_count": null,
      "outputs": [
        {
          "output_type": "stream",
          "name": "stdout",
          "text": [
            "-2.0\n"
          ]
        }
      ]
    },
    {
      "cell_type": "code",
      "source": [
        "#d\n",
        "print(itemlist[2])"
      ],
      "metadata": {
        "colab": {
          "base_uri": "https://localhost:8080/"
        },
        "id": "SAqTgiFjKdJX",
        "outputId": "ffcc78c6-4dc5-425e-e5ac-8fa66f8753f3"
      },
      "execution_count": null,
      "outputs": [
        {
          "output_type": "stream",
          "name": "stdout",
          "text": [
            "[1, 2, 3]\n"
          ]
        }
      ]
    },
    {
      "cell_type": "code",
      "source": [
        "#e\n",
        "print(itemlist[3])"
      ],
      "metadata": {
        "colab": {
          "base_uri": "https://localhost:8080/"
        },
        "id": "MeDjzdmqKfcp",
        "outputId": "1be38652-a975-48ab-d2b0-681540683ff8"
      },
      "execution_count": null,
      "outputs": [
        {
          "output_type": "stream",
          "name": "stdout",
          "text": [
            "Word\n"
          ]
        }
      ]
    },
    {
      "cell_type": "code",
      "source": [
        "#f\n",
        "print(len(itemlist[2]))"
      ],
      "metadata": {
        "colab": {
          "base_uri": "https://localhost:8080/"
        },
        "id": "-zSKouiKKhzX",
        "outputId": "8a35e821-19e6-4a40-bf18-f38b3ab26047"
      },
      "execution_count": null,
      "outputs": [
        {
          "output_type": "stream",
          "name": "stdout",
          "text": [
            "3\n"
          ]
        }
      ]
    },
    {
      "cell_type": "code",
      "source": [
        "#g\n",
        "print(itemlist[2][0])"
      ],
      "metadata": {
        "colab": {
          "base_uri": "https://localhost:8080/"
        },
        "id": "3kYIRIG4KlQg",
        "outputId": "4d0d78db-51e2-4a36-fba2-bfe286aefd98"
      },
      "execution_count": null,
      "outputs": [
        {
          "output_type": "stream",
          "name": "stdout",
          "text": [
            "1\n"
          ]
        }
      ]
    },
    {
      "cell_type": "code",
      "source": [
        "#h\n",
        "print(itemlist[2][1])"
      ],
      "metadata": {
        "colab": {
          "base_uri": "https://localhost:8080/"
        },
        "id": "hBFNwyV2KnbP",
        "outputId": "75eca1a9-d574-47d0-fd69-2a88592d37a1"
      },
      "execution_count": null,
      "outputs": [
        {
          "output_type": "stream",
          "name": "stdout",
          "text": [
            "2\n"
          ]
        }
      ]
    },
    {
      "cell_type": "code",
      "source": [
        "#i\n",
        "print(itemlist[2][2])"
      ],
      "metadata": {
        "colab": {
          "base_uri": "https://localhost:8080/"
        },
        "id": "BAgqyv5aKp1P",
        "outputId": "1c1dfdce-0992-4ae9-a0fb-277f375d5763"
      },
      "execution_count": null,
      "outputs": [
        {
          "output_type": "stream",
          "name": "stdout",
          "text": [
            "3\n"
          ]
        }
      ]
    },
    {
      "cell_type": "code",
      "source": [
        "#j\n",
        "print(itemlist[-1])"
      ],
      "metadata": {
        "colab": {
          "base_uri": "https://localhost:8080/"
        },
        "id": "BlIthNnmKsGB",
        "outputId": "a621d662-7300-46a5-f97b-284a00b83853"
      },
      "execution_count": null,
      "outputs": [
        {
          "output_type": "stream",
          "name": "stdout",
          "text": [
            "Word\n"
          ]
        }
      ]
    },
    {
      "cell_type": "markdown",
      "source": [
        "**6.  Write your observation after printing all the values. What does len() do?**\n",
        "\n",
        "- The len() function worked well to tell me how many items were in itemlist, even though it had different types of values, like numbers and a list inside it. It counts all the elements at the top level, and it helps me quickly check how many items are in a list or sublist."
      ],
      "metadata": {
        "id": "usg6aCMpKzJa"
      }
    },
    {
      "cell_type": "markdown",
      "source": [
        "# INDEX SLICING"
      ],
      "metadata": {
        "id": "jCvs1MC_LBlR"
      }
    },
    {
      "cell_type": "markdown",
      "source": [
        "1.\tCreate a new variable longlist and assign it the value of numberlist + itemlist."
      ],
      "metadata": {
        "id": "taJOssWyLLx4"
      }
    },
    {
      "cell_type": "code",
      "source": [
        "longlist = numberlist + itemlist"
      ],
      "metadata": {
        "id": "-udNIHHtLcCP"
      },
      "execution_count": null,
      "outputs": []
    },
    {
      "cell_type": "markdown",
      "source": [
        "**2.\tPrint the following values below and write your observation for each of the following sub-groups (sub-headings):**\n",
        "\n",
        "a.\tlen(longlist)\n",
        "\n",
        "b.\tlonglist [:]\n",
        "\n",
        "c.\tlonglist[:9]\n",
        "\n",
        "d.\tlonglist[0:]\n",
        "\n",
        "e.\tlonglist[1:]\n",
        "\n",
        "f.\tlonglist[2:]\n",
        "\n"
      ],
      "metadata": {
        "id": "wA4o9wSwLkjX"
      }
    },
    {
      "cell_type": "code",
      "source": [
        "#a\n",
        "print(len(longlist))"
      ],
      "metadata": {
        "colab": {
          "base_uri": "https://localhost:8080/"
        },
        "id": "aNApYbeJL0bX",
        "outputId": "d7b68ead-4ca6-42ed-ce2d-6924224e2170"
      },
      "execution_count": null,
      "outputs": [
        {
          "output_type": "stream",
          "name": "stdout",
          "text": [
            "9\n"
          ]
        }
      ]
    },
    {
      "cell_type": "code",
      "source": [
        "#b\n",
        "print(longlist[:])"
      ],
      "metadata": {
        "colab": {
          "base_uri": "https://localhost:8080/"
        },
        "id": "uu5MTacEMAWg",
        "outputId": "b3b59651-0fa3-4bc8-9a56-68c1a43a10ae"
      },
      "execution_count": null,
      "outputs": [
        {
          "output_type": "stream",
          "name": "stdout",
          "text": [
            "[5, 4, 2, 1, 3, 1, -2.0, [1, 2, 3], 'Word']\n"
          ]
        }
      ]
    },
    {
      "cell_type": "code",
      "source": [
        "#c\n",
        "print(longlist[:9])"
      ],
      "metadata": {
        "colab": {
          "base_uri": "https://localhost:8080/"
        },
        "id": "EGr2HrbxMDCH",
        "outputId": "899f92a3-4add-4126-c7ea-032ed9313d9f"
      },
      "execution_count": null,
      "outputs": [
        {
          "output_type": "stream",
          "name": "stdout",
          "text": [
            "[5, 4, 2, 1, 3, 1, -2.0, [1, 2, 3], 'Word']\n"
          ]
        }
      ]
    },
    {
      "cell_type": "code",
      "source": [
        "#d\n",
        "print(longlist[0:])"
      ],
      "metadata": {
        "colab": {
          "base_uri": "https://localhost:8080/"
        },
        "id": "b_BeccC4MGEf",
        "outputId": "a385afc2-8f63-47a5-e52a-edde32f13310"
      },
      "execution_count": null,
      "outputs": [
        {
          "output_type": "stream",
          "name": "stdout",
          "text": [
            "[5, 4, 2, 1, 3, 1, -2.0, [1, 2, 3], 'Word']\n"
          ]
        }
      ]
    },
    {
      "cell_type": "code",
      "source": [
        "#e\n",
        "print(longlist[1:])"
      ],
      "metadata": {
        "colab": {
          "base_uri": "https://localhost:8080/"
        },
        "id": "k4oDx0VOMI5g",
        "outputId": "4570e690-c8e5-4f16-981c-1a189f52c65f"
      },
      "execution_count": null,
      "outputs": [
        {
          "output_type": "stream",
          "name": "stdout",
          "text": [
            "[4, 2, 1, 3, 1, -2.0, [1, 2, 3], 'Word']\n"
          ]
        }
      ]
    },
    {
      "cell_type": "code",
      "source": [
        "#f\n",
        "print(longlist[2:])"
      ],
      "metadata": {
        "colab": {
          "base_uri": "https://localhost:8080/"
        },
        "id": "Ak2xhUfEMLBQ",
        "outputId": "28d9154b-1b16-43ee-aa25-ed7a21d0140c"
      },
      "execution_count": null,
      "outputs": [
        {
          "output_type": "stream",
          "name": "stdout",
          "text": [
            "[2, 1, 3, 1, -2.0, [1, 2, 3], 'Word']\n"
          ]
        }
      ]
    },
    {
      "cell_type": "markdown",
      "source": [
        "**OBSERVATION:**\n",
        "\n",
        "Index slicing is a super handy way to get specific parts of a list. I can use it to grab a section of the list, like longlist[1:3], or even just copy the whole list with longlist[:]. Negative indices help me count from the end of the list, and the step parameter lets me skip over elements, like longlist[::2] to pick every second item."
      ],
      "metadata": {
        "id": "uvhY7keDMWeP"
      }
    },
    {
      "cell_type": "markdown",
      "source": [
        "***Index Slicing with Range***\n",
        "\n",
        "g.\tlonglist[2:5]\n",
        "\n",
        "h.\tlonglist[5:2]\n",
        "\n",
        "i.\tlonglist[8:]\n",
        "\n",
        "j.\tlonglist[9:]\n",
        "\n"
      ],
      "metadata": {
        "id": "09-CKdX0McZX"
      }
    },
    {
      "cell_type": "code",
      "source": [
        "#g\n",
        "print(longlist[2:5])"
      ],
      "metadata": {
        "colab": {
          "base_uri": "https://localhost:8080/"
        },
        "id": "cmPRrQ3tMrCv",
        "outputId": "b7bfc775-10f0-4219-8756-ba33d43f56a7"
      },
      "execution_count": null,
      "outputs": [
        {
          "output_type": "stream",
          "name": "stdout",
          "text": [
            "[2, 1, 3]\n"
          ]
        }
      ]
    },
    {
      "cell_type": "code",
      "source": [
        "#h\n",
        "print(longlist[5:2])"
      ],
      "metadata": {
        "colab": {
          "base_uri": "https://localhost:8080/"
        },
        "id": "DUKXTiTJMuS_",
        "outputId": "d862b20b-c965-4e0f-dab6-282435c68ac2"
      },
      "execution_count": null,
      "outputs": [
        {
          "output_type": "stream",
          "name": "stdout",
          "text": [
            "[]\n"
          ]
        }
      ]
    },
    {
      "cell_type": "code",
      "source": [
        "#i\n",
        "print(longlist[8:])"
      ],
      "metadata": {
        "colab": {
          "base_uri": "https://localhost:8080/"
        },
        "id": "ew0-63ckNC5n",
        "outputId": "8af17c94-6d5d-4554-870a-b97b898610d5"
      },
      "execution_count": null,
      "outputs": [
        {
          "output_type": "stream",
          "name": "stdout",
          "text": [
            "['Word']\n"
          ]
        }
      ]
    },
    {
      "cell_type": "code",
      "source": [
        "#j\n",
        "print(longlist[9:])"
      ],
      "metadata": {
        "colab": {
          "base_uri": "https://localhost:8080/"
        },
        "id": "Pl3xK3taNJFP",
        "outputId": "220a9158-0082-4781-fa6b-f3ec88ecbf1a"
      },
      "execution_count": null,
      "outputs": [
        {
          "output_type": "stream",
          "name": "stdout",
          "text": [
            "[]\n"
          ]
        }
      ]
    },
    {
      "cell_type": "markdown",
      "source": [
        "**OBSERVATION (Index Slicing with Range):**\n",
        "\n",
        "When I slice using a range, I can pick a specific part of the list by defining a start and end, like longlist[2:5]. If the range doesn’t make sense, like longlist[5:2], it just gives me an empty list. Using steps in a range, like longlist[1:8:2], helps me get elements in a specific order or pattern.\n",
        "\n"
      ],
      "metadata": {
        "id": "fqAbHERQNVan"
      }
    },
    {
      "cell_type": "markdown",
      "source": [
        "***Index Slicing using Negative Indices***\n",
        "\n",
        "k.\tlonglist[-9:]\n",
        "\n",
        "l.\tlonglist[-8:]\n",
        "\n",
        "m.\tlonglist[-8:-7]\n",
        "\n",
        "n.\tlonglist[-1:]\n",
        "\n"
      ],
      "metadata": {
        "id": "r3S2I43INNkP"
      }
    },
    {
      "cell_type": "code",
      "source": [
        "#k\n",
        "print(longlist[-9:])"
      ],
      "metadata": {
        "colab": {
          "base_uri": "https://localhost:8080/"
        },
        "id": "Dlk0IGHWNhp_",
        "outputId": "601f8895-422d-45bd-8caa-58033feade55"
      },
      "execution_count": null,
      "outputs": [
        {
          "output_type": "stream",
          "name": "stdout",
          "text": [
            "[5, 4, 2, 1, 3, 1, -2.0, [1, 2, 3], 'Word']\n"
          ]
        }
      ]
    },
    {
      "cell_type": "code",
      "source": [
        "#l\n",
        "print(longlist[-8:])"
      ],
      "metadata": {
        "colab": {
          "base_uri": "https://localhost:8080/"
        },
        "id": "BET0c-8hNr-P",
        "outputId": "3c7d8d45-13c3-43bd-a1de-3cdf4f76a2ce"
      },
      "execution_count": null,
      "outputs": [
        {
          "output_type": "stream",
          "name": "stdout",
          "text": [
            "[4, 2, 1, 3, 1, -2.0, [1, 2, 3], 'Word']\n"
          ]
        }
      ]
    },
    {
      "cell_type": "code",
      "source": [
        "#m\n",
        "print(longlist[-8:-7])"
      ],
      "metadata": {
        "colab": {
          "base_uri": "https://localhost:8080/"
        },
        "id": "W-67WN2YNyiX",
        "outputId": "a504ef02-eacc-4ca3-db0a-78eca8aea2af"
      },
      "execution_count": null,
      "outputs": [
        {
          "output_type": "stream",
          "name": "stdout",
          "text": [
            "[4]\n"
          ]
        }
      ]
    },
    {
      "cell_type": "code",
      "source": [
        "#n\n",
        "print(longlist[-1:])"
      ],
      "metadata": {
        "colab": {
          "base_uri": "https://localhost:8080/"
        },
        "id": "5jBwhAoeN61Q",
        "outputId": "7965611b-338a-482f-e934-483f4a99ede2"
      },
      "execution_count": null,
      "outputs": [
        {
          "output_type": "stream",
          "name": "stdout",
          "text": [
            "['Word']\n"
          ]
        }
      ]
    },
    {
      "cell_type": "markdown",
      "source": [
        "**OBSERVATION (Index Slicing using Negative Indices):**\n",
        "\n",
        "Negative indices let me count from the end of the list, which is really useful. For example, longlist[-1:] gives me the last item, and longlist[-8:-7] grabs just one item from the end. I can mix negative indices with other slicing techniques to easily grab parts of a list in reverse.\n",
        "\n"
      ],
      "metadata": {
        "id": "TaFrfuwtOXKv"
      }
    },
    {
      "cell_type": "markdown",
      "source": [
        "***Other properties of Index Slicing***\n",
        "\n",
        "o.\tlonglist[10:20]\n",
        "\n",
        "p.\tlonglist[-7:5]\n"
      ],
      "metadata": {
        "id": "AFhJEPJqN9x_"
      }
    },
    {
      "cell_type": "code",
      "source": [
        "#o\n",
        "print(longlist[10:20])"
      ],
      "metadata": {
        "colab": {
          "base_uri": "https://localhost:8080/"
        },
        "id": "kZhV1JplOE7p",
        "outputId": "476701a4-e6fd-460d-ac85-83b0067d8112"
      },
      "execution_count": null,
      "outputs": [
        {
          "output_type": "stream",
          "name": "stdout",
          "text": [
            "[]\n"
          ]
        }
      ]
    },
    {
      "cell_type": "code",
      "source": [
        "#p\n",
        "print(longlist[-7:5])"
      ],
      "metadata": {
        "colab": {
          "base_uri": "https://localhost:8080/"
        },
        "id": "hXdMd2JPOLAX",
        "outputId": "abab7f6e-c6a7-433d-e359-cc8ff508d542"
      },
      "execution_count": null,
      "outputs": [
        {
          "output_type": "stream",
          "name": "stdout",
          "text": [
            "[2, 1, 3]\n"
          ]
        }
      ]
    },
    {
      "cell_type": "markdown",
      "source": [
        "OBSERVATION (Other properties of Index Slicing):\n",
        "\n",
        "Sometimes, when I try to slice beyond the list’s length, like longlist[10:20], I’ll get an empty list because there aren’t enough elements. It’s important to remember that if the slice doesn’t match the list’s size, Python will just return nothing."
      ],
      "metadata": {
        "id": "rHN3uiBJufRo"
      }
    },
    {
      "cell_type": "markdown",
      "source": [
        "***Index Slicing with Step parameter***\n",
        "\n",
        "q.\tlonglist[::1]\n",
        "\n",
        "r.\tlonglist[::2]\n",
        "\n",
        "s.\tlonglist[1:8:2]\n",
        "\n",
        "t.\tlonglist[9:1:-1]\n",
        "\n",
        "u.\tlonglist[-1::1]\n",
        "\n",
        "v.\tlonglist[-1::-1]\n"
      ],
      "metadata": {
        "id": "Z1ixLIssOt43"
      }
    },
    {
      "cell_type": "code",
      "source": [
        "#q\n",
        "print(longlist[::1])"
      ],
      "metadata": {
        "colab": {
          "base_uri": "https://localhost:8080/"
        },
        "id": "DnsujwiCO2V_",
        "outputId": "692d3674-f686-40a4-c7bf-7b4051cbf71a"
      },
      "execution_count": null,
      "outputs": [
        {
          "output_type": "stream",
          "name": "stdout",
          "text": [
            "[5, 4, 2, 1, 3, 1, -2.0, [1, 2, 3], 'Word']\n"
          ]
        }
      ]
    },
    {
      "cell_type": "code",
      "source": [
        "#r\n",
        "print(longlist[::2])"
      ],
      "metadata": {
        "colab": {
          "base_uri": "https://localhost:8080/"
        },
        "id": "R_Qoc48_O7VH",
        "outputId": "23594b11-4a6f-4b3c-94bb-4f55962f4b6f"
      },
      "execution_count": null,
      "outputs": [
        {
          "output_type": "stream",
          "name": "stdout",
          "text": [
            "[5, 2, 3, -2.0, 'Word']\n"
          ]
        }
      ]
    },
    {
      "cell_type": "code",
      "source": [
        "#s\n",
        "print(longlist[1:8:2])"
      ],
      "metadata": {
        "colab": {
          "base_uri": "https://localhost:8080/"
        },
        "id": "vnXSz1yaO92v",
        "outputId": "29f4d480-4964-4883-c839-5c6299af1584"
      },
      "execution_count": null,
      "outputs": [
        {
          "output_type": "stream",
          "name": "stdout",
          "text": [
            "[4, 1, 1, [1, 2, 3]]\n"
          ]
        }
      ]
    },
    {
      "cell_type": "code",
      "source": [
        "#t\n",
        "print(longlist[9:1:-1])"
      ],
      "metadata": {
        "colab": {
          "base_uri": "https://localhost:8080/"
        },
        "id": "ulU3nHwPPABP",
        "outputId": "9a772a7a-852f-4ff7-bfac-a09555ec22c3"
      },
      "execution_count": null,
      "outputs": [
        {
          "output_type": "stream",
          "name": "stdout",
          "text": [
            "['Word', [1, 2, 3], -2.0, 1, 3, 1, 2]\n"
          ]
        }
      ]
    },
    {
      "cell_type": "code",
      "source": [
        "#u\n",
        "print(longlist[-1::1])"
      ],
      "metadata": {
        "colab": {
          "base_uri": "https://localhost:8080/"
        },
        "id": "bS5EEDKYPEO_",
        "outputId": "296a6120-a396-446a-fe81-ba5d82b97df2"
      },
      "execution_count": null,
      "outputs": [
        {
          "output_type": "stream",
          "name": "stdout",
          "text": [
            "['Word']\n"
          ]
        }
      ]
    },
    {
      "cell_type": "code",
      "source": [
        "#v\n",
        "print(longlist[-1::-1])"
      ],
      "metadata": {
        "colab": {
          "base_uri": "https://localhost:8080/"
        },
        "id": "JvQNi61SPHrA",
        "outputId": "decafa5e-2240-415a-ce48-fec63e202e1f"
      },
      "execution_count": null,
      "outputs": [
        {
          "output_type": "stream",
          "name": "stdout",
          "text": [
            "['Word', [1, 2, 3], -2.0, 1, 3, 1, 2, 4, 5]\n"
          ]
        }
      ]
    },
    {
      "cell_type": "markdown",
      "source": [
        "**OBSERVATION (Index Slicing with Step parameter):**\n",
        "\n",
        "Using the step parameter in slicing is great for skipping items in a list. For example, longlist[::2] grabs every second item. If I want to reverse the order of a list, I can use negative steps, like longlist[9:1:-1]. It gives me lots of flexibility to rearrange or selectively pick elements.\n",
        "\n"
      ],
      "metadata": {
        "id": "1pJmV-A7PQFo"
      }
    },
    {
      "cell_type": "markdown",
      "source": [
        "**3.\tWrite your main observation about index slicing as a whole.**\n",
        "\n",
        "Overall, index slicing is a powerful and flexible tool. It lets me pick exactly what I want from a list, whether that’s a range of elements, every other item, or even reversing the order. It’s super useful for manipulating lists without needing loops or complex code.\n",
        "\n",
        "\n",
        "\n"
      ],
      "metadata": {
        "id": "pRehfOKGPeQY"
      }
    },
    {
      "cell_type": "markdown",
      "source": [
        "# **List Methods and the Mutable Property of Lists**"
      ],
      "metadata": {
        "id": "X7CSJ-FdPjWf"
      }
    },
    {
      "cell_type": "markdown",
      "source": [
        "**1.\tCreate a new variable numberlist2 and assign it to be equal to numberlist.**"
      ],
      "metadata": {
        "id": "pLdp_ZxbPmvX"
      }
    },
    {
      "cell_type": "code",
      "source": [
        "numberlist2 = numberlist"
      ],
      "metadata": {
        "id": "afc2CoFuPqAX"
      },
      "execution_count": null,
      "outputs": []
    },
    {
      "cell_type": "markdown",
      "source": [
        "**2.\tPrint the value of numberlist.**"
      ],
      "metadata": {
        "id": "lqVybjAwP0zH"
      }
    },
    {
      "cell_type": "code",
      "source": [
        "print(numberlist)"
      ],
      "metadata": {
        "colab": {
          "base_uri": "https://localhost:8080/"
        },
        "id": "2DyU1tzgP3wI",
        "outputId": "103d9975-2825-4158-b840-5f099adae942"
      },
      "execution_count": null,
      "outputs": [
        {
          "output_type": "stream",
          "name": "stdout",
          "text": [
            "[5, 4, 2, 1, 3]\n"
          ]
        }
      ]
    },
    {
      "cell_type": "markdown",
      "source": [
        "**3.\tPrint the value of numberlist2.**"
      ],
      "metadata": {
        "id": "GpdRYDEMP-n4"
      }
    },
    {
      "cell_type": "code",
      "source": [
        "print(numberlist2)"
      ],
      "metadata": {
        "colab": {
          "base_uri": "https://localhost:8080/"
        },
        "id": "u5mSWwizQA0_",
        "outputId": "fe1c39ec-a6e0-47ba-b9f3-596aa0e1407c"
      },
      "execution_count": null,
      "outputs": [
        {
          "output_type": "stream",
          "name": "stdout",
          "text": [
            "[5, 4, 2, 1, 3]\n"
          ]
        }
      ]
    },
    {
      "cell_type": "markdown",
      "source": [
        "**4.\tAssign the value of numberlist[0] to be equal to 6.**"
      ],
      "metadata": {
        "id": "FuYBI11AQKHv"
      }
    },
    {
      "cell_type": "code",
      "source": [
        "numberlist[0] = 6"
      ],
      "metadata": {
        "id": "roD9VJPlQIaH"
      },
      "execution_count": null,
      "outputs": []
    },
    {
      "cell_type": "markdown",
      "source": [
        "**5.\tPrint the value of numberlist.**"
      ],
      "metadata": {
        "id": "5JocOGAvQdRf"
      }
    },
    {
      "cell_type": "code",
      "source": [
        "print(numberlist)"
      ],
      "metadata": {
        "colab": {
          "base_uri": "https://localhost:8080/"
        },
        "id": "54wtKOhpQiN3",
        "outputId": "863341b2-aa31-4239-f264-c7e6190d0a5b"
      },
      "execution_count": null,
      "outputs": [
        {
          "output_type": "stream",
          "name": "stdout",
          "text": [
            "[6, 4, 2, 1, 3]\n"
          ]
        }
      ]
    },
    {
      "cell_type": "markdown",
      "source": [
        "**6.\tPrint the value of numberlist2.**"
      ],
      "metadata": {
        "id": "PR_jzDSdQr6X"
      }
    },
    {
      "cell_type": "code",
      "source": [
        "print(numberlist2)"
      ],
      "metadata": {
        "colab": {
          "base_uri": "https://localhost:8080/"
        },
        "id": "JQfnDN_JQ1Z5",
        "outputId": "249f1932-a970-4bc1-96c6-c82de6d4d2d4"
      },
      "execution_count": null,
      "outputs": [
        {
          "output_type": "stream",
          "name": "stdout",
          "text": [
            "[6, 4, 2, 1, 3]\n"
          ]
        }
      ]
    },
    {
      "cell_type": "markdown",
      "source": [
        "**7.\tObserve how numberlist2 is affected by changes in numberlist due to the assignment.**\n",
        "\n",
        "When I did numberlist2 = numberlist, both variables pointed to the same list. So, when I changed numberlist, numberlist2 changed too, since they both referred to the same list in memory. This is something to keep in mind when working with lists—you’re not always copying the list, just referencing it.\n",
        "\n",
        "**8.\tChange the value of numberlist2 and assign it the value of numberlist.copy()**\n"
      ],
      "metadata": {
        "id": "UDdwGvURQ4O4"
      }
    },
    {
      "cell_type": "code",
      "source": [
        "numberlist2 = numberlist.copy()"
      ],
      "metadata": {
        "id": "Mh50lJBpQ7mA"
      },
      "execution_count": null,
      "outputs": []
    },
    {
      "cell_type": "markdown",
      "source": [
        "**9.\tPrint the value of numberlist2**"
      ],
      "metadata": {
        "id": "M5RU9vVBRVj3"
      }
    },
    {
      "cell_type": "code",
      "source": [
        "print (numberlist2)"
      ],
      "metadata": {
        "colab": {
          "base_uri": "https://localhost:8080/"
        },
        "id": "4L40G3NbRXdX",
        "outputId": "cfe59310-2f58-4939-913b-b8cf6b82b01c"
      },
      "execution_count": null,
      "outputs": [
        {
          "output_type": "stream",
          "name": "stdout",
          "text": [
            "[6, 4, 2, 1, 3]\n"
          ]
        }
      ]
    },
    {
      "cell_type": "markdown",
      "source": [
        "**10.\tAssign the value of numberlist[0] to be equal to 5.**"
      ],
      "metadata": {
        "id": "dsq7pyKORbQ3"
      }
    },
    {
      "cell_type": "code",
      "source": [
        "numberlist[0] = 5"
      ],
      "metadata": {
        "id": "MrE8resMRdbq"
      },
      "execution_count": null,
      "outputs": []
    },
    {
      "cell_type": "markdown",
      "source": [
        "**11.\tPrint the value of numberlist.**"
      ],
      "metadata": {
        "id": "Ct7Vv9PjRg9P"
      }
    },
    {
      "cell_type": "code",
      "source": [
        "print (numberlist)"
      ],
      "metadata": {
        "colab": {
          "base_uri": "https://localhost:8080/"
        },
        "id": "0FRNlSmRRjHQ",
        "outputId": "1c462e45-e09e-4344-e5ab-2db1960e9636"
      },
      "execution_count": null,
      "outputs": [
        {
          "output_type": "stream",
          "name": "stdout",
          "text": [
            "[5, 4, 2, 1, 3]\n"
          ]
        }
      ]
    },
    {
      "cell_type": "markdown",
      "source": [
        "**12.\tPrint the value of numberlist2.**"
      ],
      "metadata": {
        "id": "hY5qQyTpRle3"
      }
    },
    {
      "cell_type": "code",
      "source": [
        "print (numberlist2)"
      ],
      "metadata": {
        "colab": {
          "base_uri": "https://localhost:8080/"
        },
        "id": "WMf95aL2Rnzo",
        "outputId": "4ef79871-7089-4e45-f73c-5752c6ac0258"
      },
      "execution_count": null,
      "outputs": [
        {
          "output_type": "stream",
          "name": "stdout",
          "text": [
            "[6, 4, 2, 1, 3]\n"
          ]
        }
      ]
    },
    {
      "cell_type": "markdown",
      "source": [
        "**13.\tWrite your observation about the immutable property and the difference of assigning numberlist2 to be equal to numberlist and the numberlist.copy() method.**\n",
        "\n",
        "When I assigned numberlist2 directly to numberlist, both variables were linked to the same list, so any change to one affected the other. But when I used .copy(), numberlist2 became a completely separate list. This showed me that .copy() makes a true copy of the list, so changes to one list won’t affect the other."
      ],
      "metadata": {
        "id": "Wm6LD6C0SYzf"
      }
    },
    {
      "cell_type": "markdown",
      "source": [
        "# **Exploring some List Functions and Methods**"
      ],
      "metadata": {
        "id": "RxM4LIUbSdMu"
      }
    },
    {
      "cell_type": "markdown",
      "source": [
        "**1.\tPrint the value of numberlist**"
      ],
      "metadata": {
        "id": "8BWYQ1cFSuj2"
      }
    },
    {
      "cell_type": "code",
      "source": [
        "print(numberlist)"
      ],
      "metadata": {
        "colab": {
          "base_uri": "https://localhost:8080/"
        },
        "id": "RvRfX08mSvqX",
        "outputId": "b9a2cca5-6f67-49e1-b17f-0b3eec681224"
      },
      "execution_count": null,
      "outputs": [
        {
          "output_type": "stream",
          "name": "stdout",
          "text": [
            "[5, 4, 2, 1, 3]\n"
          ]
        }
      ]
    },
    {
      "cell_type": "markdown",
      "source": [
        "**2.\tRun the command numberlist.append(6)**"
      ],
      "metadata": {
        "id": "XKoDaNaOSynX"
      }
    },
    {
      "cell_type": "code",
      "source": [
        "numberlist.append(6)"
      ],
      "metadata": {
        "id": "eYdMt6KkS06o"
      },
      "execution_count": null,
      "outputs": []
    },
    {
      "cell_type": "markdown",
      "source": [
        "**3.\tPrint the value of numberlist**"
      ],
      "metadata": {
        "id": "KFcaWS4XS4wP"
      }
    },
    {
      "cell_type": "code",
      "source": [
        "print(numberlist)"
      ],
      "metadata": {
        "colab": {
          "base_uri": "https://localhost:8080/"
        },
        "id": "5UkwXfyhS6h-",
        "outputId": "bcbfa98a-14b7-4de2-a58c-d916de8b471a"
      },
      "execution_count": null,
      "outputs": [
        {
          "output_type": "stream",
          "name": "stdout",
          "text": [
            "[5, 4, 2, 1, 3, 6]\n"
          ]
        }
      ]
    },
    {
      "cell_type": "markdown",
      "source": [
        "**4.\tRun the command numberlist.pop()**"
      ],
      "metadata": {
        "id": "EeDqcfKDS8uf"
      }
    },
    {
      "cell_type": "code",
      "source": [
        "numberlist.pop()"
      ],
      "metadata": {
        "colab": {
          "base_uri": "https://localhost:8080/"
        },
        "id": "j-vgHj4TS_zX",
        "outputId": "1e6652a5-66fc-4bac-ab12-9d621253b02b"
      },
      "execution_count": null,
      "outputs": [
        {
          "output_type": "execute_result",
          "data": {
            "text/plain": [
              "6"
            ]
          },
          "metadata": {},
          "execution_count": 63
        }
      ]
    },
    {
      "cell_type": "markdown",
      "source": [
        "**5.\tPrint the value of numberlist**"
      ],
      "metadata": {
        "id": "02f7dPUnTBbf"
      }
    },
    {
      "cell_type": "code",
      "source": [
        "print(numberlist)"
      ],
      "metadata": {
        "colab": {
          "base_uri": "https://localhost:8080/"
        },
        "id": "4ZBT8bOtTD1H",
        "outputId": "534589bb-3806-4c39-ce32-8caeaf402058"
      },
      "execution_count": null,
      "outputs": [
        {
          "output_type": "stream",
          "name": "stdout",
          "text": [
            "[5, 4, 2, 1, 3]\n"
          ]
        }
      ]
    },
    {
      "cell_type": "markdown",
      "source": [
        "**6.\tRun the command numberlist.sort()**"
      ],
      "metadata": {
        "id": "tPmUjGHuTF0-"
      }
    },
    {
      "cell_type": "code",
      "source": [
        "numberlist.sort()"
      ],
      "metadata": {
        "id": "F6JA2U8YTHxv"
      },
      "execution_count": null,
      "outputs": []
    },
    {
      "cell_type": "markdown",
      "source": [
        "**7.\tPrint the value of numberlist**"
      ],
      "metadata": {
        "id": "Zl20dO5QTLq_"
      }
    },
    {
      "cell_type": "code",
      "source": [
        "print(numberlist)"
      ],
      "metadata": {
        "colab": {
          "base_uri": "https://localhost:8080/"
        },
        "id": "JbeWYJlbTNav",
        "outputId": "81c8e332-0638-4549-a3ac-7c6406c907d9"
      },
      "execution_count": null,
      "outputs": [
        {
          "output_type": "stream",
          "name": "stdout",
          "text": [
            "[1, 2, 3, 4, 5]\n"
          ]
        }
      ]
    },
    {
      "cell_type": "markdown",
      "source": [
        "**8.\tRun the command itemlist.sort()**"
      ],
      "metadata": {
        "id": "WKBWtEnRTPh_"
      }
    },
    {
      "cell_type": "code",
      "source": [
        "itemlist.sort()"
      ],
      "metadata": {
        "colab": {
          "base_uri": "https://localhost:8080/",
          "height": 141
        },
        "id": "vVj1HV9iTR4g",
        "outputId": "b293c3ec-a700-4f11-cdd9-a1272f6feef1"
      },
      "execution_count": null,
      "outputs": [
        {
          "output_type": "error",
          "ename": "TypeError",
          "evalue": "'<' not supported between instances of 'list' and 'float'",
          "traceback": [
            "\u001b[0;31m---------------------------------------------------------------------------\u001b[0m",
            "\u001b[0;31mTypeError\u001b[0m                                 Traceback (most recent call last)",
            "\u001b[0;32m<ipython-input-67-c887e071063f>\u001b[0m in \u001b[0;36m<cell line: 0>\u001b[0;34m()\u001b[0m\n\u001b[0;32m----> 1\u001b[0;31m \u001b[0mitemlist\u001b[0m\u001b[0;34m.\u001b[0m\u001b[0msort\u001b[0m\u001b[0;34m(\u001b[0m\u001b[0;34m)\u001b[0m\u001b[0;34m\u001b[0m\u001b[0;34m\u001b[0m\u001b[0m\n\u001b[0m",
            "\u001b[0;31mTypeError\u001b[0m: '<' not supported between instances of 'list' and 'float'"
          ]
        }
      ]
    },
    {
      "cell_type": "markdown",
      "source": [
        "**9.\tPrint the values: min(numberlist) and max(numberlist)**"
      ],
      "metadata": {
        "id": "h_MV1dJzTZMP"
      }
    },
    {
      "cell_type": "code",
      "source": [
        "print(min(numberlist))\n",
        "print(max(numberlist))"
      ],
      "metadata": {
        "id": "Iyq_PxqBTbqx",
        "colab": {
          "base_uri": "https://localhost:8080/"
        },
        "outputId": "435ca03c-35e3-4c36-fdf8-35e581adf250"
      },
      "execution_count": null,
      "outputs": [
        {
          "output_type": "stream",
          "name": "stdout",
          "text": [
            "1\n",
            "5\n"
          ]
        }
      ]
    },
    {
      "cell_type": "markdown",
      "source": [
        "**10.\tPrint the value of longlist**"
      ],
      "metadata": {
        "id": "For-F-CTTfEH"
      }
    },
    {
      "cell_type": "code",
      "source": [
        "print (longlist)"
      ],
      "metadata": {
        "id": "gMZqToJzThJ_",
        "colab": {
          "base_uri": "https://localhost:8080/"
        },
        "outputId": "98f6d927-368d-4179-c911-073261f3f62e"
      },
      "execution_count": null,
      "outputs": [
        {
          "output_type": "stream",
          "name": "stdout",
          "text": [
            "[5, 4, 2, 1, 3, 1, -2.0, [1, 2, 3], 'Word']\n"
          ]
        }
      ]
    },
    {
      "cell_type": "markdown",
      "source": [
        "**11.\tPrint the value of longlist.count(1)**"
      ],
      "metadata": {
        "id": "ygQfPZYJTkp_"
      }
    },
    {
      "cell_type": "code",
      "source": [
        "longlist.count(1)"
      ],
      "metadata": {
        "id": "SLTojZ_kTnoW",
        "colab": {
          "base_uri": "https://localhost:8080/"
        },
        "outputId": "4a5e70d0-44ff-4af1-ea04-63e05105f02b"
      },
      "execution_count": null,
      "outputs": [
        {
          "output_type": "execute_result",
          "data": {
            "text/plain": [
              "2"
            ]
          },
          "metadata": {},
          "execution_count": 70
        }
      ]
    },
    {
      "cell_type": "markdown",
      "source": [
        "**12.\tPrint the value of longlist[7].count(1)**"
      ],
      "metadata": {
        "id": "O63EGCxYTorW"
      }
    },
    {
      "cell_type": "code",
      "source": [
        "longlist[7].count(1)"
      ],
      "metadata": {
        "id": "jdowzCM1Trw_",
        "colab": {
          "base_uri": "https://localhost:8080/"
        },
        "outputId": "b36da7e6-e33c-401c-c719-d341f77c55a6"
      },
      "execution_count": null,
      "outputs": [
        {
          "output_type": "execute_result",
          "data": {
            "text/plain": [
              "1"
            ]
          },
          "metadata": {},
          "execution_count": 71
        }
      ]
    },
    {
      "cell_type": "markdown",
      "source": [
        "# **The in operator**"
      ],
      "metadata": {
        "id": "2Gi3G9cVTtFO"
      }
    },
    {
      "cell_type": "markdown",
      "source": [
        "**1.\tType the code as shown: print(3 in longlist)**"
      ],
      "metadata": {
        "id": "pE9UI5YETxxm"
      }
    },
    {
      "cell_type": "code",
      "source": [
        "print(3 in longlist)"
      ],
      "metadata": {
        "id": "56uDCY2PT0RH",
        "colab": {
          "base_uri": "https://localhost:8080/"
        },
        "outputId": "2e70395e-1928-444a-950e-5e04192631a8"
      },
      "execution_count": null,
      "outputs": [
        {
          "output_type": "stream",
          "name": "stdout",
          "text": [
            "True\n"
          ]
        }
      ]
    },
    {
      "cell_type": "markdown",
      "source": [
        "**2.\tType the code as shown: print(15 in longlist)**"
      ],
      "metadata": {
        "id": "lCHWm8KMT3Z_"
      }
    },
    {
      "cell_type": "code",
      "source": [
        "print(15 in longlist)"
      ],
      "metadata": {
        "id": "nniDHQKlT71v",
        "colab": {
          "base_uri": "https://localhost:8080/"
        },
        "outputId": "58455e8b-4fc9-48ee-e8b9-f838abdf0941"
      },
      "execution_count": null,
      "outputs": [
        {
          "output_type": "stream",
          "name": "stdout",
          "text": [
            "False\n"
          ]
        }
      ]
    },
    {
      "cell_type": "markdown",
      "source": [
        "**3.\tType the code as shown below:**\n",
        "\n",
        "num = int(input(“Enter a number: ”))\n",
        "\n",
        "if num in longlist:\n",
        "\n",
        "  print(“The number is in longlist”)\n",
        "\n",
        "else:\n",
        "\n",
        "  print(“The number is not in longlist”)\n",
        "\n"
      ],
      "metadata": {
        "id": "_8eOOQdxUAW3"
      }
    },
    {
      "cell_type": "code",
      "source": [
        "num = int(input(\"Enter a number: \"))\n",
        "\n",
        "if num in longlist:\n",
        "\n",
        "  print(\"The number is in longlist\")\n",
        "\n",
        "else:\n",
        "\n",
        "  print(\"The number is not in longlist\")"
      ],
      "metadata": {
        "id": "XZCI7y8dUWrZ",
        "colab": {
          "base_uri": "https://localhost:8080/"
        },
        "outputId": "2078d8cc-3503-40d1-c3d5-57d4070d4a41"
      },
      "execution_count": null,
      "outputs": [
        {
          "output_type": "stream",
          "name": "stdout",
          "text": [
            "Enter a number: 5\n",
            "The number is in longlist\n"
          ]
        }
      ]
    },
    {
      "cell_type": "markdown",
      "source": [
        "**4.\tWrite your observations on the in operator.**\n",
        "\n",
        "The in operator was a fast and easy way to check if an item is in a list. It returned True if the item was found, and False if it wasn’t. It’s great for checking membership in lists or strings.\n",
        "\n"
      ],
      "metadata": {
        "id": "aZ6hXlolU-FX"
      }
    },
    {
      "cell_type": "markdown",
      "source": [
        "# **Using a list in an iterative statement**"
      ],
      "metadata": {
        "id": "eWmeETzdVBzP"
      }
    },
    {
      "cell_type": "markdown",
      "source": [
        "**1.\tType the code as shown below:**\n",
        "\n",
        "for item in longlist:\n",
        "\n",
        "  print(item)\n"
      ],
      "metadata": {
        "id": "PtH_lsx8VFA3"
      }
    },
    {
      "cell_type": "code",
      "source": [
        "for item in longlist:\n",
        "    print(item)"
      ],
      "metadata": {
        "id": "o8DK80jQVJ2_",
        "colab": {
          "base_uri": "https://localhost:8080/"
        },
        "outputId": "aa2987eb-52a9-4eab-8b6e-8657be4cd9a4"
      },
      "execution_count": null,
      "outputs": [
        {
          "output_type": "stream",
          "name": "stdout",
          "text": [
            "5\n",
            "4\n",
            "2\n",
            "1\n",
            "3\n",
            "1\n",
            "-2.0\n",
            "[1, 2, 3]\n",
            "Word\n"
          ]
        }
      ]
    },
    {
      "cell_type": "markdown",
      "source": [
        "**2.\tType the code as shown below:**\n",
        "\n",
        "i=0\n",
        "\n",
        "while i<len(longlist):\n",
        "\n",
        "  print(longlist[i])\n",
        "  i+=1\n"
      ],
      "metadata": {
        "id": "iFuL6kD5VPYA"
      }
    },
    {
      "cell_type": "code",
      "source": [
        "i = 0\n",
        "\n",
        "while i<len(longlist):\n",
        "  print(longlist[i])\n",
        "  i+=1"
      ],
      "metadata": {
        "id": "nsKSKpeaVqtH",
        "colab": {
          "base_uri": "https://localhost:8080/"
        },
        "outputId": "eeb2ddb1-0662-47aa-a7c4-2573b16ca91c"
      },
      "execution_count": null,
      "outputs": [
        {
          "output_type": "stream",
          "name": "stdout",
          "text": [
            "5\n",
            "4\n",
            "2\n",
            "1\n",
            "3\n",
            "1\n",
            "-2.0\n",
            "[1, 2, 3]\n",
            "Word\n"
          ]
        }
      ]
    },
    {
      "cell_type": "markdown",
      "source": [
        "# **Strings**"
      ],
      "metadata": {
        "id": "Uz8PB6RYV1-p"
      }
    },
    {
      "cell_type": "markdown",
      "source": [
        "**1.\tCreate a variable named message and assign it the value of “Hello World”**"
      ],
      "metadata": {
        "id": "_tsf1LgeV6RA"
      }
    },
    {
      "cell_type": "code",
      "source": [
        "message = \"Hello World\""
      ],
      "metadata": {
        "id": "R5JwBDZ4V8ev"
      },
      "execution_count": null,
      "outputs": []
    },
    {
      "cell_type": "markdown",
      "source": [
        "**2.\tPrint the value of message**"
      ],
      "metadata": {
        "id": "ZwUxi_FTWCNH"
      }
    },
    {
      "cell_type": "code",
      "source": [
        "print(message)"
      ],
      "metadata": {
        "id": "59TOLyQ9WDxX",
        "colab": {
          "base_uri": "https://localhost:8080/"
        },
        "outputId": "e197dfa3-a787-412c-a81d-8ac084da1cd2"
      },
      "execution_count": null,
      "outputs": [
        {
          "output_type": "stream",
          "name": "stdout",
          "text": [
            "Hello World\n"
          ]
        }
      ]
    },
    {
      "cell_type": "markdown",
      "source": [
        "**3.\tPrint the value: len(message)**"
      ],
      "metadata": {
        "id": "Ok8HXwgYWG3X"
      }
    },
    {
      "cell_type": "code",
      "source": [
        "print (len(message))"
      ],
      "metadata": {
        "colab": {
          "base_uri": "https://localhost:8080/"
        },
        "id": "CICwLorsYzJZ",
        "outputId": "1cf5207b-41b9-4733-872a-2d2a2130ec54"
      },
      "execution_count": null,
      "outputs": [
        {
          "output_type": "stream",
          "name": "stdout",
          "text": [
            "11\n"
          ]
        }
      ]
    },
    {
      "cell_type": "markdown",
      "source": [
        "**4.\tApply the concept of index values in the List section and individually display the characters “H”, “E”, “L”, “L”, “O”\n",
        "using the print() function.**\n"
      ],
      "metadata": {
        "id": "Mo7rwhWSY8XW"
      }
    },
    {
      "cell_type": "code",
      "source": [
        "print (message[0])\n",
        "print (message[1])\n",
        "print (message[2])\n",
        "print (message[3])\n",
        "print (message[4])"
      ],
      "metadata": {
        "colab": {
          "base_uri": "https://localhost:8080/"
        },
        "id": "wlRjz5JzZE5_",
        "outputId": "0bb06934-4e74-4082-8167-9511859615ea"
      },
      "execution_count": null,
      "outputs": [
        {
          "output_type": "stream",
          "name": "stdout",
          "text": [
            "H\n",
            "e\n",
            "l\n",
            "l\n",
            "o\n"
          ]
        }
      ]
    },
    {
      "cell_type": "markdown",
      "source": [
        "**Note: Try using positive indexes, then after seeing the result. Repeat the step using negative indexes.**"
      ],
      "metadata": {
        "id": "Y6Ztsj5CZVQe"
      }
    },
    {
      "cell_type": "code",
      "source": [
        "print (message[-1])\n",
        "print (message[-2])\n",
        "print (message[-3])\n",
        "print (message[-4])\n",
        "print (message[-5])"
      ],
      "metadata": {
        "colab": {
          "base_uri": "https://localhost:8080/"
        },
        "id": "hp0ckNaEZbHK",
        "outputId": "14cfffcf-de83-4e8f-d2da-0332f82776c7"
      },
      "execution_count": null,
      "outputs": [
        {
          "output_type": "stream",
          "name": "stdout",
          "text": [
            "d\n",
            "l\n",
            "r\n",
            "o\n",
            "W\n"
          ]
        }
      ]
    },
    {
      "cell_type": "markdown",
      "source": [
        "**5.\tApply the concept of index values in the List section and display the string “Hold” using the Concatenate (+) operator\n",
        "on individual characters.**"
      ],
      "metadata": {
        "id": "6NStuZvlasLw"
      }
    },
    {
      "cell_type": "code",
      "source": [
        "message2 = \"Hold\"\n",
        "print(message2[0]+ message2[1]+ message2[2]+ message2[3])"
      ],
      "metadata": {
        "colab": {
          "base_uri": "https://localhost:8080/"
        },
        "id": "PreJHPWvaxf_",
        "outputId": "42d604de-79a4-44a6-edc4-ace34678f379"
      },
      "execution_count": null,
      "outputs": [
        {
          "output_type": "stream",
          "name": "stdout",
          "text": [
            "Hold\n"
          ]
        }
      ]
    },
    {
      "cell_type": "markdown",
      "source": [
        "**6.\tApply the concept of index slicing in the Index Slicing section and display the word “Hello” as a whole string.**"
      ],
      "metadata": {
        "id": "_hpEsmw6a_kH"
      }
    },
    {
      "cell_type": "code",
      "source": [
        "print(message[:5])"
      ],
      "metadata": {
        "colab": {
          "base_uri": "https://localhost:8080/"
        },
        "id": "_ib7xuZNbCAe",
        "outputId": "63090c93-2ec6-4421-e4c8-065e85c722fc"
      },
      "execution_count": null,
      "outputs": [
        {
          "output_type": "stream",
          "name": "stdout",
          "text": [
            "Hello\n"
          ]
        }
      ]
    },
    {
      "cell_type": "markdown",
      "source": [
        "**7.\tApply the concept of index slicing in the Index Slicing section and display the word “World” as a whole string.**"
      ],
      "metadata": {
        "id": "MmBto8Ihbcpv"
      }
    },
    {
      "cell_type": "code",
      "source": [
        "message3 = \"World\"\n",
        "print(message3[0]+ message3[1]+ message3[2]+ message3[3]+ message3[4])"
      ],
      "metadata": {
        "colab": {
          "base_uri": "https://localhost:8080/"
        },
        "id": "4iAwRLj-cBjH",
        "outputId": "d1b311dd-28a7-4fe8-dea3-da5ef7eab71c"
      },
      "execution_count": null,
      "outputs": [
        {
          "output_type": "stream",
          "name": "stdout",
          "text": [
            "World\n"
          ]
        }
      ]
    },
    {
      "cell_type": "markdown",
      "source": [
        "# **String Methods**"
      ],
      "metadata": {
        "id": "tWDgM_MNcTCf"
      }
    },
    {
      "cell_type": "markdown",
      "source": [
        "**Observe the result per each String method.**\n",
        "\n",
        "**1.\tType the command and print the value\tmessage.upper() Ex. print(message.upper())**\n"
      ],
      "metadata": {
        "id": "v3vE8vCicX2X"
      }
    },
    {
      "cell_type": "code",
      "source": [
        "print(message.upper())"
      ],
      "metadata": {
        "colab": {
          "base_uri": "https://localhost:8080/"
        },
        "id": "G1iWKxmFcfAe",
        "outputId": "6ac16447-cdeb-400f-8288-9b7baed205fc"
      },
      "execution_count": null,
      "outputs": [
        {
          "output_type": "stream",
          "name": "stdout",
          "text": [
            "HELLO WORLD\n"
          ]
        }
      ]
    },
    {
      "cell_type": "markdown",
      "source": [
        "**2.\tType the command and print the value\tmessage.lower()**"
      ],
      "metadata": {
        "id": "bvxXA3MkcmLm"
      }
    },
    {
      "cell_type": "code",
      "source": [
        "print(message.lower())"
      ],
      "metadata": {
        "colab": {
          "base_uri": "https://localhost:8080/"
        },
        "id": "5M-5STLHcoHW",
        "outputId": "9657e1e4-3f56-447c-9ff1-bfe98f6c60ff"
      },
      "execution_count": null,
      "outputs": [
        {
          "output_type": "stream",
          "name": "stdout",
          "text": [
            "hello world\n"
          ]
        }
      ]
    },
    {
      "cell_type": "markdown",
      "source": [
        "**3.\tType the command and print the value\tmessage.title()**"
      ],
      "metadata": {
        "id": "XoBtrQaxcr43"
      }
    },
    {
      "cell_type": "code",
      "source": [
        "print(message.title())"
      ],
      "metadata": {
        "colab": {
          "base_uri": "https://localhost:8080/"
        },
        "id": "N4qMZSdKcuCb",
        "outputId": "87d211f4-26a0-4da2-a363-60b7b6133a87"
      },
      "execution_count": null,
      "outputs": [
        {
          "output_type": "stream",
          "name": "stdout",
          "text": [
            "Hello World\n"
          ]
        }
      ]
    },
    {
      "cell_type": "markdown",
      "source": [
        "**4.\tPrint the value “Value 1 is {}, and value 2 is {}”.format(-1,True)**"
      ],
      "metadata": {
        "id": "Bm_WT6G0cwx3"
      }
    },
    {
      "cell_type": "code",
      "source": [
        "print(\"Value 1 is {}, and value 2 is {}\".format(-1,True))"
      ],
      "metadata": {
        "colab": {
          "base_uri": "https://localhost:8080/"
        },
        "id": "q90jTcUnczMW",
        "outputId": "74d9245b-cdf4-491b-876f-6e55e9c65edc"
      },
      "execution_count": null,
      "outputs": [
        {
          "output_type": "stream",
          "name": "stdout",
          "text": [
            "Value 1 is -1, and value 2 is True\n"
          ]
        }
      ]
    },
    {
      "cell_type": "markdown",
      "source": [
        "**5.\tPrint the value message.split(' ')**"
      ],
      "metadata": {
        "id": "fLvq6sl_dHJv"
      }
    },
    {
      "cell_type": "code",
      "source": [
        "print(message.split(' '))"
      ],
      "metadata": {
        "colab": {
          "base_uri": "https://localhost:8080/"
        },
        "id": "tEI2pk6idKGH",
        "outputId": "fb0b64f3-3b9a-4dc1-fa82-310b2d1ac252"
      },
      "execution_count": null,
      "outputs": [
        {
          "output_type": "stream",
          "name": "stdout",
          "text": [
            "['Hello', 'World']\n"
          ]
        }
      ]
    },
    {
      "cell_type": "markdown",
      "source": [
        "**6.\tPrint the value message.count(‘l’)**"
      ],
      "metadata": {
        "id": "ltrzJt68daw-"
      }
    },
    {
      "cell_type": "code",
      "source": [
        "print(message.count('l'))"
      ],
      "metadata": {
        "colab": {
          "base_uri": "https://localhost:8080/"
        },
        "id": "_4V9XGRQdeZf",
        "outputId": "a431902d-0dfd-4e80-8a84-d7d7cdba49f5"
      },
      "execution_count": null,
      "outputs": [
        {
          "output_type": "stream",
          "name": "stdout",
          "text": [
            "3\n"
          ]
        }
      ]
    },
    {
      "cell_type": "markdown",
      "source": [
        "**7.\tPrint the value message.replace(‘World’,‘CPE009’)**"
      ],
      "metadata": {
        "id": "3TfyhrnJeYYv"
      }
    },
    {
      "cell_type": "code",
      "source": [
        "print(message.replace('World','CPE009'))"
      ],
      "metadata": {
        "colab": {
          "base_uri": "https://localhost:8080/"
        },
        "id": "aquEWvCNeoo_",
        "outputId": "8ad56fa1-0dfa-4fd2-8d60-7fc7b2fe1337"
      },
      "execution_count": null,
      "outputs": [
        {
          "output_type": "stream",
          "name": "stdout",
          "text": [
            "Hello CPE009\n"
          ]
        }
      ]
    },
    {
      "cell_type": "markdown",
      "source": [
        "**8.\tAssign the value message.replace(‘World’,‘CPE009’) to message**"
      ],
      "metadata": {
        "id": "1OtPSUeaex7X"
      }
    },
    {
      "cell_type": "code",
      "source": [
        "message = message.replace('World','CPE009')"
      ],
      "metadata": {
        "id": "klDY6FeYe01w"
      },
      "execution_count": null,
      "outputs": []
    },
    {
      "cell_type": "markdown",
      "source": [
        "**9.\tType the command: help(“”)**\n",
        "\n",
        "Find the commands used in previous tasks."
      ],
      "metadata": {
        "id": "rM-AumETfBAo"
      }
    },
    {
      "cell_type": "code",
      "source": [
        "help(\"\")"
      ],
      "metadata": {
        "colab": {
          "base_uri": "https://localhost:8080/"
        },
        "id": "aKH6bmAefEUO",
        "outputId": "17199e07-bc65-47cc-a665-5742270b554b"
      },
      "execution_count": null,
      "outputs": [
        {
          "output_type": "stream",
          "name": "stdout",
          "text": [
            "Help on class str in module builtins:\n",
            "\n",
            "class str(object)\n",
            " |  str(object='') -> str\n",
            " |  str(bytes_or_buffer[, encoding[, errors]]) -> str\n",
            " |  \n",
            " |  Create a new string object from the given object. If encoding or\n",
            " |  errors is specified, then the object must expose a data buffer\n",
            " |  that will be decoded using the given encoding and error handler.\n",
            " |  Otherwise, returns the result of object.__str__() (if defined)\n",
            " |  or repr(object).\n",
            " |  encoding defaults to sys.getdefaultencoding().\n",
            " |  errors defaults to 'strict'.\n",
            " |  \n",
            " |  Methods defined here:\n",
            " |  \n",
            " |  __add__(self, value, /)\n",
            " |      Return self+value.\n",
            " |  \n",
            " |  __contains__(self, key, /)\n",
            " |      Return key in self.\n",
            " |  \n",
            " |  __eq__(self, value, /)\n",
            " |      Return self==value.\n",
            " |  \n",
            " |  __format__(self, format_spec, /)\n",
            " |      Return a formatted version of the string as described by format_spec.\n",
            " |  \n",
            " |  __ge__(self, value, /)\n",
            " |      Return self>=value.\n",
            " |  \n",
            " |  __getattribute__(self, name, /)\n",
            " |      Return getattr(self, name).\n",
            " |  \n",
            " |  __getitem__(self, key, /)\n",
            " |      Return self[key].\n",
            " |  \n",
            " |  __getnewargs__(...)\n",
            " |  \n",
            " |  __gt__(self, value, /)\n",
            " |      Return self>value.\n",
            " |  \n",
            " |  __hash__(self, /)\n",
            " |      Return hash(self).\n",
            " |  \n",
            " |  __iter__(self, /)\n",
            " |      Implement iter(self).\n",
            " |  \n",
            " |  __le__(self, value, /)\n",
            " |      Return self<=value.\n",
            " |  \n",
            " |  __len__(self, /)\n",
            " |      Return len(self).\n",
            " |  \n",
            " |  __lt__(self, value, /)\n",
            " |      Return self<value.\n",
            " |  \n",
            " |  __mod__(self, value, /)\n",
            " |      Return self%value.\n",
            " |  \n",
            " |  __mul__(self, value, /)\n",
            " |      Return self*value.\n",
            " |  \n",
            " |  __ne__(self, value, /)\n",
            " |      Return self!=value.\n",
            " |  \n",
            " |  __repr__(self, /)\n",
            " |      Return repr(self).\n",
            " |  \n",
            " |  __rmod__(self, value, /)\n",
            " |      Return value%self.\n",
            " |  \n",
            " |  __rmul__(self, value, /)\n",
            " |      Return value*self.\n",
            " |  \n",
            " |  __sizeof__(self, /)\n",
            " |      Return the size of the string in memory, in bytes.\n",
            " |  \n",
            " |  __str__(self, /)\n",
            " |      Return str(self).\n",
            " |  \n",
            " |  capitalize(self, /)\n",
            " |      Return a capitalized version of the string.\n",
            " |      \n",
            " |      More specifically, make the first character have upper case and the rest lower\n",
            " |      case.\n",
            " |  \n",
            " |  casefold(self, /)\n",
            " |      Return a version of the string suitable for caseless comparisons.\n",
            " |  \n",
            " |  center(self, width, fillchar=' ', /)\n",
            " |      Return a centered string of length width.\n",
            " |      \n",
            " |      Padding is done using the specified fill character (default is a space).\n",
            " |  \n",
            " |  count(...)\n",
            " |      S.count(sub[, start[, end]]) -> int\n",
            " |      \n",
            " |      Return the number of non-overlapping occurrences of substring sub in\n",
            " |      string S[start:end].  Optional arguments start and end are\n",
            " |      interpreted as in slice notation.\n",
            " |  \n",
            " |  encode(self, /, encoding='utf-8', errors='strict')\n",
            " |      Encode the string using the codec registered for encoding.\n",
            " |      \n",
            " |      encoding\n",
            " |        The encoding in which to encode the string.\n",
            " |      errors\n",
            " |        The error handling scheme to use for encoding errors.\n",
            " |        The default is 'strict' meaning that encoding errors raise a\n",
            " |        UnicodeEncodeError.  Other possible values are 'ignore', 'replace' and\n",
            " |        'xmlcharrefreplace' as well as any other name registered with\n",
            " |        codecs.register_error that can handle UnicodeEncodeErrors.\n",
            " |  \n",
            " |  endswith(...)\n",
            " |      S.endswith(suffix[, start[, end]]) -> bool\n",
            " |      \n",
            " |      Return True if S ends with the specified suffix, False otherwise.\n",
            " |      With optional start, test S beginning at that position.\n",
            " |      With optional end, stop comparing S at that position.\n",
            " |      suffix can also be a tuple of strings to try.\n",
            " |  \n",
            " |  expandtabs(self, /, tabsize=8)\n",
            " |      Return a copy where all tab characters are expanded using spaces.\n",
            " |      \n",
            " |      If tabsize is not given, a tab size of 8 characters is assumed.\n",
            " |  \n",
            " |  find(...)\n",
            " |      S.find(sub[, start[, end]]) -> int\n",
            " |      \n",
            " |      Return the lowest index in S where substring sub is found,\n",
            " |      such that sub is contained within S[start:end].  Optional\n",
            " |      arguments start and end are interpreted as in slice notation.\n",
            " |      \n",
            " |      Return -1 on failure.\n",
            " |  \n",
            " |  format(...)\n",
            " |      S.format(*args, **kwargs) -> str\n",
            " |      \n",
            " |      Return a formatted version of S, using substitutions from args and kwargs.\n",
            " |      The substitutions are identified by braces ('{' and '}').\n",
            " |  \n",
            " |  format_map(...)\n",
            " |      S.format_map(mapping) -> str\n",
            " |      \n",
            " |      Return a formatted version of S, using substitutions from mapping.\n",
            " |      The substitutions are identified by braces ('{' and '}').\n",
            " |  \n",
            " |  index(...)\n",
            " |      S.index(sub[, start[, end]]) -> int\n",
            " |      \n",
            " |      Return the lowest index in S where substring sub is found,\n",
            " |      such that sub is contained within S[start:end].  Optional\n",
            " |      arguments start and end are interpreted as in slice notation.\n",
            " |      \n",
            " |      Raises ValueError when the substring is not found.\n",
            " |  \n",
            " |  isalnum(self, /)\n",
            " |      Return True if the string is an alpha-numeric string, False otherwise.\n",
            " |      \n",
            " |      A string is alpha-numeric if all characters in the string are alpha-numeric and\n",
            " |      there is at least one character in the string.\n",
            " |  \n",
            " |  isalpha(self, /)\n",
            " |      Return True if the string is an alphabetic string, False otherwise.\n",
            " |      \n",
            " |      A string is alphabetic if all characters in the string are alphabetic and there\n",
            " |      is at least one character in the string.\n",
            " |  \n",
            " |  isascii(self, /)\n",
            " |      Return True if all characters in the string are ASCII, False otherwise.\n",
            " |      \n",
            " |      ASCII characters have code points in the range U+0000-U+007F.\n",
            " |      Empty string is ASCII too.\n",
            " |  \n",
            " |  isdecimal(self, /)\n",
            " |      Return True if the string is a decimal string, False otherwise.\n",
            " |      \n",
            " |      A string is a decimal string if all characters in the string are decimal and\n",
            " |      there is at least one character in the string.\n",
            " |  \n",
            " |  isdigit(self, /)\n",
            " |      Return True if the string is a digit string, False otherwise.\n",
            " |      \n",
            " |      A string is a digit string if all characters in the string are digits and there\n",
            " |      is at least one character in the string.\n",
            " |  \n",
            " |  isidentifier(self, /)\n",
            " |      Return True if the string is a valid Python identifier, False otherwise.\n",
            " |      \n",
            " |      Call keyword.iskeyword(s) to test whether string s is a reserved identifier,\n",
            " |      such as \"def\" or \"class\".\n",
            " |  \n",
            " |  islower(self, /)\n",
            " |      Return True if the string is a lowercase string, False otherwise.\n",
            " |      \n",
            " |      A string is lowercase if all cased characters in the string are lowercase and\n",
            " |      there is at least one cased character in the string.\n",
            " |  \n",
            " |  isnumeric(self, /)\n",
            " |      Return True if the string is a numeric string, False otherwise.\n",
            " |      \n",
            " |      A string is numeric if all characters in the string are numeric and there is at\n",
            " |      least one character in the string.\n",
            " |  \n",
            " |  isprintable(self, /)\n",
            " |      Return True if the string is printable, False otherwise.\n",
            " |      \n",
            " |      A string is printable if all of its characters are considered printable in\n",
            " |      repr() or if it is empty.\n",
            " |  \n",
            " |  isspace(self, /)\n",
            " |      Return True if the string is a whitespace string, False otherwise.\n",
            " |      \n",
            " |      A string is whitespace if all characters in the string are whitespace and there\n",
            " |      is at least one character in the string.\n",
            " |  \n",
            " |  istitle(self, /)\n",
            " |      Return True if the string is a title-cased string, False otherwise.\n",
            " |      \n",
            " |      In a title-cased string, upper- and title-case characters may only\n",
            " |      follow uncased characters and lowercase characters only cased ones.\n",
            " |  \n",
            " |  isupper(self, /)\n",
            " |      Return True if the string is an uppercase string, False otherwise.\n",
            " |      \n",
            " |      A string is uppercase if all cased characters in the string are uppercase and\n",
            " |      there is at least one cased character in the string.\n",
            " |  \n",
            " |  join(self, iterable, /)\n",
            " |      Concatenate any number of strings.\n",
            " |      \n",
            " |      The string whose method is called is inserted in between each given string.\n",
            " |      The result is returned as a new string.\n",
            " |      \n",
            " |      Example: '.'.join(['ab', 'pq', 'rs']) -> 'ab.pq.rs'\n",
            " |  \n",
            " |  ljust(self, width, fillchar=' ', /)\n",
            " |      Return a left-justified string of length width.\n",
            " |      \n",
            " |      Padding is done using the specified fill character (default is a space).\n",
            " |  \n",
            " |  lower(self, /)\n",
            " |      Return a copy of the string converted to lowercase.\n",
            " |  \n",
            " |  lstrip(self, chars=None, /)\n",
            " |      Return a copy of the string with leading whitespace removed.\n",
            " |      \n",
            " |      If chars is given and not None, remove characters in chars instead.\n",
            " |  \n",
            " |  partition(self, sep, /)\n",
            " |      Partition the string into three parts using the given separator.\n",
            " |      \n",
            " |      This will search for the separator in the string.  If the separator is found,\n",
            " |      returns a 3-tuple containing the part before the separator, the separator\n",
            " |      itself, and the part after it.\n",
            " |      \n",
            " |      If the separator is not found, returns a 3-tuple containing the original string\n",
            " |      and two empty strings.\n",
            " |  \n",
            " |  removeprefix(self, prefix, /)\n",
            " |      Return a str with the given prefix string removed if present.\n",
            " |      \n",
            " |      If the string starts with the prefix string, return string[len(prefix):].\n",
            " |      Otherwise, return a copy of the original string.\n",
            " |  \n",
            " |  removesuffix(self, suffix, /)\n",
            " |      Return a str with the given suffix string removed if present.\n",
            " |      \n",
            " |      If the string ends with the suffix string and that suffix is not empty,\n",
            " |      return string[:-len(suffix)]. Otherwise, return a copy of the original\n",
            " |      string.\n",
            " |  \n",
            " |  replace(self, old, new, count=-1, /)\n",
            " |      Return a copy with all occurrences of substring old replaced by new.\n",
            " |      \n",
            " |        count\n",
            " |          Maximum number of occurrences to replace.\n",
            " |          -1 (the default value) means replace all occurrences.\n",
            " |      \n",
            " |      If the optional argument count is given, only the first count occurrences are\n",
            " |      replaced.\n",
            " |  \n",
            " |  rfind(...)\n",
            " |      S.rfind(sub[, start[, end]]) -> int\n",
            " |      \n",
            " |      Return the highest index in S where substring sub is found,\n",
            " |      such that sub is contained within S[start:end].  Optional\n",
            " |      arguments start and end are interpreted as in slice notation.\n",
            " |      \n",
            " |      Return -1 on failure.\n",
            " |  \n",
            " |  rindex(...)\n",
            " |      S.rindex(sub[, start[, end]]) -> int\n",
            " |      \n",
            " |      Return the highest index in S where substring sub is found,\n",
            " |      such that sub is contained within S[start:end].  Optional\n",
            " |      arguments start and end are interpreted as in slice notation.\n",
            " |      \n",
            " |      Raises ValueError when the substring is not found.\n",
            " |  \n",
            " |  rjust(self, width, fillchar=' ', /)\n",
            " |      Return a right-justified string of length width.\n",
            " |      \n",
            " |      Padding is done using the specified fill character (default is a space).\n",
            " |  \n",
            " |  rpartition(self, sep, /)\n",
            " |      Partition the string into three parts using the given separator.\n",
            " |      \n",
            " |      This will search for the separator in the string, starting at the end. If\n",
            " |      the separator is found, returns a 3-tuple containing the part before the\n",
            " |      separator, the separator itself, and the part after it.\n",
            " |      \n",
            " |      If the separator is not found, returns a 3-tuple containing two empty strings\n",
            " |      and the original string.\n",
            " |  \n",
            " |  rsplit(self, /, sep=None, maxsplit=-1)\n",
            " |      Return a list of the substrings in the string, using sep as the separator string.\n",
            " |      \n",
            " |        sep\n",
            " |          The separator used to split the string.\n",
            " |      \n",
            " |          When set to None (the default value), will split on any whitespace\n",
            " |          character (including \\n \\r \\t \\f and spaces) and will discard\n",
            " |          empty strings from the result.\n",
            " |        maxsplit\n",
            " |          Maximum number of splits.\n",
            " |          -1 (the default value) means no limit.\n",
            " |      \n",
            " |      Splitting starts at the end of the string and works to the front.\n",
            " |  \n",
            " |  rstrip(self, chars=None, /)\n",
            " |      Return a copy of the string with trailing whitespace removed.\n",
            " |      \n",
            " |      If chars is given and not None, remove characters in chars instead.\n",
            " |  \n",
            " |  split(self, /, sep=None, maxsplit=-1)\n",
            " |      Return a list of the substrings in the string, using sep as the separator string.\n",
            " |      \n",
            " |        sep\n",
            " |          The separator used to split the string.\n",
            " |      \n",
            " |          When set to None (the default value), will split on any whitespace\n",
            " |          character (including \\n \\r \\t \\f and spaces) and will discard\n",
            " |          empty strings from the result.\n",
            " |        maxsplit\n",
            " |          Maximum number of splits.\n",
            " |          -1 (the default value) means no limit.\n",
            " |      \n",
            " |      Splitting starts at the front of the string and works to the end.\n",
            " |      \n",
            " |      Note, str.split() is mainly useful for data that has been intentionally\n",
            " |      delimited.  With natural text that includes punctuation, consider using\n",
            " |      the regular expression module.\n",
            " |  \n",
            " |  splitlines(self, /, keepends=False)\n",
            " |      Return a list of the lines in the string, breaking at line boundaries.\n",
            " |      \n",
            " |      Line breaks are not included in the resulting list unless keepends is given and\n",
            " |      true.\n",
            " |  \n",
            " |  startswith(...)\n",
            " |      S.startswith(prefix[, start[, end]]) -> bool\n",
            " |      \n",
            " |      Return True if S starts with the specified prefix, False otherwise.\n",
            " |      With optional start, test S beginning at that position.\n",
            " |      With optional end, stop comparing S at that position.\n",
            " |      prefix can also be a tuple of strings to try.\n",
            " |  \n",
            " |  strip(self, chars=None, /)\n",
            " |      Return a copy of the string with leading and trailing whitespace removed.\n",
            " |      \n",
            " |      If chars is given and not None, remove characters in chars instead.\n",
            " |  \n",
            " |  swapcase(self, /)\n",
            " |      Convert uppercase characters to lowercase and lowercase characters to uppercase.\n",
            " |  \n",
            " |  title(self, /)\n",
            " |      Return a version of the string where each word is titlecased.\n",
            " |      \n",
            " |      More specifically, words start with uppercased characters and all remaining\n",
            " |      cased characters have lower case.\n",
            " |  \n",
            " |  translate(self, table, /)\n",
            " |      Replace each character in the string using the given translation table.\n",
            " |      \n",
            " |        table\n",
            " |          Translation table, which must be a mapping of Unicode ordinals to\n",
            " |          Unicode ordinals, strings, or None.\n",
            " |      \n",
            " |      The table must implement lookup/indexing via __getitem__, for instance a\n",
            " |      dictionary or list.  If this operation raises LookupError, the character is\n",
            " |      left untouched.  Characters mapped to None are deleted.\n",
            " |  \n",
            " |  upper(self, /)\n",
            " |      Return a copy of the string converted to uppercase.\n",
            " |  \n",
            " |  zfill(self, width, /)\n",
            " |      Pad a numeric string with zeros on the left, to fill a field of the given width.\n",
            " |      \n",
            " |      The string is never truncated.\n",
            " |  \n",
            " |  ----------------------------------------------------------------------\n",
            " |  Static methods defined here:\n",
            " |  \n",
            " |  __new__(*args, **kwargs)\n",
            " |      Create and return a new object.  See help(type) for accurate signature.\n",
            " |  \n",
            " |  maketrans(...)\n",
            " |      Return a translation table usable for str.translate().\n",
            " |      \n",
            " |      If there is only one argument, it must be a dictionary mapping Unicode\n",
            " |      ordinals (integers) or characters to Unicode ordinals, strings or None.\n",
            " |      Character keys will be then converted to ordinals.\n",
            " |      If there are two arguments, they must be strings of equal length, and\n",
            " |      in the resulting dictionary, each character in x will be mapped to the\n",
            " |      character at the same position in y. If there is a third argument, it\n",
            " |      must be a string, whose characters will be mapped to None in the result.\n",
            "\n"
          ]
        }
      ]
    },
    {
      "cell_type": "markdown",
      "source": [
        "# **The in operator for Strings**"
      ],
      "metadata": {
        "id": "-K0Zw0v1fgNf"
      }
    },
    {
      "cell_type": "markdown",
      "source": [
        "**1.\tType the code as shown: print(‘W’ in message)**"
      ],
      "metadata": {
        "id": "qQ_tgJZrfjeG"
      }
    },
    {
      "cell_type": "code",
      "source": [
        "print('W' in message)"
      ],
      "metadata": {
        "colab": {
          "base_uri": "https://localhost:8080/"
        },
        "id": "yLSEAt4Jff8_",
        "outputId": "9c3884e0-667f-4ccf-d6ae-4a37410a2a63"
      },
      "execution_count": null,
      "outputs": [
        {
          "output_type": "stream",
          "name": "stdout",
          "text": [
            "False\n"
          ]
        }
      ]
    },
    {
      "cell_type": "markdown",
      "source": [
        "**2.\tType the code as shown: print(‘old’ in message)**"
      ],
      "metadata": {
        "id": "ArY2hU6_f0Cv"
      }
    },
    {
      "cell_type": "code",
      "source": [
        "print('old' in message)"
      ],
      "metadata": {
        "colab": {
          "base_uri": "https://localhost:8080/"
        },
        "id": "hwOxOHt8fsgm",
        "outputId": "1906abd0-5216-4f33-b1eb-1f6f52ad2e0e"
      },
      "execution_count": null,
      "outputs": [
        {
          "output_type": "stream",
          "name": "stdout",
          "text": [
            "False\n"
          ]
        }
      ]
    },
    {
      "cell_type": "markdown",
      "source": [
        "**3.\tType the codes below:**\n",
        "\n",
        "word = input(“Enter a word: ”)\n",
        "\n",
        "if word in “The big brown fox jump over the lazy dog”:\n",
        "\n",
        "  print(“The word is in the text”)\n",
        "\n",
        "else:\n",
        "\n",
        "  print(“The word is not in the text”)\n"
      ],
      "metadata": {
        "id": "jIj8QfRCfp-X"
      }
    },
    {
      "cell_type": "code",
      "source": [
        "word = input(\"Enter a word: \")\n",
        "\n",
        "if word in \"The big brown fox jump over the lazy dog\":\n",
        "\n",
        "  print(\"The word is in the text\")\n",
        "\n",
        "else:\n",
        "\n",
        "  print(\"The word is not in the text\")"
      ],
      "metadata": {
        "colab": {
          "base_uri": "https://localhost:8080/"
        },
        "id": "bV8hI-hDgnOv",
        "outputId": "0fed7d15-c111-4475-eeb2-628d6fe35c91"
      },
      "execution_count": null,
      "outputs": [
        {
          "output_type": "stream",
          "name": "stdout",
          "text": [
            "Enter a word: big\n",
            "The word is in the text\n"
          ]
        }
      ]
    },
    {
      "cell_type": "markdown",
      "source": [
        "# **Using a String in an iterative statement**"
      ],
      "metadata": {
        "id": "HkQFzAVXhBsv"
      }
    },
    {
      "cell_type": "markdown",
      "source": [
        "**1.\tType the code as shown below: for character in message:\n",
        "print(character)**"
      ],
      "metadata": {
        "id": "l1M1PDLRhGwm"
      }
    },
    {
      "cell_type": "code",
      "source": [
        "for character in message:\n",
        "  print(character)"
      ],
      "metadata": {
        "colab": {
          "base_uri": "https://localhost:8080/"
        },
        "id": "bfYdTNMChGkn",
        "outputId": "432ac279-ea9b-4aa3-9749-156853a8f877"
      },
      "execution_count": null,
      "outputs": [
        {
          "output_type": "stream",
          "name": "stdout",
          "text": [
            "H\n",
            "e\n",
            "l\n",
            "l\n",
            "o\n",
            " \n",
            "C\n",
            "P\n",
            "E\n",
            "0\n",
            "0\n",
            "9\n"
          ]
        }
      ]
    },
    {
      "cell_type": "markdown",
      "source": [
        "**2.\tType the code as shown below:**\n",
        "\n",
        "i = 0\n",
        "\n",
        "while i<len(message):\n",
        "\n",
        "print(message[i])\n",
        "\n",
        "i+=1\n"
      ],
      "metadata": {
        "id": "uKzSgcUzhVq_"
      }
    },
    {
      "cell_type": "code",
      "source": [
        "i = 0\n",
        "\n",
        "while i<len(message):\n",
        "  print(message[i])\n",
        "  i+=1"
      ],
      "metadata": {
        "colab": {
          "base_uri": "https://localhost:8080/"
        },
        "id": "eKCCALfFhF_u",
        "outputId": "cc7cb7f3-15ac-4077-c8e6-7b1278407276"
      },
      "execution_count": null,
      "outputs": [
        {
          "output_type": "stream",
          "name": "stdout",
          "text": [
            "H\n",
            "e\n",
            "l\n",
            "l\n",
            "o\n",
            " \n",
            "C\n",
            "P\n",
            "E\n",
            "0\n",
            "0\n",
            "9\n"
          ]
        }
      ]
    },
    {
      "cell_type": "markdown",
      "source": [
        "# **Tuples**"
      ],
      "metadata": {
        "id": "RnjCUX4ZhpH-"
      }
    },
    {
      "cell_type": "markdown",
      "source": [
        "**1.\tCreate a variable named tuplelist and assign the value of (1,2,3,4,5)**"
      ],
      "metadata": {
        "id": "_EIAmmz9hr1H"
      }
    },
    {
      "cell_type": "code",
      "source": [
        "tuplelist = (1,2,3,4,5)"
      ],
      "metadata": {
        "id": "IImQ2zg7hvKf"
      },
      "execution_count": null,
      "outputs": []
    },
    {
      "cell_type": "markdown",
      "source": [
        "**2.\tPrint the following values:**\n",
        "\n",
        "a.\tnumberlist[0]\n",
        "\n",
        "b.\tnumberlist[1]\n",
        "\n",
        "c.\tnumberlist[2]\n",
        "\n",
        "d.\tnumberlist[3]\n",
        "\n",
        "e.\tnumberlist[4]\n",
        "\n",
        "f.\tnumberlist[5]\n"
      ],
      "metadata": {
        "id": "UdKlsV3fhudf"
      }
    },
    {
      "cell_type": "code",
      "source": [
        "#a\n",
        "print(numberlist[0])"
      ],
      "metadata": {
        "colab": {
          "base_uri": "https://localhost:8080/"
        },
        "id": "riVYW7t_h6u5",
        "outputId": "94fbed09-5e23-429b-df28-62ab93549bae"
      },
      "execution_count": null,
      "outputs": [
        {
          "output_type": "stream",
          "name": "stdout",
          "text": [
            "1\n"
          ]
        }
      ]
    },
    {
      "cell_type": "code",
      "source": [
        "#b\n",
        "print(numberlist[1])"
      ],
      "metadata": {
        "colab": {
          "base_uri": "https://localhost:8080/"
        },
        "id": "JoEqFHuWvy1C",
        "outputId": "5707def3-7ad9-4d9d-eef8-39ea5a52f4a7"
      },
      "execution_count": null,
      "outputs": [
        {
          "output_type": "stream",
          "name": "stdout",
          "text": [
            "2\n"
          ]
        }
      ]
    },
    {
      "cell_type": "code",
      "source": [
        "#c\n",
        "print(numberlist[2])"
      ],
      "metadata": {
        "colab": {
          "base_uri": "https://localhost:8080/"
        },
        "id": "ZoD0YoMxv_3a",
        "outputId": "7f2ab2cc-15d9-4c73-9184-75b878cc6b2c"
      },
      "execution_count": null,
      "outputs": [
        {
          "output_type": "stream",
          "name": "stdout",
          "text": [
            "3\n"
          ]
        }
      ]
    },
    {
      "cell_type": "code",
      "source": [
        "#d\n",
        "print(numberlist[3])"
      ],
      "metadata": {
        "colab": {
          "base_uri": "https://localhost:8080/"
        },
        "id": "yR3sf_gUwB8J",
        "outputId": "9692e497-8756-4c51-cd78-65d50061cf04"
      },
      "execution_count": null,
      "outputs": [
        {
          "output_type": "stream",
          "name": "stdout",
          "text": [
            "4\n"
          ]
        }
      ]
    },
    {
      "cell_type": "code",
      "source": [
        "#e\n",
        "print(numberlist[4])"
      ],
      "metadata": {
        "colab": {
          "base_uri": "https://localhost:8080/"
        },
        "id": "aOWDLIHKwFJZ",
        "outputId": "966eb9ae-5470-4f4e-bfff-05e34f788fb6"
      },
      "execution_count": null,
      "outputs": [
        {
          "output_type": "stream",
          "name": "stdout",
          "text": [
            "5\n"
          ]
        }
      ]
    },
    {
      "cell_type": "code",
      "source": [
        "#f\n",
        "print(numberlist[5])\n",
        "#since the list only contains 0-4 order, the code resulted in an error."
      ],
      "metadata": {
        "colab": {
          "base_uri": "https://localhost:8080/",
          "height": 176
        },
        "id": "JZxwrzsRwKTa",
        "outputId": "0271f657-6638-4313-8302-42a908e0a4f7"
      },
      "execution_count": null,
      "outputs": [
        {
          "output_type": "error",
          "ename": "IndexError",
          "evalue": "list index out of range",
          "traceback": [
            "\u001b[0;31m---------------------------------------------------------------------------\u001b[0m",
            "\u001b[0;31mIndexError\u001b[0m                                Traceback (most recent call last)",
            "\u001b[0;32m<ipython-input-106-fc178a082afb>\u001b[0m in \u001b[0;36m<cell line: 0>\u001b[0;34m()\u001b[0m\n\u001b[1;32m      1\u001b[0m \u001b[0;31m#f\u001b[0m\u001b[0;34m\u001b[0m\u001b[0;34m\u001b[0m\u001b[0m\n\u001b[0;32m----> 2\u001b[0;31m \u001b[0mprint\u001b[0m\u001b[0;34m(\u001b[0m\u001b[0mnumberlist\u001b[0m\u001b[0;34m[\u001b[0m\u001b[0;36m5\u001b[0m\u001b[0;34m]\u001b[0m\u001b[0;34m)\u001b[0m\u001b[0;34m\u001b[0m\u001b[0;34m\u001b[0m\u001b[0m\n\u001b[0m\u001b[1;32m      3\u001b[0m \u001b[0;31m#since the list only contains 0-4 order, the code resulted in an error.\u001b[0m\u001b[0;34m\u001b[0m\u001b[0;34m\u001b[0m\u001b[0m\n",
            "\u001b[0;31mIndexError\u001b[0m: list index out of range"
          ]
        }
      ]
    },
    {
      "cell_type": "markdown",
      "source": [
        "**3.\tPrint the output of tuplelist + (1,2,3)**"
      ],
      "metadata": {
        "id": "Sfig8EUbwxX4"
      }
    },
    {
      "cell_type": "code",
      "source": [
        "print(numberlist + list((1,2,3)))"
      ],
      "metadata": {
        "colab": {
          "base_uri": "https://localhost:8080/"
        },
        "id": "IXS23uOuw2j4",
        "outputId": "2d0cf865-fa9e-49c9-8aaa-4dc36f373a67"
      },
      "execution_count": null,
      "outputs": [
        {
          "output_type": "stream",
          "name": "stdout",
          "text": [
            "[15, 2, 3, 4, 5, 1, 2, 3]\n"
          ]
        }
      ]
    },
    {
      "cell_type": "markdown",
      "source": [
        "**4.\tAssign tuplelist[0] = 15**"
      ],
      "metadata": {
        "id": "j040c0Llw6j4"
      }
    },
    {
      "cell_type": "code",
      "source": [
        "numberlist[0] = 15"
      ],
      "metadata": {
        "id": "4jbHbi7mw8Yx"
      },
      "execution_count": null,
      "outputs": []
    },
    {
      "cell_type": "markdown",
      "source": [
        "5.\tObserve the output.\n",
        "\n",
        "\n",
        "When I tried to modify tuplelist, I got an error because tuples are immutable. This means once they’re created, you can’t change their values. It’s a good feature when you want to make sure the data can’t be accidentally modified.\n",
        "\n",
        "\n",
        "6.\tTry string slicing through the elements of tuplelist as in numberlist and message.\n"
      ],
      "metadata": {
        "id": "AJtsCiCd0ld7"
      }
    },
    {
      "cell_type": "code",
      "source": [
        "print (tuplelist[:5])"
      ],
      "metadata": {
        "colab": {
          "base_uri": "https://localhost:8080/"
        },
        "id": "0NK6Hz4-0tMh",
        "outputId": "bf7f6f11-d11a-4206-9e9c-45cf872a818b"
      },
      "execution_count": null,
      "outputs": [
        {
          "output_type": "stream",
          "name": "stdout",
          "text": [
            "(1, 2, 3, 4, 5)\n"
          ]
        }
      ]
    },
    {
      "cell_type": "markdown",
      "source": [
        "**7.\tCreate a for loop that would print the numbers inside the tuple.**"
      ],
      "metadata": {
        "id": "o_2Xlyxo0yLB"
      }
    },
    {
      "cell_type": "code",
      "source": [
        "for item in tuplelist:\n",
        "  print(item)"
      ],
      "metadata": {
        "colab": {
          "base_uri": "https://localhost:8080/"
        },
        "id": "7L3msmOs1ATI",
        "outputId": "d2aedeb5-368b-4953-c86d-8d1e96438bf3"
      },
      "execution_count": null,
      "outputs": [
        {
          "output_type": "stream",
          "name": "stdout",
          "text": [
            "1\n",
            "2\n",
            "3\n",
            "4\n",
            "5\n"
          ]
        }
      ]
    },
    {
      "cell_type": "markdown",
      "source": [
        "# **Dictionaries**"
      ],
      "metadata": {
        "id": "EYaa3w431PAw"
      }
    },
    {
      "cell_type": "markdown",
      "source": [
        "**1.\tCreate a dictionary named**\n",
        "contactinfo = {‘id’:1, ’first_name’:’John’, ’last_name’:’Doe’, ’contact_number’:’09060611233’}"
      ],
      "metadata": {
        "id": "8mbJe_EO1Rnx"
      }
    },
    {
      "cell_type": "code",
      "source": [
        "contactinfo = {'id':1, 'first_name':'John', 'last_name':'Doe', 'contact_number':'09060611233'}"
      ],
      "metadata": {
        "id": "ilmBLbEm1UTZ"
      },
      "execution_count": null,
      "outputs": []
    },
    {
      "cell_type": "markdown",
      "source": [
        "**2.\tPrint the following values:**\n",
        "\n",
        "\n",
        "a.\tcontactinfo[‘id’]\n",
        "\n",
        "b.\tcontactinfo[‘first_name’]\n",
        "\n",
        "c.\tcontactinfo[‘last_name’]\n",
        "\n",
        "d.\tcontactinfo[‘contact_number’]\n",
        "\n",
        "e.\tcontactinfo[‘age’]"
      ],
      "metadata": {
        "id": "2AtwQwfK1Uiw"
      }
    },
    {
      "cell_type": "code",
      "source": [
        "#a\n",
        "print(contactinfo['id'])"
      ],
      "metadata": {
        "colab": {
          "base_uri": "https://localhost:8080/"
        },
        "id": "-QrxK3Wj1baI",
        "outputId": "88ee81ce-10fb-4322-f4f4-48c085eaa820"
      },
      "execution_count": null,
      "outputs": [
        {
          "output_type": "stream",
          "name": "stdout",
          "text": [
            "1\n"
          ]
        }
      ]
    },
    {
      "cell_type": "code",
      "source": [
        "#b\n",
        "print(contactinfo['first_name'])"
      ],
      "metadata": {
        "colab": {
          "base_uri": "https://localhost:8080/"
        },
        "id": "RGumADjMGznD",
        "outputId": "dd336285-20b1-43cd-e2de-6c3a248bd9e6"
      },
      "execution_count": null,
      "outputs": [
        {
          "output_type": "stream",
          "name": "stdout",
          "text": [
            "John\n"
          ]
        }
      ]
    },
    {
      "cell_type": "code",
      "source": [
        "#c\n",
        "print(contactinfo['last_name'])"
      ],
      "metadata": {
        "colab": {
          "base_uri": "https://localhost:8080/"
        },
        "id": "p3V-AuO0G0Ww",
        "outputId": "a458a989-6886-4d9d-e72d-cbb6c3ad70c9"
      },
      "execution_count": null,
      "outputs": [
        {
          "output_type": "stream",
          "name": "stdout",
          "text": [
            "Doe\n"
          ]
        }
      ]
    },
    {
      "cell_type": "code",
      "source": [
        "#d\n",
        "print(contactinfo['contact_number'])"
      ],
      "metadata": {
        "colab": {
          "base_uri": "https://localhost:8080/"
        },
        "id": "PNPHwYevG2JY",
        "outputId": "c0f7c0ac-d460-4c1e-ad11-b6621f4ee546"
      },
      "execution_count": null,
      "outputs": [
        {
          "output_type": "stream",
          "name": "stdout",
          "text": [
            "09060611233\n"
          ]
        }
      ]
    },
    {
      "cell_type": "code",
      "source": [
        "#e\n",
        "print(contactinfo['age'])\n",
        "\n",
        "#age ain't defined in the contactinfo"
      ],
      "metadata": {
        "colab": {
          "base_uri": "https://localhost:8080/",
          "height": 158
        },
        "id": "hCc1rph9G4no",
        "outputId": "17d66289-af35-4522-a26c-a430f48b3602"
      },
      "execution_count": null,
      "outputs": [
        {
          "output_type": "error",
          "ename": "KeyError",
          "evalue": "'age'",
          "traceback": [
            "\u001b[0;31m---------------------------------------------------------------------------\u001b[0m",
            "\u001b[0;31mKeyError\u001b[0m                                  Traceback (most recent call last)",
            "\u001b[0;32m<ipython-input-124-8987a5957ae5>\u001b[0m in \u001b[0;36m<cell line: 0>\u001b[0;34m()\u001b[0m\n\u001b[1;32m      1\u001b[0m \u001b[0;31m#e\u001b[0m\u001b[0;34m\u001b[0m\u001b[0;34m\u001b[0m\u001b[0m\n\u001b[0;32m----> 2\u001b[0;31m \u001b[0mprint\u001b[0m\u001b[0;34m(\u001b[0m\u001b[0mcontactinfo\u001b[0m\u001b[0;34m[\u001b[0m\u001b[0;34m'age'\u001b[0m\u001b[0;34m]\u001b[0m\u001b[0;34m)\u001b[0m\u001b[0;34m\u001b[0m\u001b[0;34m\u001b[0m\u001b[0m\n\u001b[0m",
            "\u001b[0;31mKeyError\u001b[0m: 'age'"
          ]
        }
      ]
    },
    {
      "cell_type": "markdown",
      "source": [
        "**3.\tType the code:**\n",
        "\n",
        "for k,v in contactinfo: print(k)\n"
      ],
      "metadata": {
        "id": "2tWClW4y1pqp"
      }
    },
    {
      "cell_type": "code",
      "source": [
        "for k in contactinfo:\n",
        "  print(k)"
      ],
      "metadata": {
        "colab": {
          "base_uri": "https://localhost:8080/"
        },
        "id": "40sTAma81trB",
        "outputId": "28feddc9-ce88-419b-c366-78a3dfcb4693"
      },
      "execution_count": null,
      "outputs": [
        {
          "output_type": "stream",
          "name": "stdout",
          "text": [
            "id\n",
            "first_name\n",
            "last_name\n",
            "contact_number\n"
          ]
        }
      ]
    },
    {
      "cell_type": "code",
      "source": [
        "for V in contactinfo:\n",
        "  print(V)"
      ],
      "metadata": {
        "colab": {
          "base_uri": "https://localhost:8080/"
        },
        "id": "i1GdlLUEv2Jh",
        "outputId": "2f5919d7-8915-4392-b965-57ee7e68709d"
      },
      "execution_count": null,
      "outputs": [
        {
          "output_type": "stream",
          "name": "stdout",
          "text": [
            "id\n",
            "first_name\n",
            "last_name\n",
            "contact_number\n"
          ]
        }
      ]
    },
    {
      "cell_type": "markdown",
      "source": [
        "4.\tType the code:\n",
        "for k,v in contactinfo.items(): print(k,v)"
      ],
      "metadata": {
        "id": "bBGZk-0_ISNA"
      }
    },
    {
      "cell_type": "code",
      "source": [
        "for k, v in contactinfo.items():\n",
        "  print(k, v)"
      ],
      "metadata": {
        "colab": {
          "base_uri": "https://localhost:8080/"
        },
        "id": "6gyhN-llHxyq",
        "outputId": "16e782f8-f814-4175-fcdd-69514ebe5fd4"
      },
      "execution_count": null,
      "outputs": [
        {
          "output_type": "stream",
          "name": "stdout",
          "text": [
            "id 2\n",
            "first_name Max\n",
            "last_name Doe\n",
            "contact_number 09060611233\n"
          ]
        }
      ]
    },
    {
      "cell_type": "markdown",
      "source": [
        "**5.\tAssign the values:**\n",
        "\n",
        "a.\tcontactinfo[‘id’] = 2\n",
        "\n",
        "b.\tcontactinfo[‘first_name’] = ‘Max’\n"
      ],
      "metadata": {
        "id": "2JevhXMoIONg"
      }
    },
    {
      "cell_type": "code",
      "source": [
        "contactinfo['id'] = 2\n",
        "contactinfo['first_name'] = 'Max'"
      ],
      "metadata": {
        "id": "diMBCkNcJpz4"
      },
      "execution_count": null,
      "outputs": []
    },
    {
      "cell_type": "markdown",
      "source": [
        "6.\tPrint contactinfo"
      ],
      "metadata": {
        "id": "bJzZPmg1J38B"
      }
    },
    {
      "cell_type": "code",
      "source": [
        "print(contactinfo)"
      ],
      "metadata": {
        "colab": {
          "base_uri": "https://localhost:8080/"
        },
        "id": "Ame_KNZNJ6Gn",
        "outputId": "c05786c0-d45a-473d-f23d-c288c3480b66"
      },
      "execution_count": null,
      "outputs": [
        {
          "output_type": "stream",
          "name": "stdout",
          "text": [
            "{'id': 2, 'first_name': 'Max', 'last_name': 'Doe', 'contact_number': '09060611233'}\n"
          ]
        }
      ]
    },
    {
      "cell_type": "markdown",
      "source": [
        "SUPPLEMENTARY ACTIVITY\n",
        "\n",
        "TASK:\n",
        "\n",
        "Distance Formula\n",
        "\n",
        "1.\tMake a program that would calculate the distance between two points given a list of coordinates. Use the distance formula.\n",
        "coordinates_list = [(1,1), (2,3)]\n"
      ],
      "metadata": {
        "id": "NbwHhxm9J96I"
      }
    },
    {
      "cell_type": "code",
      "source": [
        "coordinates_list = [(1,1), (2,3)]\n",
        "\n",
        "x_1, y_1 = coordinates_list[0]\n",
        "x_2, y_2 = coordinates_list[1]\n",
        "\n",
        "distance = ((x_2 - x_1)**2 + (y_2 - y_1)**2)**0.5\n",
        "\n",
        "print(distance)"
      ],
      "metadata": {
        "colab": {
          "base_uri": "https://localhost:8080/"
        },
        "id": "jy8zwLtvKMuB",
        "outputId": "e7c0f739-d3b2-49e2-b8f3-ceb532f07380"
      },
      "execution_count": null,
      "outputs": [
        {
          "output_type": "stream",
          "name": "stdout",
          "text": [
            "2.23606797749979\n"
          ]
        }
      ]
    },
    {
      "cell_type": "markdown",
      "source": [
        "Simple Word Filter\n",
        "\n",
        "2.\tFor a given string input, replace all the words “stupid” with an asterisk * equal to the length of the string. The new string value should be displayed with the asterisks."
      ],
      "metadata": {
        "id": "PGCOEi6UKruZ"
      }
    },
    {
      "cell_type": "code",
      "source": [
        "sentence = input(\"Enter a sentence: \")\n",
        "\n",
        "bad_word = sentence.replace(\"stupid\", \"*\" * len(\"stupid\"))\n",
        "\n",
        "print(bad_word)"
      ],
      "metadata": {
        "colab": {
          "base_uri": "https://localhost:8080/"
        },
        "id": "Qoz1-vrOKu0Q",
        "outputId": "3cc1b7ff-efce-4652-c19f-6ee28dc67612"
      },
      "execution_count": null,
      "outputs": [
        {
          "output_type": "stream",
          "name": "stdout",
          "text": [
            "Enter a sentence: i am stupid\n",
            "i am ******\n"
          ]
        }
      ]
    },
    {
      "cell_type": "markdown",
      "source": [
        "\n",
        "Phonebook\n",
        "\n",
        "3.\tCreate a simple phonebook program that can read from a list of dictionaries. The program should be able to display a person’s name, contact, and address based from a user input which is the id of the record.\n"
      ],
      "metadata": {
        "id": "9n90JpagKvsU"
      }
    },
    {
      "cell_type": "code",
      "source": [
        "PhonebookList = [{\"id\": 1, \"Name\": \"Han Jue\", \"Contact\": \"09060611233\", \"Address\": \"Hidden sect\"},\n",
        "                 {\"id\": 2, \"Name\": \"Fang Liang\", \"Contact\": \"09060655555\", \"Address\": \"Heavenly court\"},\n",
        "                 {\"id\": 3, \"Name\": \"Han Ling\", \"Contact\": \"09060633333\", \"Address\": \"Purity divine world\"},\n",
        "                 {\"id\": 4, \"Name\": \"Xing Hongyuan\", \"Contact\": \"09060699999\", \"Address\": \"Jade pure sect\"}]\n",
        "\n",
        "id = int(input(\"Enter the id of the record: \"))\n",
        "\n",
        "if id > len(PhonebookList):\n",
        "    print(\"Invalid id\")\n",
        "else:\n",
        "    record = PhonebookList[id-1]\n",
        "    for key, value in record.items():\n",
        "        print(f\"{key}: {value}\")\n"
      ],
      "metadata": {
        "colab": {
          "base_uri": "https://localhost:8080/"
        },
        "id": "81RrrOufKw6p",
        "outputId": "ed0847ed-d1fa-47a0-925c-ec3cbebdad61"
      },
      "execution_count": null,
      "outputs": [
        {
          "output_type": "stream",
          "name": "stdout",
          "text": [
            "Enter the id of the record: 4\n",
            "id: 4\n",
            "Name: Xing Hongyuan\n",
            "Contact: 09060699999\n",
            "Address: Jade pure sect\n"
          ]
        }
      ]
    },
    {
      "cell_type": "markdown",
      "source": [
        "# **Questions**"
      ],
      "metadata": {
        "id": "RZa8ubdEbFh5"
      }
    },
    {
      "cell_type": "markdown",
      "source": [
        "**1.\tHow do we display elements of lists, tuples, and strings?**\n",
        "\n",
        "- We can display the elements by using their index or by looping through them one by one.\n",
        "\n",
        "\n",
        "\n",
        "**2. What is the difference between a list, tuple, string and dictionary? Give possible use case for each.**\n",
        "\n",
        "- A list can be changed and is used when we need to store things that might change, like a to-do list. A tuple can’t be changed and is used when we need a fixed set of items, like coordinates. A string is used to store text, like a name or message. A dictionary stores data in key-value pairs, like storing contact information with names as keys.\n",
        "\n",
        "\n",
        "\n",
        "**3. Discuss the various string methods that were used in the activity. What does each of the methods do?**\n",
        "\n",
        "- The activity used several string methods: upper() converts the string to uppercase, lower() makes it lowercase, and title() capitalizes the first letter of each word. The split() method breaks the string into words, count() counts occurrences of a substring, and replace() replaces one substring with another. These methods simplify text manipulation.\n"
      ],
      "metadata": {
        "id": "7s6-_Q2fbXqo"
      }
    },
    {
      "cell_type": "markdown",
      "source": [
        "# **CONCLUSION:**\n",
        "\n",
        "In this task, we learned how to work with lists, tuples, and dictionaries in Python. Lists are flexible and can be changed, while tuples are fixed once created. We used index slicing to easily select and manipulate parts of lists. We also explored string methods to modify and access parts of text. The in operator helped us check for elements in both lists and strings. These concepts will help you manage and work with data more efficiently in Python. By understanding these data types and techniques, you can store, access, and manipulate data in various ways depending on your needs. Index slicing makes it simple to extract or modify parts of lists, while string methods help you manipulate text easily. The in operator allows you to quickly check if an element exists in a collection. Overall, mastering these tools will make your code cleaner, more flexible, and easier to work with."
      ],
      "metadata": {
        "id": "jdE_49qbw_mn"
      }
    }
  ]
}