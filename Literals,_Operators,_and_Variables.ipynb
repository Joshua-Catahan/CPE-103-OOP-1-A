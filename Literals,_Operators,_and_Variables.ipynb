{
  "nbformat": 4,
  "nbformat_minor": 0,
  "metadata": {
    "colab": {
      "provenance": [],
      "authorship_tag": "ABX9TyN4e+YNMROA0yTWsudLSbY2",
      "include_colab_link": true
    },
    "kernelspec": {
      "name": "python3",
      "display_name": "Python 3"
    },
    "language_info": {
      "name": "python"
    }
  },
  "cells": [
    {
      "cell_type": "markdown",
      "metadata": {
        "id": "view-in-github",
        "colab_type": "text"
      },
      "source": [
        "<a href=\"https://colab.research.google.com/github/Joshua-Catahan/CPE-103-OOP-1-A/blob/main/Literals%2C_Operators%2C_and_Variables.ipynb\" target=\"_parent\"><img src=\"https://colab.research.google.com/assets/colab-badge.svg\" alt=\"Open In Colab\"/></a>"
      ]
    },
    {
      "cell_type": "markdown",
      "source": [
        "Assigning variables of different data types in Python"
      ],
      "metadata": {
        "id": "kKs3MoLtmbYE"
      }
    },
    {
      "cell_type": "code",
      "source": [
        "value = 5\n",
        "print(value)\n",
        "type(value)"
      ],
      "metadata": {
        "colab": {
          "base_uri": "https://localhost:8080/"
        },
        "id": "mBV2QLSfmqEZ",
        "outputId": "93c695d2-7ca8-4599-a830-dd7d282fac09"
      },
      "execution_count": null,
      "outputs": [
        {
          "output_type": "stream",
          "name": "stdout",
          "text": [
            "5\n"
          ]
        },
        {
          "output_type": "execute_result",
          "data": {
            "text/plain": [
              "int"
            ]
          },
          "metadata": {},
          "execution_count": 8
        }
      ]
    },
    {
      "cell_type": "code",
      "source": [
        "value = 5.0\n",
        "print(value)\n",
        "type(value)"
      ],
      "metadata": {
        "colab": {
          "base_uri": "https://localhost:8080/"
        },
        "id": "x6WzWMJgnguZ",
        "outputId": "079b79fe-6fe3-4f2f-c117-ad6af15179cd"
      },
      "execution_count": null,
      "outputs": [
        {
          "output_type": "stream",
          "name": "stdout",
          "text": [
            "5.0\n"
          ]
        },
        {
          "output_type": "execute_result",
          "data": {
            "text/plain": [
              "float"
            ]
          },
          "metadata": {},
          "execution_count": 9
        }
      ]
    },
    {
      "cell_type": "code",
      "source": [
        "value = 2+3j\n",
        "print(value)\n",
        "type(value)"
      ],
      "metadata": {
        "colab": {
          "base_uri": "https://localhost:8080/"
        },
        "id": "bLlgVLsmn215",
        "outputId": "0f5e97e7-a920-4b1f-f2a0-785cc0d07b80"
      },
      "execution_count": null,
      "outputs": [
        {
          "output_type": "stream",
          "name": "stdout",
          "text": [
            "(2+3j)\n"
          ]
        },
        {
          "output_type": "execute_result",
          "data": {
            "text/plain": [
              "complex"
            ]
          },
          "metadata": {},
          "execution_count": 10
        }
      ]
    },
    {
      "cell_type": "code",
      "source": [
        "value = 'Hello World'\n",
        "print(value)\n",
        "type(value)"
      ],
      "metadata": {
        "colab": {
          "base_uri": "https://localhost:8080/"
        },
        "id": "Rxn2eRGxoMpp",
        "outputId": "1acd064c-cf5e-4004-d925-e44f9b23d227"
      },
      "execution_count": null,
      "outputs": [
        {
          "output_type": "stream",
          "name": "stdout",
          "text": [
            "Hello World\n"
          ]
        },
        {
          "output_type": "execute_result",
          "data": {
            "text/plain": [
              "str"
            ]
          },
          "metadata": {},
          "execution_count": 13
        }
      ]
    },
    {
      "cell_type": "code",
      "source": [
        "value = \"Hello World\"\n",
        "print(value)\n",
        "type(value)"
      ],
      "metadata": {
        "colab": {
          "base_uri": "https://localhost:8080/"
        },
        "id": "Oehou6pFocKp",
        "outputId": "2ec64758-e841-4823-a29d-9e349b7fb699"
      },
      "execution_count": null,
      "outputs": [
        {
          "output_type": "stream",
          "name": "stdout",
          "text": [
            "Hello World\n"
          ]
        },
        {
          "output_type": "execute_result",
          "data": {
            "text/plain": [
              "str"
            ]
          },
          "metadata": {},
          "execution_count": 15
        }
      ]
    },
    {
      "cell_type": "code",
      "source": [
        "value = True\n",
        "print(value)\n",
        "type(value)"
      ],
      "metadata": {
        "colab": {
          "base_uri": "https://localhost:8080/"
        },
        "id": "i1T03YN2ok0w",
        "outputId": "b219b99a-1317-4bd6-c216-dac20beddd80"
      },
      "execution_count": null,
      "outputs": [
        {
          "output_type": "stream",
          "name": "stdout",
          "text": [
            "True\n"
          ]
        },
        {
          "output_type": "execute_result",
          "data": {
            "text/plain": [
              "bool"
            ]
          },
          "metadata": {},
          "execution_count": 17
        }
      ]
    },
    {
      "cell_type": "code",
      "source": [
        "value = False\n",
        "print(value)\n",
        "type(value)"
      ],
      "metadata": {
        "colab": {
          "base_uri": "https://localhost:8080/"
        },
        "id": "OVHayAzpo2F4",
        "outputId": "1a9bbaec-cb0e-40b7-9c6e-0ead53408c5e"
      },
      "execution_count": null,
      "outputs": [
        {
          "output_type": "stream",
          "name": "stdout",
          "text": [
            "False\n"
          ]
        },
        {
          "output_type": "execute_result",
          "data": {
            "text/plain": [
              "bool"
            ]
          },
          "metadata": {},
          "execution_count": 18
        }
      ]
    },
    {
      "cell_type": "code",
      "source": [
        "value = [1,2,3,4,5]\n",
        "print(value)\n",
        "type(value)"
      ],
      "metadata": {
        "colab": {
          "base_uri": "https://localhost:8080/"
        },
        "id": "lAS5z7V5o5zA",
        "outputId": "ffed7516-c2f4-4428-d2e2-35c30f985010"
      },
      "execution_count": null,
      "outputs": [
        {
          "output_type": "stream",
          "name": "stdout",
          "text": [
            "[1, 2, 3, 4, 5]\n"
          ]
        },
        {
          "output_type": "execute_result",
          "data": {
            "text/plain": [
              "list"
            ]
          },
          "metadata": {},
          "execution_count": 19
        }
      ]
    },
    {
      "cell_type": "code",
      "source": [
        "value = (1,2,3,4,5)\n",
        "print(value)\n",
        "type(value)"
      ],
      "metadata": {
        "colab": {
          "base_uri": "https://localhost:8080/"
        },
        "id": "11yEy5CJo-fw",
        "outputId": "7e4b8111-7290-4f10-c300-8843bba3ad9d"
      },
      "execution_count": null,
      "outputs": [
        {
          "output_type": "stream",
          "name": "stdout",
          "text": [
            "(1, 2, 3, 4, 5)\n"
          ]
        },
        {
          "output_type": "execute_result",
          "data": {
            "text/plain": [
              "tuple"
            ]
          },
          "metadata": {},
          "execution_count": 20
        }
      ]
    },
    {
      "cell_type": "code",
      "source": [
        "value = { 'name': 'Joshua Catahan' }\n",
        "print(value)\n",
        "type(value)"
      ],
      "metadata": {
        "colab": {
          "base_uri": "https://localhost:8080/"
        },
        "id": "6zFKiaGmpDv4",
        "outputId": "b2acda96-8d8e-4bfc-e104-f093f3d59a81"
      },
      "execution_count": null,
      "outputs": [
        {
          "output_type": "stream",
          "name": "stdout",
          "text": [
            "{'name': 'Joshua Catahan'}\n"
          ]
        },
        {
          "output_type": "execute_result",
          "data": {
            "text/plain": [
              "dict"
            ]
          },
          "metadata": {},
          "execution_count": 25
        }
      ]
    },
    {
      "cell_type": "code",
      "source": [
        "value = None\n",
        "print(value)\n",
        "type(value)"
      ],
      "metadata": {
        "colab": {
          "base_uri": "https://localhost:8080/"
        },
        "id": "YmjToJ49pM1p",
        "outputId": "13b2820d-74f5-4724-fd4e-1a7294e42a02"
      },
      "execution_count": null,
      "outputs": [
        {
          "output_type": "stream",
          "name": "stdout",
          "text": [
            "None\n"
          ]
        },
        {
          "output_type": "execute_result",
          "data": {
            "text/plain": [
              "NoneType"
            ]
          },
          "metadata": {},
          "execution_count": 24
        }
      ]
    },
    {
      "cell_type": "code",
      "source": [
        "value = 5\n",
        "value2 = -6\n",
        "print(value + value2)"
      ],
      "metadata": {
        "colab": {
          "base_uri": "https://localhost:8080/"
        },
        "id": "sAgVFrGzpvYh",
        "outputId": "193c925f-7bad-4758-9159-ffb8bec1e2a7"
      },
      "execution_count": null,
      "outputs": [
        {
          "output_type": "stream",
          "name": "stdout",
          "text": [
            "-1\n"
          ]
        }
      ]
    },
    {
      "cell_type": "markdown",
      "source": [
        "Performing Operations with Python\n",
        "#2"
      ],
      "metadata": {
        "id": "qRw2qlCIrmiU"
      }
    },
    {
      "cell_type": "code",
      "source": [
        "#A\n",
        "value, value2 = 5.0, 6\n",
        "print(value + value2)"
      ],
      "metadata": {
        "colab": {
          "base_uri": "https://localhost:8080/"
        },
        "id": "snFgPfUkp-Cy",
        "outputId": "b1fc26a8-1c2c-44d2-f74e-372fac577b13"
      },
      "execution_count": null,
      "outputs": [
        {
          "output_type": "stream",
          "name": "stdout",
          "text": [
            "11.0\n"
          ]
        }
      ]
    },
    {
      "cell_type": "code",
      "source": [
        "#B\n",
        "value, value2 = -5, 6.1\n",
        "print(value + value2)"
      ],
      "metadata": {
        "colab": {
          "base_uri": "https://localhost:8080/"
        },
        "id": "ht5Z-sQ_qIyC",
        "outputId": "6d5140b7-1704-495a-9ed7-1ba96fab73e7"
      },
      "execution_count": null,
      "outputs": [
        {
          "output_type": "stream",
          "name": "stdout",
          "text": [
            "1.0999999999999996\n"
          ]
        }
      ]
    },
    {
      "cell_type": "code",
      "source": [
        "#C\n",
        "value, value2 = \"Hello\", ' world'\n",
        "print(value + value2)"
      ],
      "metadata": {
        "colab": {
          "base_uri": "https://localhost:8080/"
        },
        "id": "bG0VZNmkqwRB",
        "outputId": "adc4774c-f5a4-4262-b7db-0c7dcf08809e"
      },
      "execution_count": null,
      "outputs": [
        {
          "output_type": "stream",
          "name": "stdout",
          "text": [
            "Hello world\n"
          ]
        }
      ]
    },
    {
      "cell_type": "code",
      "source": [
        "#D\n",
        "value, value2 = [1,2,3], [4,5,6]\n",
        "print(value + value2)"
      ],
      "metadata": {
        "colab": {
          "base_uri": "https://localhost:8080/"
        },
        "id": "xEzDq76UrATx",
        "outputId": "0d060575-7f30-4e95-96ef-ac7fe8b30049"
      },
      "execution_count": null,
      "outputs": [
        {
          "output_type": "stream",
          "name": "stdout",
          "text": [
            "[1, 2, 3, 4, 5, 6]\n"
          ]
        }
      ]
    },
    {
      "cell_type": "code",
      "source": [
        "#E\n",
        "value, value2 = (1,2,3), (4,5,6)\n",
        "print(value + value2)"
      ],
      "metadata": {
        "colab": {
          "base_uri": "https://localhost:8080/"
        },
        "id": "sam5VR34rF1g",
        "outputId": "9a285c2c-0117-479d-8ddf-36ea2501211b"
      },
      "execution_count": null,
      "outputs": [
        {
          "output_type": "stream",
          "name": "stdout",
          "text": [
            "(1, 2, 3, 4, 5, 6)\n"
          ]
        }
      ]
    },
    {
      "cell_type": "code",
      "source": [
        "#F\n",
        "value = {\"name\":\"Royce\"}\n",
        "value2 = {\"age\": 2 }\n",
        "addition = {**value, **value2}\n",
        "print(addition)"
      ],
      "metadata": {
        "colab": {
          "base_uri": "https://localhost:8080/"
        },
        "id": "qSdUSs2yqXEh",
        "outputId": "e4d6c58a-1fda-43fb-baae-e0529425ccd1"
      },
      "execution_count": null,
      "outputs": [
        {
          "output_type": "stream",
          "name": "stdout",
          "text": [
            "{'name': 'Royce', 'age': 2}\n"
          ]
        }
      ]
    },
    {
      "cell_type": "markdown",
      "source": [
        "#3"
      ],
      "metadata": {
        "id": "YzqA7e34rp7Y"
      }
    },
    {
      "cell_type": "code",
      "source": [
        "#A\n",
        "value, value2 = 30, 4\n",
        "print(value*value2)"
      ],
      "metadata": {
        "colab": {
          "base_uri": "https://localhost:8080/"
        },
        "id": "7SQidX2erplY",
        "outputId": "e01e0428-66f9-4767-83e6-7912a1ffe510"
      },
      "execution_count": null,
      "outputs": [
        {
          "output_type": "stream",
          "name": "stdout",
          "text": [
            "120\n"
          ]
        }
      ]
    },
    {
      "cell_type": "code",
      "source": [
        "#B\n",
        "value, value2 = 30, 4\n",
        "print(value2**2)"
      ],
      "metadata": {
        "colab": {
          "base_uri": "https://localhost:8080/"
        },
        "id": "TZi2h0lZsjRp",
        "outputId": "686e46c0-1bfc-4127-8b2e-c69f9186dd1d"
      },
      "execution_count": null,
      "outputs": [
        {
          "output_type": "stream",
          "name": "stdout",
          "text": [
            "16\n"
          ]
        }
      ]
    },
    {
      "cell_type": "code",
      "source": [
        "#C\n",
        "value, value2 = 30, 4\n",
        "print(value2**3)"
      ],
      "metadata": {
        "colab": {
          "base_uri": "https://localhost:8080/"
        },
        "id": "J-tD_E9PsvSY",
        "outputId": "c83d6519-c2c9-4d0c-8ec5-08f2baf86d03"
      },
      "execution_count": null,
      "outputs": [
        {
          "output_type": "stream",
          "name": "stdout",
          "text": [
            "64\n"
          ]
        }
      ]
    },
    {
      "cell_type": "code",
      "source": [
        "#D\n",
        "value, value2 = 30, 4\n",
        "print(value*value2+value2**2+1)"
      ],
      "metadata": {
        "colab": {
          "base_uri": "https://localhost:8080/"
        },
        "id": "f1Xi2PuJs5Tg",
        "outputId": "2fa33b47-bd4c-43f4-9d9a-b85049515215"
      },
      "execution_count": null,
      "outputs": [
        {
          "output_type": "stream",
          "name": "stdout",
          "text": [
            "137\n"
          ]
        }
      ]
    },
    {
      "cell_type": "code",
      "source": [
        "#E\n",
        "value, value2 = 30, 4\n",
        "print(value/value2)"
      ],
      "metadata": {
        "colab": {
          "base_uri": "https://localhost:8080/"
        },
        "id": "a4PCPHyotAH5",
        "outputId": "e7f2df56-ecf9-4d28-e54e-a7920838ccb8"
      },
      "execution_count": null,
      "outputs": [
        {
          "output_type": "stream",
          "name": "stdout",
          "text": [
            "7.5\n"
          ]
        }
      ]
    },
    {
      "cell_type": "code",
      "source": [
        "#F\n",
        "value, value2 = 30, 4\n",
        "print(value%value2)"
      ],
      "metadata": {
        "colab": {
          "base_uri": "https://localhost:8080/"
        },
        "id": "3aoHNA5FtFEo",
        "outputId": "74c79b46-8acf-4684-ee87-8fcad4f43357"
      },
      "execution_count": null,
      "outputs": [
        {
          "output_type": "stream",
          "name": "stdout",
          "text": [
            "2\n"
          ]
        }
      ]
    },
    {
      "cell_type": "markdown",
      "source": [
        "Assigning Input Data to a Variable"
      ],
      "metadata": {
        "id": "FcIVbc-0sxb4"
      }
    },
    {
      "cell_type": "code",
      "source": [
        "#Finding a person’s BMI (metric)\n",
        "\n",
        "name = input(\"Enter your name: \")\n",
        "weight = float(input(\"Enter your weight(kg): \"))\n",
        "height = float(input(\"Enter your meters(m): \"))\n",
        "\n",
        "bmi = weight/(height)**2\n",
        "print(\"Name: \", name)\n",
        "print(\"Weight: \", weight)\n",
        "print(\"Height: \", height)\n",
        "print(\"BMI= \",bmi)"
      ],
      "metadata": {
        "colab": {
          "base_uri": "https://localhost:8080/"
        },
        "id": "912j0a3CtbaQ",
        "outputId": "f845fc1b-8bcc-495c-c5e3-6781373a291b"
      },
      "execution_count": null,
      "outputs": [
        {
          "output_type": "stream",
          "name": "stdout",
          "text": [
            "Enter your name: John Ray\n",
            "Enter your weight(kg): 60\n",
            "Enter your meters(m): 1.6764\n",
            "Name:  John Ray\n",
            "Weight:  60.0\n",
            "Height:  1.6764\n",
            "BMI=  21.349904958763087\n"
          ]
        }
      ]
    },
    {
      "cell_type": "markdown",
      "source": [
        "Supplementary Activity"
      ],
      "metadata": {
        "id": "yXBBG06bvVPB"
      }
    },
    {
      "cell_type": "code",
      "source": [
        "#1.\tWrite the Python equivalent code of the following C code:\n",
        "\n",
        "base = float(input(\"Enter the base of the triangle: \"))\n",
        "height = float(input(\"Enter the height of the triangle: \"))\n",
        "\n",
        "print (\"The area of the triangle is: \", (base*height)/2)"
      ],
      "metadata": {
        "colab": {
          "base_uri": "https://localhost:8080/"
        },
        "id": "atXHj2mVvU-o",
        "outputId": "32c4a393-9718-421a-f23f-3fed381a7381"
      },
      "execution_count": null,
      "outputs": [
        {
          "output_type": "stream",
          "name": "stdout",
          "text": [
            "Enter the base of the triangle: 10\n",
            "Enter the height of the triangle: 10\n",
            "The area of the triangle is:  50.0\n"
          ]
        }
      ]
    },
    {
      "cell_type": "code",
      "source": [
        "#2\n",
        "celsius = float(input(\"Enter the value in degree celcius: \"))\n",
        "print (\"The value converted in fahrenheit is \", (celsius*9/5)+32,\" degrees\" )"
      ],
      "metadata": {
        "colab": {
          "base_uri": "https://localhost:8080/"
        },
        "id": "WjZMDraryIjK",
        "outputId": "78fd7285-739b-4485-9376-26e9c2ae77db"
      },
      "execution_count": null,
      "outputs": [
        {
          "output_type": "stream",
          "name": "stdout",
          "text": [
            "Enter the value in degree celcius: -20\n",
            "The value converted in fahrenheit is  -4.0  degrees\n"
          ]
        }
      ]
    },
    {
      "cell_type": "code",
      "source": [
        "#3\n",
        "\n",
        "print (\"Enter the coordinate of the first pair of x and y\")\n",
        "x = float(input(\"Enter the value of x1: \"))\n",
        "y = float(input(\"Enter the value of y1: \"))\n",
        "print (\"Enter the coordinate of the second pair of x and y\")\n",
        "x_2 = float(input(\"Enter the value of x2: \"))\n",
        "y_2 = float(input(\"Enter the value of y2: \"))\n",
        "\n",
        "distance = ((x_2 - x)**2 + (y_2 - y)**2)**0.5\n",
        "print (\"The distance between the two points is: \", distance)"
      ],
      "metadata": {
        "colab": {
          "base_uri": "https://localhost:8080/"
        },
        "id": "ObYDbDxqzpCw",
        "outputId": "db5493b4-0b18-40dd-a1e9-31b706e95601"
      },
      "execution_count": null,
      "outputs": [
        {
          "output_type": "stream",
          "name": "stdout",
          "text": [
            "Enter the coordinate of the first pair of x and y\n",
            "Enter the value of x1: 2\n",
            "Enter the value of y1: 2\n",
            "Enter the coordinate of the second pair of x and y\n",
            "Enter the value of x2: -3\n",
            "Enter the value of y2: 3\n",
            "The distance between the two points is:  5.0990195135927845\n"
          ]
        }
      ]
    }
  ]
}