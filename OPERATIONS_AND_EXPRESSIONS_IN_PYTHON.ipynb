{
  "nbformat": 4,
  "nbformat_minor": 0,
  "metadata": {
    "colab": {
      "provenance": [],
      "authorship_tag": "ABX9TyM76BLxXGE+VuonzKoGB9NW",
      "include_colab_link": true
    },
    "kernelspec": {
      "name": "python3",
      "display_name": "Python 3"
    },
    "language_info": {
      "name": "python"
    }
  },
  "cells": [
    {
      "cell_type": "markdown",
      "metadata": {
        "id": "view-in-github",
        "colab_type": "text"
      },
      "source": [
        "<a href=\"https://colab.research.google.com/github/Joshua-Catahan/CPE-103-OOP-1-A/blob/main/OPERATIONS_AND_EXPRESSIONS_IN_PYTHON.ipynb\" target=\"_parent\"><img src=\"https://colab.research.google.com/assets/colab-badge.svg\" alt=\"Open In Colab\"/></a>"
      ]
    },
    {
      "cell_type": "markdown",
      "source": [
        "BOOLEAN OPERATORS"
      ],
      "metadata": {
        "id": "MaPFdOMUyADm"
      }
    },
    {
      "cell_type": "code",
      "execution_count": null,
      "metadata": {
        "colab": {
          "base_uri": "https://localhost:8080/"
        },
        "id": "5jCm5JXNx4rv",
        "outputId": "a0143d41-36db-46db-8861-6774031dd47d"
      },
      "outputs": [
        {
          "output_type": "stream",
          "name": "stdout",
          "text": [
            "True\n",
            "False\n",
            "False\n"
          ]
        }
      ],
      "source": [
        "print (10>9)\n",
        "print (10==9)\n",
        "print (10<9)"
      ]
    },
    {
      "cell_type": "markdown",
      "source": [
        "BOOL FUNCTTON"
      ],
      "metadata": {
        "id": "rj5dW8ubzMAu"
      }
    },
    {
      "cell_type": "code",
      "source": [
        "print (bool(\"hello\"))\n",
        "print (bool(15))\n",
        "print (bool(0))\n",
        "print (bool(-2))"
      ],
      "metadata": {
        "colab": {
          "base_uri": "https://localhost:8080/"
        },
        "id": "QbXvZz3Ayulh",
        "outputId": "77054248-9373-4b77-f38f-f432a9956ebb"
      },
      "execution_count": null,
      "outputs": [
        {
          "output_type": "stream",
          "name": "stdout",
          "text": [
            "True\n",
            "True\n",
            "False\n",
            "True\n"
          ]
        }
      ]
    },
    {
      "cell_type": "markdown",
      "source": [
        "FUNCTIONS CAN RETURN A BOOLEAN"
      ],
      "metadata": {
        "id": "arnM_PIPzos9"
      }
    },
    {
      "cell_type": "code",
      "source": [
        "def myFunction():\n",
        "  return True\n",
        "\n",
        "  if myFunction():\n",
        "    print(\"YES\")\n",
        "  else:\n",
        "    print(\"NO\")"
      ],
      "metadata": {
        "id": "qiWcJ8mP1nPv"
      },
      "execution_count": 109,
      "outputs": []
    },
    {
      "cell_type": "markdown",
      "source": [
        "EXAMPLE:"
      ],
      "metadata": {
        "id": "YTtlkc9n2RLt"
      }
    },
    {
      "cell_type": "code",
      "source": [
        "print (10>9)\n",
        "\n",
        "a=6\n",
        "b=7\n",
        "print(a==b)\n",
        "print(a!=a)"
      ],
      "metadata": {
        "colab": {
          "base_uri": "https://localhost:8080/"
        },
        "id": "qd2ouQNL2SZ9",
        "outputId": "8dbf453b-4511-4a28-a866-269ee7fde666"
      },
      "execution_count": null,
      "outputs": [
        {
          "output_type": "stream",
          "name": "stdout",
          "text": [
            "True\n",
            "False\n",
            "False\n"
          ]
        }
      ]
    },
    {
      "cell_type": "markdown",
      "source": [
        "PYTHON OPERATORS"
      ],
      "metadata": {
        "id": "X9_p-UUD2Oav"
      }
    },
    {
      "cell_type": "code",
      "source": [
        "print(10+50)\n",
        "print(10-5)\n",
        "print(10*5)\n",
        "print(10/5)\n",
        "print(10%5)\n",
        "print(10//3)\n",
        "print(10**2)"
      ],
      "metadata": {
        "colab": {
          "base_uri": "https://localhost:8080/"
        },
        "id": "pFvpsTyY2lfN",
        "outputId": "8389db7d-5206-4f39-cd9e-2a04b06b3313"
      },
      "execution_count": null,
      "outputs": [
        {
          "output_type": "stream",
          "name": "stdout",
          "text": [
            "60\n",
            "5\n",
            "50\n",
            "2.0\n",
            "0\n",
            "3\n",
            "100\n"
          ]
        }
      ]
    },
    {
      "cell_type": "markdown",
      "source": [
        "PYTHON BITWISE OPERATORS"
      ],
      "metadata": {
        "id": "PbPxqB2Q3W5V"
      }
    },
    {
      "cell_type": "code",
      "source": [
        "a = 60\n",
        "b = 13\n",
        "\n",
        "print(a&b)\n",
        "print(a|b)\n",
        "print(a^b)\n",
        "print(~a)\n",
        "print(~b)\n",
        "print(a << 2)"
      ],
      "metadata": {
        "colab": {
          "base_uri": "https://localhost:8080/"
        },
        "id": "FLct-TL73GFf",
        "outputId": "ad8347d3-5938-4e82-e9cf-e1b198d511bb"
      },
      "execution_count": null,
      "outputs": [
        {
          "output_type": "stream",
          "name": "stdout",
          "text": [
            "12\n",
            "61\n",
            "49\n",
            "-61\n",
            "-14\n",
            "240\n"
          ]
        }
      ]
    },
    {
      "cell_type": "markdown",
      "source": [
        "PYTHON ASSIGNMENT OPERATORS"
      ],
      "metadata": {
        "id": "wdI0w9xk-f-N"
      }
    },
    {
      "cell_type": "code",
      "source": [
        "x = 5\n",
        "\n",
        "\n",
        "x += 3\n",
        "print (x)\n",
        "x -= 3\n",
        "print (x)\n",
        "x *= 3\n",
        "print (x)\n",
        "x /= 3\n",
        "print (x)\n",
        "x %= 3\n",
        "print (x)"
      ],
      "metadata": {
        "colab": {
          "base_uri": "https://localhost:8080/"
        },
        "id": "a4Zvd5jk-2Xu",
        "outputId": "6680ba21-83f2-4f83-c1ba-933488b73e71"
      },
      "execution_count": null,
      "outputs": [
        {
          "output_type": "stream",
          "name": "stdout",
          "text": [
            "8\n",
            "5\n",
            "15\n",
            "5.0\n",
            "2.0\n"
          ]
        }
      ]
    },
    {
      "cell_type": "markdown",
      "source": [
        "LOGICAL OPERATOR"
      ],
      "metadata": {
        "id": "bvKjderlGAan"
      }
    },
    {
      "cell_type": "code",
      "source": [
        "not (10>9 and 9>10)"
      ],
      "metadata": {
        "colab": {
          "base_uri": "https://localhost:8080/"
        },
        "id": "fiGRPREVGGbl",
        "outputId": "fdbbb9f6-e68f-4406-fb70-24013b885838"
      },
      "execution_count": null,
      "outputs": [
        {
          "output_type": "execute_result",
          "data": {
            "text/plain": [
              "True"
            ]
          },
          "metadata": {},
          "execution_count": 57
        }
      ]
    },
    {
      "cell_type": "markdown",
      "source": [
        "IDENTITY OPERATOR"
      ],
      "metadata": {
        "id": "I9HTZNZgGi0G"
      }
    },
    {
      "cell_type": "code",
      "source": [
        "x = 1\n",
        "y = 2\n",
        "print (x is y)\n",
        "print (x is not y)"
      ],
      "metadata": {
        "colab": {
          "base_uri": "https://localhost:8080/"
        },
        "id": "NYVml_CEGl4O",
        "outputId": "d821347f-e5a4-4294-e15f-18b148e67b60"
      },
      "execution_count": null,
      "outputs": [
        {
          "output_type": "stream",
          "name": "stdout",
          "text": [
            "False\n",
            "True\n"
          ]
        }
      ]
    },
    {
      "cell_type": "markdown",
      "source": [
        "CONDITIONAL STATEMENT IN PYTHON"
      ],
      "metadata": {
        "id": "ncMJILJ0HNSV"
      }
    },
    {
      "cell_type": "markdown",
      "source": [
        "IF STATEMENT"
      ],
      "metadata": {
        "id": "Ef8QEnecIipG"
      }
    },
    {
      "cell_type": "code",
      "source": [
        "a = 12\n",
        "b = 100\n",
        "if b> a:\n",
        "  print(\"b is greater than a\")"
      ],
      "metadata": {
        "colab": {
          "base_uri": "https://localhost:8080/"
        },
        "id": "-6YaiJF0HRUF",
        "outputId": "b509e4d6-4d16-4d09-82e8-ed95e33f4012"
      },
      "execution_count": null,
      "outputs": [
        {
          "output_type": "stream",
          "name": "stdout",
          "text": [
            "b is greater than a\n"
          ]
        }
      ]
    },
    {
      "cell_type": "markdown",
      "source": [
        "ELIF STATEMENT"
      ],
      "metadata": {
        "id": "-GwAp8_jMAvm"
      }
    },
    {
      "cell_type": "code",
      "source": [
        "a = 200\n",
        "b = 33\n",
        "if b > a:\n",
        "     print(\"b is greater than a\")\n",
        "elif a == b:\n",
        "     print(\"a and b are equal\")\n",
        "else:\n",
        "     print(\"a is greater than b\")\n"
      ],
      "metadata": {
        "colab": {
          "base_uri": "https://localhost:8080/"
        },
        "id": "OX-Insy6MG0s",
        "outputId": "559e0289-f674-4eb4-a013-f0d6f7a323b9"
      },
      "execution_count": 78,
      "outputs": [
        {
          "output_type": "stream",
          "name": "stdout",
          "text": [
            "a is greater than b\n"
          ]
        }
      ]
    },
    {
      "cell_type": "markdown",
      "source": [
        "SHORT HAND IF STATEMENT"
      ],
      "metadata": {
        "id": "4q7l-RTKNeBQ"
      }
    },
    {
      "cell_type": "code",
      "source": [
        "if a>b: print (\"a is greater than b\")"
      ],
      "metadata": {
        "colab": {
          "base_uri": "https://localhost:8080/"
        },
        "id": "mqclwZwSNksk",
        "outputId": "371c7e47-3a6b-47c2-a267-8c6f9298c8fb"
      },
      "execution_count": 79,
      "outputs": [
        {
          "output_type": "stream",
          "name": "stdout",
          "text": [
            "a is greater than b\n"
          ]
        }
      ]
    },
    {
      "cell_type": "markdown",
      "source": [
        "SHORT IF ELSE STATEMENT"
      ],
      "metadata": {
        "id": "CaR280JyNw4t"
      }
    },
    {
      "cell_type": "code",
      "source": [
        "a = 2\n",
        "b = 330\n",
        "print (\"A\") if a > b else print (\"B\")"
      ],
      "metadata": {
        "colab": {
          "base_uri": "https://localhost:8080/"
        },
        "id": "WYxnZFxsNztE",
        "outputId": "5101b003-ac15-4413-8ffd-ee84ccba8b73"
      },
      "execution_count": 80,
      "outputs": [
        {
          "output_type": "stream",
          "name": "stdout",
          "text": [
            "B\n"
          ]
        }
      ]
    },
    {
      "cell_type": "markdown",
      "source": [
        "AND-BOTH CONDITIONS ARE TRUE"
      ],
      "metadata": {
        "id": "FUi0RHhzN_yc"
      }
    },
    {
      "cell_type": "code",
      "source": [
        "a = 200\n",
        "b = 33\n",
        "c = 500\n",
        "if a > b and c > a:\n",
        "  print(\"Both conditions are True\")"
      ],
      "metadata": {
        "colab": {
          "base_uri": "https://localhost:8080/"
        },
        "id": "D_WPdDenOCsc",
        "outputId": "4939c052-10c2-418d-c10d-df81b88088f3"
      },
      "execution_count": 81,
      "outputs": [
        {
          "output_type": "stream",
          "name": "stdout",
          "text": [
            "Both conditions are True\n"
          ]
        }
      ]
    },
    {
      "cell_type": "markdown",
      "source": [
        "OR-AT LEAST ONE OF THE CONDITIONS IS TRUE"
      ],
      "metadata": {
        "id": "Wylj484QOSYN"
      }
    },
    {
      "cell_type": "code",
      "source": [
        "a = 200\n",
        "b =33\n",
        "c = 500\n",
        "if a> b or a> c:\n",
        "    print(\"At least one of the conditions is True\")\n"
      ],
      "metadata": {
        "colab": {
          "base_uri": "https://localhost:8080/"
        },
        "id": "CmpxNRzEOW9s",
        "outputId": "9b0ee6aa-5d3d-48c3-80e1-3bb4c18f06ba"
      },
      "execution_count": 83,
      "outputs": [
        {
          "output_type": "stream",
          "name": "stdout",
          "text": [
            "At least one of the conditions is True\n"
          ]
        }
      ]
    },
    {
      "cell_type": "markdown",
      "source": [
        "NESTED IF ELSE"
      ],
      "metadata": {
        "id": "hNU7Oa_-PYrl"
      }
    },
    {
      "cell_type": "code",
      "source": [
        "x = 29.99\n",
        "\n",
        "if x > 10 :\n",
        "  print (\"Above ten,\")\n",
        "  if x > 20:\n",
        "    print (\"and also above 20!\")\n",
        "    if x > 30:\n",
        "      print (\"and also above 30!\")\n",
        "      if x > 40:\n",
        "        print (\"and also above 40!\")\n",
        "        if x > 50:\n",
        "          print (\"and also above 50.\")\n",
        "        else:\n",
        "           print (\"but not above 50.\")\n",
        "      else:\n",
        "        print (\"but not above 40.\")\n",
        "    else:\n",
        "      print (\"but not above 30.\")\n",
        "  else:\n",
        "    print (\"but not above 20.\")\n",
        "else:\n",
        "  print (\"but not above 10.\")"
      ],
      "metadata": {
        "colab": {
          "base_uri": "https://localhost:8080/"
        },
        "id": "HsNUlfsbPj2m",
        "outputId": "489530ec-6cda-4959-9a38-7fd36b9d3342"
      },
      "execution_count": 114,
      "outputs": [
        {
          "output_type": "stream",
          "name": "stdout",
          "text": [
            "Above ten,\n",
            "and also above 20!\n",
            "but not above 30.\n"
          ]
        }
      ]
    }
  ]
}