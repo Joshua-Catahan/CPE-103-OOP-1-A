{
  "nbformat": 4,
  "nbformat_minor": 0,
  "metadata": {
    "colab": {
      "provenance": [],
      "authorship_tag": "ABX9TyOmCkxOPQmaoaJhqBNPnuXB",
      "include_colab_link": true
    },
    "kernelspec": {
      "name": "python3",
      "display_name": "Python 3"
    },
    "language_info": {
      "name": "python"
    }
  },
  "cells": [
    {
      "cell_type": "markdown",
      "metadata": {
        "id": "view-in-github",
        "colab_type": "text"
      },
      "source": [
        "<a href=\"https://colab.research.google.com/github/Joshua-Catahan/CPE-103-OOP-1-A/blob/main/OPERATIONS_AND_EXPRESSIONS_IN_PYTHON.ipynb\" target=\"_parent\"><img src=\"https://colab.research.google.com/assets/colab-badge.svg\" alt=\"Open In Colab\"/></a>"
      ]
    },
    {
      "cell_type": "markdown",
      "source": [
        "BOOLEAN OPERATORS"
      ],
      "metadata": {
        "id": "MaPFdOMUyADm"
      }
    },
    {
      "cell_type": "code",
      "execution_count": 129,
      "metadata": {
        "colab": {
          "base_uri": "https://localhost:8080/"
        },
        "id": "5jCm5JXNx4rv",
        "outputId": "4bc5e15b-be56-4a1b-a1b0-8a9ebf2d81be"
      },
      "outputs": [
        {
          "output_type": "stream",
          "name": "stdout",
          "text": [
            "True\n",
            "False\n",
            "False\n"
          ]
        }
      ],
      "source": [
        "print (10>9)\n",
        "print (10==9)\n",
        "print (10<9)"
      ]
    },
    {
      "cell_type": "markdown",
      "source": [
        "BOOL FUNCTTON"
      ],
      "metadata": {
        "id": "rj5dW8ubzMAu"
      }
    },
    {
      "cell_type": "code",
      "source": [
        "print (bool(\"hello\"))\n",
        "print (bool(15))\n",
        "print (bool(0))\n",
        "print (bool(-2))"
      ],
      "metadata": {
        "colab": {
          "base_uri": "https://localhost:8080/"
        },
        "id": "QbXvZz3Ayulh",
        "outputId": "44fcdafd-55f8-4b5e-b4ce-13a7e1e3e3fc"
      },
      "execution_count": 130,
      "outputs": [
        {
          "output_type": "stream",
          "name": "stdout",
          "text": [
            "True\n",
            "True\n",
            "False\n",
            "True\n"
          ]
        }
      ]
    },
    {
      "cell_type": "markdown",
      "source": [
        "FUNCTIONS CAN RETURN A BOOLEAN"
      ],
      "metadata": {
        "id": "arnM_PIPzos9"
      }
    },
    {
      "cell_type": "code",
      "source": [
        "def myFunction():\n",
        "  return True\n",
        "\n",
        "  if myFunction():\n",
        "    print(\"YES\")\n",
        "  else:\n",
        "    print(\"NO\")"
      ],
      "metadata": {
        "id": "qiWcJ8mP1nPv"
      },
      "execution_count": 131,
      "outputs": []
    },
    {
      "cell_type": "markdown",
      "source": [
        "EXAMPLE:"
      ],
      "metadata": {
        "id": "YTtlkc9n2RLt"
      }
    },
    {
      "cell_type": "code",
      "source": [
        "print (10>9)\n",
        "\n",
        "a=6\n",
        "b=7\n",
        "print(a==b)\n",
        "print(a!=a)"
      ],
      "metadata": {
        "colab": {
          "base_uri": "https://localhost:8080/"
        },
        "id": "qd2ouQNL2SZ9",
        "outputId": "493b6589-c907-448b-bc1b-f041e4d19dd3"
      },
      "execution_count": 132,
      "outputs": [
        {
          "output_type": "stream",
          "name": "stdout",
          "text": [
            "True\n",
            "False\n",
            "False\n"
          ]
        }
      ]
    },
    {
      "cell_type": "markdown",
      "source": [
        "PYTHON OPERATORS"
      ],
      "metadata": {
        "id": "X9_p-UUD2Oav"
      }
    },
    {
      "cell_type": "code",
      "source": [
        "print(10+50)\n",
        "print(10-5)\n",
        "print(10*5)\n",
        "print(10/5)\n",
        "print(10%5)\n",
        "print(10//3)\n",
        "print(10**2)"
      ],
      "metadata": {
        "colab": {
          "base_uri": "https://localhost:8080/"
        },
        "id": "pFvpsTyY2lfN",
        "outputId": "a2958631-f595-4013-ad64-eb9cb06bf79d"
      },
      "execution_count": 133,
      "outputs": [
        {
          "output_type": "stream",
          "name": "stdout",
          "text": [
            "60\n",
            "5\n",
            "50\n",
            "2.0\n",
            "0\n",
            "3\n",
            "100\n"
          ]
        }
      ]
    },
    {
      "cell_type": "markdown",
      "source": [
        "PYTHON BITWISE OPERATORS"
      ],
      "metadata": {
        "id": "PbPxqB2Q3W5V"
      }
    },
    {
      "cell_type": "code",
      "source": [
        "a = 60\n",
        "b = 13\n",
        "\n",
        "print(a&b)\n",
        "print(a|b)\n",
        "print(a^b)\n",
        "print(~a)\n",
        "print(~b)\n",
        "print(a << 2)"
      ],
      "metadata": {
        "colab": {
          "base_uri": "https://localhost:8080/"
        },
        "id": "FLct-TL73GFf",
        "outputId": "30c1baf3-0b4c-47aa-c31f-66aa90db74a6"
      },
      "execution_count": 134,
      "outputs": [
        {
          "output_type": "stream",
          "name": "stdout",
          "text": [
            "12\n",
            "61\n",
            "49\n",
            "-61\n",
            "-14\n",
            "240\n"
          ]
        }
      ]
    },
    {
      "cell_type": "markdown",
      "source": [
        "PYTHON ASSIGNMENT OPERATORS"
      ],
      "metadata": {
        "id": "wdI0w9xk-f-N"
      }
    },
    {
      "cell_type": "code",
      "source": [
        "x = 5\n",
        "\n",
        "\n",
        "x += 3\n",
        "print (x)\n",
        "x -= 3\n",
        "print (x)\n",
        "x *= 3\n",
        "print (x)\n",
        "x /= 3\n",
        "print (x)\n",
        "x %= 3\n",
        "print (x)"
      ],
      "metadata": {
        "colab": {
          "base_uri": "https://localhost:8080/"
        },
        "id": "a4Zvd5jk-2Xu",
        "outputId": "cd93d2a6-31b5-4a39-e8f6-2a3592bb750d"
      },
      "execution_count": 135,
      "outputs": [
        {
          "output_type": "stream",
          "name": "stdout",
          "text": [
            "8\n",
            "5\n",
            "15\n",
            "5.0\n",
            "2.0\n"
          ]
        }
      ]
    },
    {
      "cell_type": "markdown",
      "source": [
        "LOGICAL OPERATOR"
      ],
      "metadata": {
        "id": "bvKjderlGAan"
      }
    },
    {
      "cell_type": "code",
      "source": [
        "not (10>9 and 9>10)"
      ],
      "metadata": {
        "colab": {
          "base_uri": "https://localhost:8080/"
        },
        "id": "fiGRPREVGGbl",
        "outputId": "1916c5d2-832f-4b61-a492-3d873c80d6c8"
      },
      "execution_count": 136,
      "outputs": [
        {
          "output_type": "execute_result",
          "data": {
            "text/plain": [
              "True"
            ]
          },
          "metadata": {},
          "execution_count": 136
        }
      ]
    },
    {
      "cell_type": "markdown",
      "source": [
        "IDENTITY OPERATOR"
      ],
      "metadata": {
        "id": "I9HTZNZgGi0G"
      }
    },
    {
      "cell_type": "code",
      "source": [
        "x = 1\n",
        "y = 2\n",
        "print (x is y)\n",
        "print (x is not y)"
      ],
      "metadata": {
        "colab": {
          "base_uri": "https://localhost:8080/"
        },
        "id": "NYVml_CEGl4O",
        "outputId": "694c03ba-bfdd-4203-c8ac-c8e96e9796e9"
      },
      "execution_count": 137,
      "outputs": [
        {
          "output_type": "stream",
          "name": "stdout",
          "text": [
            "False\n",
            "True\n"
          ]
        }
      ]
    },
    {
      "cell_type": "markdown",
      "source": [
        "CONDITIONAL STATEMENT IN PYTHON"
      ],
      "metadata": {
        "id": "ncMJILJ0HNSV"
      }
    },
    {
      "cell_type": "markdown",
      "source": [
        "IF STATEMENT"
      ],
      "metadata": {
        "id": "Ef8QEnecIipG"
      }
    },
    {
      "cell_type": "code",
      "source": [
        "a = 12\n",
        "b = 100\n",
        "if b> a:\n",
        "  print(\"b is greater than a\")"
      ],
      "metadata": {
        "colab": {
          "base_uri": "https://localhost:8080/"
        },
        "id": "-6YaiJF0HRUF",
        "outputId": "9a29a356-4986-44f5-b37f-ca5ce9668b15"
      },
      "execution_count": 138,
      "outputs": [
        {
          "output_type": "stream",
          "name": "stdout",
          "text": [
            "b is greater than a\n"
          ]
        }
      ]
    },
    {
      "cell_type": "markdown",
      "source": [
        "ELIF STATEMENT"
      ],
      "metadata": {
        "id": "-GwAp8_jMAvm"
      }
    },
    {
      "cell_type": "code",
      "source": [
        "a = 200\n",
        "b = 33\n",
        "if b > a:\n",
        "     print(\"b is greater than a\")\n",
        "elif a == b:\n",
        "     print(\"a and b are equal\")\n",
        "else:\n",
        "     print(\"a is greater than b\")\n"
      ],
      "metadata": {
        "colab": {
          "base_uri": "https://localhost:8080/"
        },
        "id": "OX-Insy6MG0s",
        "outputId": "7093aa8c-6cf2-44ef-8074-7558d49c6085"
      },
      "execution_count": 139,
      "outputs": [
        {
          "output_type": "stream",
          "name": "stdout",
          "text": [
            "a is greater than b\n"
          ]
        }
      ]
    },
    {
      "cell_type": "markdown",
      "source": [
        "SHORT HAND IF STATEMENT"
      ],
      "metadata": {
        "id": "4q7l-RTKNeBQ"
      }
    },
    {
      "cell_type": "code",
      "source": [
        "if a>b: print (\"a is greater than b\")"
      ],
      "metadata": {
        "colab": {
          "base_uri": "https://localhost:8080/"
        },
        "id": "mqclwZwSNksk",
        "outputId": "0d0190ea-8a95-439f-be98-221ef28d87e9"
      },
      "execution_count": 140,
      "outputs": [
        {
          "output_type": "stream",
          "name": "stdout",
          "text": [
            "a is greater than b\n"
          ]
        }
      ]
    },
    {
      "cell_type": "markdown",
      "source": [
        "SHORT IF ELSE STATEMENT"
      ],
      "metadata": {
        "id": "CaR280JyNw4t"
      }
    },
    {
      "cell_type": "code",
      "source": [
        "a = 2\n",
        "b = 330\n",
        "print (\"A\") if a > b else print (\"B\")"
      ],
      "metadata": {
        "colab": {
          "base_uri": "https://localhost:8080/"
        },
        "id": "WYxnZFxsNztE",
        "outputId": "46f2d510-3a19-4adb-925b-c40600bcdb8e"
      },
      "execution_count": 141,
      "outputs": [
        {
          "output_type": "stream",
          "name": "stdout",
          "text": [
            "B\n"
          ]
        }
      ]
    },
    {
      "cell_type": "markdown",
      "source": [
        "AND-BOTH CONDITIONS ARE TRUE"
      ],
      "metadata": {
        "id": "FUi0RHhzN_yc"
      }
    },
    {
      "cell_type": "code",
      "source": [
        "a = 200\n",
        "b = 33\n",
        "c = 500\n",
        "if a > b and c > a:\n",
        "  print(\"Both conditions are True\")"
      ],
      "metadata": {
        "colab": {
          "base_uri": "https://localhost:8080/"
        },
        "id": "D_WPdDenOCsc",
        "outputId": "4ffeb13f-e493-4a1f-e75a-5b7e07c1c886"
      },
      "execution_count": 142,
      "outputs": [
        {
          "output_type": "stream",
          "name": "stdout",
          "text": [
            "Both conditions are True\n"
          ]
        }
      ]
    },
    {
      "cell_type": "markdown",
      "source": [
        "OR-AT LEAST ONE OF THE CONDITIONS IS TRUE"
      ],
      "metadata": {
        "id": "Wylj484QOSYN"
      }
    },
    {
      "cell_type": "code",
      "source": [
        "a = 200\n",
        "b =33\n",
        "c = 500\n",
        "if a> b or a> c:\n",
        "    print(\"At least one of the conditions is True\")\n"
      ],
      "metadata": {
        "colab": {
          "base_uri": "https://localhost:8080/"
        },
        "id": "CmpxNRzEOW9s",
        "outputId": "8b766052-9606-458d-c22f-d5f4f87252dc"
      },
      "execution_count": 143,
      "outputs": [
        {
          "output_type": "stream",
          "name": "stdout",
          "text": [
            "At least one of the conditions is True\n"
          ]
        }
      ]
    },
    {
      "cell_type": "markdown",
      "source": [
        "NESTED IF ELSE"
      ],
      "metadata": {
        "id": "hNU7Oa_-PYrl"
      }
    },
    {
      "cell_type": "code",
      "source": [
        "x = 29.99\n",
        "\n",
        "if x > 10 :\n",
        "  print (\"Above ten,\")\n",
        "  if x > 20:\n",
        "    print (\"and also above 20!\")\n",
        "    if x > 30:\n",
        "      print (\"and also above 30!\")\n",
        "      if x > 40:\n",
        "        print (\"and also above 40!\")\n",
        "        if x > 50:\n",
        "          print (\"and also above 50.\")\n",
        "        else:\n",
        "           print (\"but not above 50.\")\n",
        "      else:\n",
        "        print (\"but not above 40.\")\n",
        "    else:\n",
        "      print (\"but not above 30.\")\n",
        "  else:\n",
        "    print (\"but not above 20.\")\n",
        "else:\n",
        "  print (\"but not above 10.\")"
      ],
      "metadata": {
        "colab": {
          "base_uri": "https://localhost:8080/"
        },
        "id": "HsNUlfsbPj2m",
        "outputId": "f2a4138e-7aff-4960-e27f-f9272dc810b7"
      },
      "execution_count": 144,
      "outputs": [
        {
          "output_type": "stream",
          "name": "stdout",
          "text": [
            "Above ten,\n",
            "and also above 20!\n",
            "but not above 30.\n"
          ]
        }
      ]
    },
    {
      "cell_type": "markdown",
      "source": [
        "WRITE A PYTHON PROGRAM THAT DETERMINES IF THE INPUT AGE IS QUALIFIED TO VOTE OR NOT. THE QUALIFYING AGE IS 18 YEARS OLD AND ABOVE"
      ],
      "metadata": {
        "id": "toRatX77XPa1"
      }
    },
    {
      "cell_type": "code",
      "source": [
        "#EXAMPLE 1\n",
        "\n",
        "age = float(input(\"Enter your age: \"))\n",
        "\n",
        "if age >= 18:\n",
        "  print(\"You are qualified to vote\")\n",
        "else:\n",
        "  print(\"You are not qualified to vote\")"
      ],
      "metadata": {
        "colab": {
          "base_uri": "https://localhost:8080/"
        },
        "id": "6qVoed48XdIG",
        "outputId": "36cc7519-90cb-4b83-d22b-c45db2ce5d25"
      },
      "execution_count": 145,
      "outputs": [
        {
          "output_type": "stream",
          "name": "stdout",
          "text": [
            "Enter your age: 18\n",
            "You are qualified to vote\n"
          ]
        }
      ]
    },
    {
      "cell_type": "markdown",
      "source": [
        "WRITE A PROGRAM THAT DETERMINES IF THE INPUT NUMBER IS POSITIVE, NEGATIVE, OR ZERO."
      ],
      "metadata": {
        "id": "BU_a69I4YSN1"
      }
    },
    {
      "cell_type": "code",
      "source": [
        "#example 2\n",
        "number = float(input(\"Enter the number: \"))\n",
        "\n",
        "if number > 0:\n",
        "  print(\"The number is positive!\")\n",
        "elif number < 0:\n",
        "  print(\"The number is negative!\")\n",
        "else:\n",
        "  print(\"The number is zero!\")"
      ],
      "metadata": {
        "colab": {
          "base_uri": "https://localhost:8080/"
        },
        "id": "EkZjo28WYsHs",
        "outputId": "dea2b6c2-f0f7-4a0b-8afc-23950c1dc474"
      },
      "execution_count": 146,
      "outputs": [
        {
          "output_type": "stream",
          "name": "stdout",
          "text": [
            "Enter the number: 1\n",
            "The number is positive!\n"
          ]
        }
      ]
    },
    {
      "cell_type": "code",
      "source": [
        "#EXAMPLE 3\n",
        "\n",
        "GRADE = float(input(\"Enter your grade: \"))\n",
        "\n",
        "if GRADE >= 75:\n",
        "  print(\"PASSED\")\n",
        "elif GRADE > 74 < 75:\n",
        "  print(\"REMEDIAL\")\n",
        "else:\n",
        "  print(\"FAILED\")"
      ],
      "metadata": {
        "colab": {
          "base_uri": "https://localhost:8080/"
        },
        "id": "U6DLsNASaIi8",
        "outputId": "82279092-0321-4624-e543-204d3cb4086d"
      },
      "execution_count": 151,
      "outputs": [
        {
          "output_type": "stream",
          "name": "stdout",
          "text": [
            "Enter your grade: 73.99999999999\n",
            "FAILED\n"
          ]
        }
      ]
    }
  ]
}