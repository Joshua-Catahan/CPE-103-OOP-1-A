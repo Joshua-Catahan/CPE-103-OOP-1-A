{
  "nbformat": 4,
  "nbformat_minor": 0,
  "metadata": {
    "colab": {
      "provenance": [],
      "authorship_tag": "ABX9TyPaxZUuXQxxXTmtjxAZWzJh",
      "include_colab_link": true
    },
    "kernelspec": {
      "name": "python3",
      "display_name": "Python 3"
    },
    "language_info": {
      "name": "python"
    }
  },
  "cells": [
    {
      "cell_type": "markdown",
      "metadata": {
        "id": "view-in-github",
        "colab_type": "text"
      },
      "source": [
        "<a href=\"https://colab.research.google.com/github/Joshua-Catahan/CPE-103-OOP-1-A/blob/main/OOP_CONCEPTS.ipynb\" target=\"_parent\"><img src=\"https://colab.research.google.com/assets/colab-badge.svg\" alt=\"Open In Colab\"/></a>"
      ]
    },
    {
      "cell_type": "markdown",
      "source": [
        "CLASS CONSTRUCTOR"
      ],
      "metadata": {
        "id": "AVTwzQoQ8Bmr"
      }
    },
    {
      "cell_type": "code",
      "source": [
        "class Car:\n",
        "    def __init__(self,name,color):\n",
        "        self.name = name  #attributes\n",
        "        self.color = color"
      ],
      "metadata": {
        "id": "H6jAHLZw70S7"
      },
      "execution_count": null,
      "outputs": []
    },
    {
      "cell_type": "markdown",
      "source": [
        "METHODS"
      ],
      "metadata": {
        "id": "_JrjlDp59g5C"
      }
    },
    {
      "cell_type": "code",
      "source": [
        "class Car:\n",
        "  car_type = \"Sedan\"\n",
        "\n",
        "  def __init__(self, name, mileage):\n",
        "    self.name = name\n",
        "    self.mileage = mileage\n",
        "\n",
        "  def description(self):\n",
        "    return \"The {self.name} car gives the mileage of {self.mileage}km/l\"\n",
        "\n",
        "  def max_speed(self, speed):\n",
        "    return \"The {self.name} runs at the maximum speed of {speed}km/h\""
      ],
      "metadata": {
        "id": "E_rCxn6n9ida"
      },
      "execution_count": null,
      "outputs": []
    },
    {
      "cell_type": "markdown",
      "source": [
        "MULTIPLE OBJECTS WITH THE SAME CLASS"
      ],
      "metadata": {
        "id": "aOWmeIfH_AFj"
      }
    },
    {
      "cell_type": "code",
      "source": [
        "class Car: #PARENT CLASS\n",
        "  car_type = \"Sedan\"\n",
        "\n",
        "  def __init__(self, name, mileage):\n",
        "    self.name = name\n",
        "    self.mileage = mileage\n",
        "\n",
        "  def description(self):\n",
        "    return f\"The {self.name} car gives the mileage of {self.mileage}km/l\"\n",
        "\n",
        "class BMW(Car): #CHILD CLASS\n",
        "  pass\n",
        "\n",
        "class Audi(Car): #CHILD CLASS\n",
        "  def audi_desc(self):\n",
        "    return \"This is the description method of class Audi.\"\n",
        "\n",
        "bmw  = BMW(\"BMW 7-series\", 39.53)\n",
        "print(bmw.description())\n",
        "\n",
        "audi = Audi(\"Audi A8 L\", 14)\n",
        "print(audi.description())\n",
        "print(audi.audi_desc())\n",
        "\n"
      ],
      "metadata": {
        "colab": {
          "base_uri": "https://localhost:8080/"
        },
        "id": "xQGCXCq__Psy",
        "outputId": "c646b5b6-38d2-4892-e81a-2286b841e8a5"
      },
      "execution_count": null,
      "outputs": [
        {
          "output_type": "stream",
          "name": "stdout",
          "text": [
            "The BMW 7-series car gives the mileage of 39.53km/l\n",
            "The Audi A8 L car gives the mileage of 14km/l\n",
            "This is the description method of class Audi.\n"
          ]
        }
      ]
    },
    {
      "cell_type": "markdown",
      "source": [
        "APPLY THE OOP CONCEPTS LIKE CLASS CONSTRUCTOR, METHODS, INHERITANCE TO DESCRIBE THE SIDES OF SHAPES (E.G. TRIANGLE, SQUARE, RECTANGLE)"
      ],
      "metadata": {
        "id": "MbUm-QUIEPai"
      }
    },
    {
      "cell_type": "code",
      "source": [
        "class shapes:\n",
        "  shape_type = \"polygon\"\n",
        "  def __init__(self, name, sides):\n",
        "    self.name = name\n",
        "    self.sides = sides\n",
        "\n",
        "  def description(self):\n",
        "    return f\"The {self.name} has {self.sides} sides.\"\n",
        "\n",
        "class triangle (shapes):\n",
        "  pass\n",
        "class square (shapes):\n",
        "  pass\n",
        "class rectangle (shapes):\n",
        "  pass\n",
        "\n",
        "tri  = triangle(\"TRIANGLE\", 3)\n",
        "print(tri.description())\n",
        "\n",
        "squ = square(\"SQUARE\", 4)\n",
        "print(squ.description())\n",
        "\n",
        "rec = rectangle(\"RECTANGLE\", 4)\n",
        "print(rec.description())"
      ],
      "metadata": {
        "colab": {
          "base_uri": "https://localhost:8080/"
        },
        "id": "Nvu79KhNEmvq",
        "outputId": "e00587f3-e62f-44a1-8246-db5816a04140"
      },
      "execution_count": null,
      "outputs": [
        {
          "output_type": "stream",
          "name": "stdout",
          "text": [
            "The TRIANGLE has 3 sides.\n",
            "The SQUARE has 4 sides.\n",
            "The RECTANGLE has 4 sides.\n"
          ]
        }
      ]
    }
  ]
}