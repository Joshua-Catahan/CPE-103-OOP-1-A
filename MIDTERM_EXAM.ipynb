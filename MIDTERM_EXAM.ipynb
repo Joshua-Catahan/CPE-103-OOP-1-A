{
  "nbformat": 4,
  "nbformat_minor": 0,
  "metadata": {
    "colab": {
      "provenance": [],
      "authorship_tag": "ABX9TyOXSuYsYbdXKc2NPeV0tL3W",
      "include_colab_link": true
    },
    "kernelspec": {
      "name": "python3",
      "display_name": "Python 3"
    },
    "language_info": {
      "name": "python"
    }
  },
  "cells": [
    {
      "cell_type": "markdown",
      "metadata": {
        "id": "view-in-github",
        "colab_type": "text"
      },
      "source": [
        "<a href=\"https://colab.research.google.com/github/Joshua-Catahan/CPE-103-OOP-1-A/blob/main/MIDTERM_EXAM.ipynb\" target=\"_parent\"><img src=\"https://colab.research.google.com/assets/colab-badge.svg\" alt=\"Open In Colab\"/></a>"
      ]
    },
    {
      "cell_type": "markdown",
      "source": [
        "1-10. LETTER **B**"
      ],
      "metadata": {
        "id": "ARpk4dh5a6m6"
      }
    },
    {
      "cell_type": "code",
      "execution_count": 1,
      "metadata": {
        "colab": {
          "base_uri": "https://localhost:8080/"
        },
        "id": "RLql4GFia3Ye",
        "outputId": "7247a1c9-68c2-43bf-bd74-f9132b900396"
      },
      "outputs": [
        {
          "output_type": "stream",
          "name": "stdout",
          "text": [
            "1\n",
            "2\n"
          ]
        }
      ],
      "source": [
        "i = 1\n",
        "while  True:\n",
        "  if i%3 == 0:\n",
        "    break\n",
        "  print(i)\n",
        "\n",
        "  i += 1"
      ]
    },
    {
      "cell_type": "markdown",
      "source": [
        "11-20. LETTER A"
      ],
      "metadata": {
        "id": "u4fd3ngJbEbj"
      }
    },
    {
      "cell_type": "code",
      "source": [
        "i = 0\n",
        "while i < 5:\n",
        "  print (i)\n",
        "  i += 1\n",
        "  if i == 3:\n",
        "    break\n",
        "else:\n",
        "  print (0)"
      ],
      "metadata": {
        "colab": {
          "base_uri": "https://localhost:8080/"
        },
        "id": "bGold1StbE-q",
        "outputId": "77121d5a-9b6b-453b-9e1d-96494e4aec46"
      },
      "execution_count": 2,
      "outputs": [
        {
          "output_type": "stream",
          "name": "stdout",
          "text": [
            "0\n",
            "1\n",
            "2\n"
          ]
        }
      ]
    },
    {
      "cell_type": "markdown",
      "source": [
        "21-30. LETTER A"
      ],
      "metadata": {
        "id": "7eoTYO-sbHeS"
      }
    },
    {
      "cell_type": "code",
      "source": [
        "def f1():\n",
        "  x = 15\n",
        "  print (x)\n",
        "x = 12\n",
        "f1()"
      ],
      "metadata": {
        "colab": {
          "base_uri": "https://localhost:8080/"
        },
        "id": "XSw9D1YMbJ4z",
        "outputId": "7a5cc27c-7825-4072-9a63-a8f676cb62af"
      },
      "execution_count": 3,
      "outputs": [
        {
          "output_type": "stream",
          "name": "stdout",
          "text": [
            "15\n"
          ]
        }
      ]
    },
    {
      "cell_type": "markdown",
      "source": [
        "31-40. LETTER **B**"
      ],
      "metadata": {
        "id": "hF2ypk3YbNur"
      }
    },
    {
      "cell_type": "code",
      "source": [
        "class Person():\n",
        "  def __init__(self):\n",
        "    self.__name = \"Default Name\"\n",
        "\n",
        "person1 = Person()\n",
        "print(self.__name)"
      ],
      "metadata": {
        "colab": {
          "base_uri": "https://localhost:8080/",
          "height": 176
        },
        "id": "ZdQMWzQ3bOLC",
        "outputId": "4d61a9e2-08f5-4eee-8b11-9dfd32540b0a"
      },
      "execution_count": 12,
      "outputs": [
        {
          "output_type": "error",
          "ename": "NameError",
          "evalue": "name 'self' is not defined",
          "traceback": [
            "\u001b[0;31m---------------------------------------------------------------------------\u001b[0m",
            "\u001b[0;31mNameError\u001b[0m                                 Traceback (most recent call last)",
            "\u001b[0;32m<ipython-input-12-d6950dff70d7>\u001b[0m in \u001b[0;36m<cell line: 0>\u001b[0;34m()\u001b[0m\n\u001b[1;32m      4\u001b[0m \u001b[0;34m\u001b[0m\u001b[0m\n\u001b[1;32m      5\u001b[0m \u001b[0mperson1\u001b[0m \u001b[0;34m=\u001b[0m \u001b[0mPerson\u001b[0m\u001b[0;34m(\u001b[0m\u001b[0;34m)\u001b[0m\u001b[0;34m\u001b[0m\u001b[0;34m\u001b[0m\u001b[0m\n\u001b[0;32m----> 6\u001b[0;31m \u001b[0mprint\u001b[0m\u001b[0;34m(\u001b[0m\u001b[0mself\u001b[0m\u001b[0;34m.\u001b[0m\u001b[0m__name\u001b[0m\u001b[0;34m)\u001b[0m\u001b[0;34m\u001b[0m\u001b[0;34m\u001b[0m\u001b[0m\n\u001b[0m",
            "\u001b[0;31mNameError\u001b[0m: name 'self' is not defined"
          ]
        }
      ]
    },
    {
      "cell_type": "markdown",
      "source": [
        "41-60. LETTER A"
      ],
      "metadata": {
        "id": "ONPA7UlvbQhq"
      }
    },
    {
      "cell_type": "code",
      "source": [
        "class Person():\n",
        "  def __init__(self):\n",
        "    self.__name = \"Default Name\"\n",
        "\n",
        "person1 = Person()\n",
        "person2 = Person()\n",
        "print(person1)\n",
        "print(person2)\n"
      ],
      "metadata": {
        "colab": {
          "base_uri": "https://localhost:8080/"
        },
        "id": "zES0GhuNbTKq",
        "outputId": "690f0d68-1374-4ec0-ee3d-d24dfb34b8dc"
      },
      "execution_count": 5,
      "outputs": [
        {
          "output_type": "stream",
          "name": "stdout",
          "text": [
            "<__main__.Person object at 0x7a9a066d8050>\n",
            "<__main__.Person object at 0x7a9a068bde90>\n"
          ]
        }
      ]
    },
    {
      "cell_type": "markdown",
      "source": [
        "61-80. LETTER A"
      ],
      "metadata": {
        "id": "iQujnV0KbarD"
      }
    },
    {
      "cell_type": "code",
      "source": [
        "class Student():\n",
        "  def __init__(self, student_number, name):\n",
        "    self.stu_number = student_number\n",
        "    self.stu_name = name\n",
        "\n",
        "class DSCOfficer(Student):\n",
        "  def __init__ (self, department):\n",
        "    self.department = department\n",
        "    self.event_list = []\n",
        "\n",
        "  def initiateEvent (self, name):\n",
        "    self.event_list.append({\"name\":name})\n",
        "\n",
        "officer1 = DSCOfficer(\"CpE\")\n",
        "officer1.initiateEvent(\"General Assembly\")\n",
        "print(officer1.event_list)\n"
      ],
      "metadata": {
        "colab": {
          "base_uri": "https://localhost:8080/"
        },
        "id": "v_rvvv7Gbc2y",
        "outputId": "5d29250e-cc16-4f80-dc84-c7156dacc8b2"
      },
      "execution_count": 6,
      "outputs": [
        {
          "output_type": "stream",
          "name": "stdout",
          "text": [
            "[{'name': 'General Assembly'}]\n"
          ]
        }
      ]
    },
    {
      "cell_type": "markdown",
      "source": [
        "81-82. **C FOR FALSE**\n",
        "\n",
        "83-84. **C FOR FALSE**\n",
        "\n",
        "85-86. **A FOR TRUE**\n",
        "\n",
        "87-88. **A FOR TRUE**\n",
        "\n",
        "89-90. **A FOR TRUE**\n",
        "\n",
        "91-92. **A FOR TRUE**\n",
        "\n",
        "93-94. **A FOR TRUE**\n",
        "\n",
        "95-96. **C FOR FALSE**\n",
        "\n",
        "97-98. **A FOR TRUE**\n",
        "\n",
        "99-100. **A FOR TRUE**"
      ],
      "metadata": {
        "id": "fff6PWWube76"
      }
    }
  ]
}