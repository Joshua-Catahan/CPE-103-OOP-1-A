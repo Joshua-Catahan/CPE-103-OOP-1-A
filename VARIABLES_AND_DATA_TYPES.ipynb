{
  "nbformat": 4,
  "nbformat_minor": 0,
  "metadata": {
    "colab": {
      "provenance": [],
      "authorship_tag": "ABX9TyNiH1Xpn6dFW2KowyWpBTsb",
      "include_colab_link": true
    },
    "kernelspec": {
      "name": "python3",
      "display_name": "Python 3"
    },
    "language_info": {
      "name": "python"
    }
  },
  "cells": [
    {
      "cell_type": "markdown",
      "metadata": {
        "id": "view-in-github",
        "colab_type": "text"
      },
      "source": [
        "<a href=\"https://colab.research.google.com/github/Joshua-Catahan/CPE-103-OOP-1-A/blob/main/VARIABLES_AND_DATA_TYPES.ipynb\" target=\"_parent\"><img src=\"https://colab.research.google.com/assets/colab-badge.svg\" alt=\"Open In Colab\"/></a>"
      ]
    },
    {
      "cell_type": "markdown",
      "source": [
        "PYTHON USES FIVE STANDARD DATA TYPES"
      ],
      "metadata": {
        "id": "NinN2jVNydwb"
      }
    },
    {
      "cell_type": "code",
      "execution_count": 5,
      "metadata": {
        "id": "kPxR6MFkyFK6"
      },
      "outputs": [],
      "source": [
        "#NUMBERS\n",
        "varNum = 123\n",
        "pi = 3.14159\n",
        "\n",
        "#STRINGS\n",
        "varString = \"Hello World!\"\n",
        "VarText = 'this is a string'\n",
        "\n",
        "#LISTS\n",
        "varList = [\"abc, 123\"]\n",
        "\n",
        "#TUPLES\n",
        "varTuple = ('abc', 123, \"hello\")\n",
        "\n",
        "#DICTIONARIES\n",
        "var = 3\n",
        "varDict = {'first': 1, '2': '2nd' , 3: var}\n",
        "\n",
        "varDict = {}\n",
        "varDict['first'] = 1\n",
        "varDict['2'] = '2nd'\n",
        "varDict[3] = var"
      ]
    },
    {
      "cell_type": "markdown",
      "source": [
        "ARITHMETIC"
      ],
      "metadata": {
        "id": "Qx645XTD2Oyv"
      }
    },
    {
      "cell_type": "code",
      "source": [
        "print(\"ARITHMETIC COMPUTATIONS:\")\n",
        "\n",
        "#ADDITION\n",
        "a = 5 + 3\n",
        "print(\"Addition: \", a)\n",
        "\n",
        "#SUBTRACTION\n",
        "b = 5 - 3\n",
        "print(\"Subtraction: \",b)\n",
        "\n",
        "#MULTIPLICATION\n",
        "c = 5 * 3\n",
        "print(\"Multiplication: \",c)\n",
        "\n",
        "#EXPONENT\n",
        "d = 5 ** 3\n",
        "print(\"Exponent: \",d)\n",
        "\n",
        "#DIVISION\n",
        "e = 5 / 3\n",
        "print(\"Division: \",e)\n",
        "\n",
        "f = 5 % 3\n",
        "print(\"Modulus: \",f)\n",
        "\n",
        "g = 5 // 3\n",
        "print(\"Floor division: \",g)\n",
        "\n",
        "#INCREMENT/DECREMENT\n",
        "h = 5\n",
        "h += 1\n",
        "print(\"Increment: \", h)\n",
        "i = 5\n",
        "i -= 1\n",
        "print(\"Decrement: \", i)\n",
        "\n",
        "#STRING CONCATENATION\n",
        "j = \"Hello \" + \"World!\"\n",
        "print(\"String Concatenation: \", j)\n",
        "\n",
        "#COMPLEX EXPRESSIONS\n",
        "k = 3 + 5 - 6 * 2/4\n",
        "print(\"Complex Expression: \", k)\n"
      ],
      "metadata": {
        "colab": {
          "base_uri": "https://localhost:8080/"
        },
        "id": "Xn3y9NuM2S5I",
        "outputId": "f45e09bc-695e-4f18-8ece-47ae575db1ad"
      },
      "execution_count": 15,
      "outputs": [
        {
          "output_type": "stream",
          "name": "stdout",
          "text": [
            "ARITHMETIC COMPUTATIONS:\n",
            "Addition:  8\n",
            "Subtraction:  2\n",
            "Multiplication:  15\n",
            "Exponent:  125\n",
            "Division:  1.6666666666666667\n",
            "Modulus:  2\n",
            "Floor division:  1\n",
            "Increment:  6\n",
            "Decrement:  4\n",
            "String Concatenation:  Hello World!\n",
            "Complex Expression:  5.0\n"
          ]
        }
      ]
    },
    {
      "cell_type": "markdown",
      "source": [
        "CONDITIONAL STATEMENTS"
      ],
      "metadata": {
        "id": "q9nPtXvF46YI"
      }
    },
    {
      "cell_type": "code",
      "source": [
        "#BOOLEAN CONDITIONS\n",
        "x = True\n",
        "if x:\n",
        "    print (\"var x is True\")\n",
        "else:\n",
        "    print(\"var x is False\")"
      ],
      "metadata": {
        "colab": {
          "base_uri": "https://localhost:8080/"
        },
        "id": "JER9kJxg42nR",
        "outputId": "e7f27e60-ae4a-4529-b735-81873c60906c"
      },
      "execution_count": 56,
      "outputs": [
        {
          "output_type": "stream",
          "name": "stdout",
          "text": [
            "var x is True\n"
          ]
        }
      ]
    },
    {
      "cell_type": "code",
      "source": [
        "#STRING CONDITIONS\n",
        "x = \"Hello World!\"\n",
        "if x == 'Hello World!':\n",
        "    print(\"var x is Hello World!\")\n",
        "else:\n",
        "    print(\"var x is not Hello World!\")"
      ],
      "metadata": {
        "colab": {
          "base_uri": "https://localhost:8080/"
        },
        "id": "fx6E9ZC25HC_",
        "outputId": "4bf212d7-3371-4b7c-afe1-b1bbaddc50d4"
      },
      "execution_count": 57,
      "outputs": [
        {
          "output_type": "stream",
          "name": "stdout",
          "text": [
            "var x is Hello World!\n"
          ]
        }
      ]
    },
    {
      "cell_type": "code",
      "source": [
        "#NUERICAL CONDITIONS\n",
        "x = 10\n",
        "if x == '10':\n",
        "    print(\"var x is a string\")\n",
        "elif x == 10:\n",
        "    print(\"var x is an integer\")\n",
        "else:\n",
        "    print(\"var x is none of the above\")"
      ],
      "metadata": {
        "colab": {
          "base_uri": "https://localhost:8080/"
        },
        "id": "i5lVG8U25R9_",
        "outputId": "38e15c92-6bc3-4676-e02f-968e3ae2effc"
      },
      "execution_count": 19,
      "outputs": [
        {
          "output_type": "stream",
          "name": "stdout",
          "text": [
            "var x is an integer\n"
          ]
        }
      ]
    },
    {
      "cell_type": "markdown",
      "source": [
        "LOOPS"
      ],
      "metadata": {
        "id": "6gPgq4YM5jdZ"
      }
    },
    {
      "cell_type": "code",
      "source": [
        "#FOR LOOPS\n",
        "for var in range(0, 6, 2):\n",
        "    print(var)"
      ],
      "metadata": {
        "colab": {
          "base_uri": "https://localhost:8080/"
        },
        "id": "zZJ4V9Ce53Po",
        "outputId": "34839c2d-82b5-4863-f683-8b177183fcd0"
      },
      "execution_count": 77,
      "outputs": [
        {
          "output_type": "stream",
          "name": "stdout",
          "text": [
            "0\n",
            "2\n",
            "4\n"
          ]
        }
      ]
    },
    {
      "cell_type": "code",
      "source": [
        "#WHILE LOOPS\n",
        "var = 0\n",
        "while var < 5:\n",
        "      print(var)\n",
        "      var += 2"
      ],
      "metadata": {
        "colab": {
          "base_uri": "https://localhost:8080/"
        },
        "id": "QFaAnCUx6A2w",
        "outputId": "d7cae19a-16e0-4ce6-b6c9-9336a09a5881"
      },
      "execution_count": 24,
      "outputs": [
        {
          "output_type": "stream",
          "name": "stdout",
          "text": [
            "0\n",
            "2\n",
            "4\n"
          ]
        }
      ]
    },
    {
      "cell_type": "code",
      "source": [
        "#NESTED LOOPS\n",
        "\n",
        "x = 0\n",
        "while x < 5:\n",
        "    for y in range (0, x):\n",
        "        print(y, end='')\n",
        "    x += 1\n",
        "    print ()"
      ],
      "metadata": {
        "colab": {
          "base_uri": "https://localhost:8080/"
        },
        "id": "wdK2pVbI6Jug",
        "outputId": "5b005488-676c-4513-f4de-1b86870b130b"
      },
      "execution_count": 25,
      "outputs": [
        {
          "output_type": "stream",
          "name": "stdout",
          "text": [
            "\n",
            "0\n",
            "01\n",
            "012\n",
            "0123\n"
          ]
        }
      ]
    },
    {
      "cell_type": "markdown",
      "source": [
        "FUNCTIONS"
      ],
      "metadata": {
        "id": "4fBfSNBD6kRY"
      }
    },
    {
      "cell_type": "code",
      "source": [
        "def remainder(n, m):\n",
        "    while True:\n",
        "        if n - m < 0:\n",
        "            return n\n",
        "        else:\n",
        "            n = n - m\n",
        "remainder(10, 4)"
      ],
      "metadata": {
        "colab": {
          "base_uri": "https://localhost:8080/"
        },
        "id": "g4oWGMSg6tL4",
        "outputId": "e3723c7e-f444-4bd6-e475-44e7bfcc620b"
      },
      "execution_count": 63,
      "outputs": [
        {
          "output_type": "execute_result",
          "data": {
            "text/plain": [
              "2"
            ]
          },
          "metadata": {},
          "execution_count": 63
        }
      ]
    },
    {
      "cell_type": "markdown",
      "source": [
        "LISTS"
      ],
      "metadata": {
        "id": "Qa9Nr2nl7A84"
      }
    },
    {
      "cell_type": "code",
      "source": [
        "pi = 3.14159\n",
        "varList = [1, 2, 'A', 'B', 'Hello!', pi]\n",
        "print (varList[0])\n"
      ],
      "metadata": {
        "colab": {
          "base_uri": "https://localhost:8080/"
        },
        "id": "DUdE4dOa6-CA",
        "outputId": "96380c26-d996-415a-dbba-2531f9c7f42c"
      },
      "execution_count": 30,
      "outputs": [
        {
          "output_type": "stream",
          "name": "stdout",
          "text": [
            "1\n"
          ]
        }
      ]
    },
    {
      "cell_type": "code",
      "source": [
        "print(varList[4])"
      ],
      "metadata": {
        "colab": {
          "base_uri": "https://localhost:8080/"
        },
        "id": "GJu1dIZ97Tqp",
        "outputId": "f45f9af0-0afd-4cfc-ee01-c395ce3ad068"
      },
      "execution_count": 32,
      "outputs": [
        {
          "output_type": "stream",
          "name": "stdout",
          "text": [
            "Hello!\n"
          ]
        }
      ]
    },
    {
      "cell_type": "code",
      "source": [
        "varList.append('World!')\n",
        "print(varList[6])"
      ],
      "metadata": {
        "colab": {
          "base_uri": "https://localhost:8080/"
        },
        "id": "QYb5CAAZ7ehg",
        "outputId": "4bae55a0-1caf-4cc0-e6e9-0d9ace94c5b6"
      },
      "execution_count": 33,
      "outputs": [
        {
          "output_type": "stream",
          "name": "stdout",
          "text": [
            "World!\n"
          ]
        }
      ]
    },
    {
      "cell_type": "code",
      "source": [
        "len(varList)"
      ],
      "metadata": {
        "colab": {
          "base_uri": "https://localhost:8080/"
        },
        "id": "0HkG-jH571oY",
        "outputId": "ef481e77-2942-42a8-a689-7eb75514093f"
      },
      "execution_count": 34,
      "outputs": [
        {
          "output_type": "execute_result",
          "data": {
            "text/plain": [
              "7"
            ]
          },
          "metadata": {},
          "execution_count": 34
        }
      ]
    },
    {
      "cell_type": "code",
      "source": [
        "print(varList[5])"
      ],
      "metadata": {
        "colab": {
          "base_uri": "https://localhost:8080/"
        },
        "id": "dEHXRYfH74bI",
        "outputId": "c4f4d958-7f2f-412f-ae13-34ec5b5e8428"
      },
      "execution_count": 35,
      "outputs": [
        {
          "output_type": "stream",
          "name": "stdout",
          "text": [
            "3.14159\n"
          ]
        }
      ]
    },
    {
      "cell_type": "code",
      "source": [
        "varList.remove(pi)\n",
        "print(varList[5])"
      ],
      "metadata": {
        "colab": {
          "base_uri": "https://localhost:8080/"
        },
        "id": "6b89ioLD776A",
        "outputId": "bf6f1f9f-6385-494c-e3b2-46651b11616e"
      },
      "execution_count": 36,
      "outputs": [
        {
          "output_type": "stream",
          "name": "stdout",
          "text": [
            "World!\n"
          ]
        }
      ]
    },
    {
      "cell_type": "markdown",
      "source": [
        "DICTIONARIES"
      ],
      "metadata": {
        "id": "RAWRR0HJ8IAI"
      }
    },
    {
      "cell_type": "code",
      "source": [
        "var = \"Hello World!\"\n",
        "varDict = {'first' : 123, 2: 'abc' , '3': var, 4:['lista', 'listb']}\n",
        "print(varDict ['first'])"
      ],
      "metadata": {
        "colab": {
          "base_uri": "https://localhost:8080/"
        },
        "id": "WB0nJG7c8LlY",
        "outputId": "4a403e52-c0b0-4733-d8e3-03ee56ef6cc5"
      },
      "execution_count": 78,
      "outputs": [
        {
          "output_type": "stream",
          "name": "stdout",
          "text": [
            "123\n"
          ]
        }
      ]
    },
    {
      "cell_type": "code",
      "source": [
        "print(varDict['3'])"
      ],
      "metadata": {
        "colab": {
          "base_uri": "https://localhost:8080/"
        },
        "id": "JeZr8PMdCDcp",
        "outputId": "0c6d7ba3-4bd2-4061-ca00-d685e12353d0"
      },
      "execution_count": 79,
      "outputs": [
        {
          "output_type": "stream",
          "name": "stdout",
          "text": [
            "Hello World!\n"
          ]
        }
      ]
    },
    {
      "cell_type": "code",
      "source": [
        "print(varDict['3'])"
      ],
      "metadata": {
        "colab": {
          "base_uri": "https://localhost:8080/"
        },
        "id": "t4RN25KKCM63",
        "outputId": "3b991a97-3d7c-40ef-cee5-d7a2ec1dee18"
      },
      "execution_count": 80,
      "outputs": [
        {
          "output_type": "stream",
          "name": "stdout",
          "text": [
            "Hello World!\n"
          ]
        }
      ]
    },
    {
      "cell_type": "code",
      "source": [
        "print(varDict[4])"
      ],
      "metadata": {
        "colab": {
          "base_uri": "https://localhost:8080/"
        },
        "id": "km_dA9L5CQ85",
        "outputId": "6be90751-9482-461d-d7c3-3225052c0443"
      },
      "execution_count": 81,
      "outputs": [
        {
          "output_type": "stream",
          "name": "stdout",
          "text": [
            "['lista', 'listb']\n"
          ]
        }
      ]
    },
    {
      "cell_type": "code",
      "source": [
        "print(varDict[4][1])"
      ],
      "metadata": {
        "colab": {
          "base_uri": "https://localhost:8080/"
        },
        "id": "alIiKtSdCUPI",
        "outputId": "3a150e7a-281d-450c-fbfc-f238a2b981f4"
      },
      "execution_count": 83,
      "outputs": [
        {
          "output_type": "stream",
          "name": "stdout",
          "text": [
            "listb\n"
          ]
        }
      ]
    },
    {
      "cell_type": "code",
      "source": [
        "len(varDict)"
      ],
      "metadata": {
        "colab": {
          "base_uri": "https://localhost:8080/"
        },
        "id": "v7tlMCd5CZ9J",
        "outputId": "1cb8c1a9-78e0-46d3-900f-cbc47e626410"
      },
      "execution_count": 84,
      "outputs": [
        {
          "output_type": "execute_result",
          "data": {
            "text/plain": [
              "4"
            ]
          },
          "metadata": {},
          "execution_count": 84
        }
      ]
    },
    {
      "cell_type": "markdown",
      "source": [
        "LIST GENERATORS AND COMPREHENSION"
      ],
      "metadata": {
        "id": "iXAD-MFeCdoA"
      }
    },
    {
      "cell_type": "code",
      "source": [
        "def gen_num_up_to(n):\n",
        "     num = 0\n",
        "     while num < n:\n",
        "         yield num\n",
        "         num += 1\n",
        "\n",
        "gen_num_up_to(5)\n",
        ""
      ],
      "metadata": {
        "colab": {
          "base_uri": "https://localhost:8080/"
        },
        "id": "NMj1ZVDNChSg",
        "outputId": "56ee462f-2928-4f3e-c228-5ab2b4122653"
      },
      "execution_count": 97,
      "outputs": [
        {
          "output_type": "execute_result",
          "data": {
            "text/plain": [
              "<generator object gen_num_up_to at 0x78193dc81220>"
            ]
          },
          "metadata": {},
          "execution_count": 97
        }
      ]
    },
    {
      "cell_type": "code",
      "source": [
        "varList = gen_num_up_to(5)\n",
        "print([var for var in varList])"
      ],
      "metadata": {
        "colab": {
          "base_uri": "https://localhost:8080/"
        },
        "id": "xpuqeOzjCjYB",
        "outputId": "41ecae05-6bf9-4348-8289-31c8da718d4c"
      },
      "execution_count": 98,
      "outputs": [
        {
          "output_type": "stream",
          "name": "stdout",
          "text": [
            "[0, 1, 2, 3, 4]\n"
          ]
        }
      ]
    },
    {
      "cell_type": "code",
      "source": [
        "def gen_num_up_to(n):\n",
        "     num = 0\n",
        "     while num < n:\n",
        "         yield num\n",
        "         num += 2\n",
        "\n",
        "varList = gen_num_up_to(5)\n",
        "print([var for var in varList])"
      ],
      "metadata": {
        "colab": {
          "base_uri": "https://localhost:8080/"
        },
        "id": "QZIUlnodC-mA",
        "outputId": "fe468fa9-53b6-45db-ac6a-03567a702bea"
      },
      "execution_count": 99,
      "outputs": [
        {
          "output_type": "stream",
          "name": "stdout",
          "text": [
            "[0, 2, 4]\n"
          ]
        }
      ]
    },
    {
      "cell_type": "code",
      "source": [
        "varList = range(0, 5, 2)\n",
        "print ([var for var in varList])"
      ],
      "metadata": {
        "colab": {
          "base_uri": "https://localhost:8080/"
        },
        "id": "0yxJDW_lDseI",
        "outputId": "8b95f1d3-47ca-452d-c662-a7d63a0f40aa"
      },
      "execution_count": 101,
      "outputs": [
        {
          "output_type": "stream",
          "name": "stdout",
          "text": [
            "[0, 2, 4]\n"
          ]
        }
      ]
    },
    {
      "cell_type": "markdown",
      "source": [
        "SLICING"
      ],
      "metadata": {
        "id": "Cb9-eZ_pD8WI"
      }
    },
    {
      "cell_type": "code",
      "source": [
        "varList = [1, 2, 3, 4, 5, 6, 7, 8, 9, 10]\n",
        "print(varList[:5])"
      ],
      "metadata": {
        "colab": {
          "base_uri": "https://localhost:8080/"
        },
        "id": "qqz5KV57D9Xg",
        "outputId": "01b9c1a3-3b6e-46c7-8316-70c3e9d41f49"
      },
      "execution_count": 103,
      "outputs": [
        {
          "output_type": "stream",
          "name": "stdout",
          "text": [
            "[1, 2, 3, 4, 5]\n"
          ]
        }
      ]
    },
    {
      "cell_type": "code",
      "source": [
        "print(varList[5:])"
      ],
      "metadata": {
        "colab": {
          "base_uri": "https://localhost:8080/"
        },
        "id": "89EMYGByEKw5",
        "outputId": "752e37ba-071e-41ff-f87e-41ebb0f8aee0"
      },
      "execution_count": 104,
      "outputs": [
        {
          "output_type": "stream",
          "name": "stdout",
          "text": [
            "[6, 7, 8, 9, 10]\n"
          ]
        }
      ]
    },
    {
      "cell_type": "code",
      "source": [
        "print(varList[:-2])"
      ],
      "metadata": {
        "colab": {
          "base_uri": "https://localhost:8080/"
        },
        "id": "HHQgZPByEN9v",
        "outputId": "55958da4-7335-482c-9773-b1ad1a626d73"
      },
      "execution_count": 105,
      "outputs": [
        {
          "output_type": "stream",
          "name": "stdout",
          "text": [
            "[1, 2, 3, 4, 5, 6, 7, 8]\n"
          ]
        }
      ]
    },
    {
      "cell_type": "code",
      "source": [
        "print(varList[-2:])"
      ],
      "metadata": {
        "colab": {
          "base_uri": "https://localhost:8080/"
        },
        "id": "PXT3UMEIEQ6g",
        "outputId": "8640c9dd-a159-4932-eede-de32bbf43fb6"
      },
      "execution_count": 111,
      "outputs": [
        {
          "output_type": "stream",
          "name": "stdout",
          "text": [
            "[9, 10]\n"
          ]
        }
      ]
    },
    {
      "cell_type": "code",
      "source": [
        "print(varList[2:-2])"
      ],
      "metadata": {
        "colab": {
          "base_uri": "https://localhost:8080/"
        },
        "id": "xObA-s18Eb0o",
        "outputId": "442bff81-64be-4a44-a56b-23c72767e370"
      },
      "execution_count": 109,
      "outputs": [
        {
          "output_type": "stream",
          "name": "stdout",
          "text": [
            "[3, 4, 5, 6, 7, 8]\n"
          ]
        }
      ]
    },
    {
      "cell_type": "code",
      "source": [
        "print(varList[2:8:2])"
      ],
      "metadata": {
        "colab": {
          "base_uri": "https://localhost:8080/"
        },
        "id": "l7DVRZvhEgU4",
        "outputId": "28a98f23-cd44-4515-8990-976b3b357d99"
      },
      "execution_count": 108,
      "outputs": [
        {
          "output_type": "stream",
          "name": "stdout",
          "text": [
            "[3, 5, 7]\n"
          ]
        }
      ]
    }
  ]
}